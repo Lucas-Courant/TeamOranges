{
 "cells": [
  {
   "cell_type": "code",
   "execution_count": 2,
   "metadata": {
    "ExecuteTime": {
     "end_time": "2021-06-12T19:48:11.305104Z",
     "start_time": "2021-06-12T19:48:11.294101Z"
    }
   },
   "outputs": [],
   "source": [
    "import pandas as pd"
   ]
  },
  {
   "cell_type": "markdown",
   "metadata": {},
   "source": [
    "**Import Data**"
   ]
  },
  {
   "cell_type": "code",
   "execution_count": 3,
   "metadata": {
    "ExecuteTime": {
     "end_time": "2021-06-12T19:48:12.127288Z",
     "start_time": "2021-06-12T19:48:11.306104Z"
    }
   },
   "outputs": [],
   "source": [
    "census = pd.read_csv('../data/census_bureau_acs_county_2018_5yr.csv')\n",
    "covid = pd.read_csv('../data/covid19_nyt_us_counties.csv')\n",
    "hospital = pd.read_csv('../data/us_healthcare_capacity-county-CovidCareMap.csv')"
   ]
  },
  {
   "cell_type": "markdown",
   "metadata": {},
   "source": [
    "**Covid Data**"
   ]
  },
  {
   "cell_type": "code",
   "execution_count": 4,
   "metadata": {
    "ExecuteTime": {
     "end_time": "2021-06-12T19:48:13.290551Z",
     "start_time": "2021-06-12T19:48:12.128289Z"
    }
   },
   "outputs": [],
   "source": [
    "# interested in county level data\n",
    "# grab max as data is already additive\n",
    "covid = covid.groupby('county_fips_code').max()"
   ]
  },
  {
   "cell_type": "code",
   "execution_count": 5,
   "metadata": {
    "ExecuteTime": {
     "end_time": "2021-06-12T19:48:13.306554Z",
     "start_time": "2021-06-12T19:48:13.291551Z"
    }
   },
   "outputs": [
    {
     "data": {
      "text/plain": [
       "date               0.000000\n",
       "county             0.000000\n",
       "state_name         0.000000\n",
       "confirmed_cases    0.000000\n",
       "deaths             0.024239\n",
       "dtype: float64"
      ]
     },
     "execution_count": 5,
     "metadata": {},
     "output_type": "execute_result"
    }
   ],
   "source": [
    "covid.isna().sum() / covid.shape[0]"
   ]
  },
  {
   "cell_type": "code",
   "execution_count": 6,
   "metadata": {
    "ExecuteTime": {
     "end_time": "2021-06-12T19:48:13.322557Z",
     "start_time": "2021-06-12T19:48:13.307554Z"
    }
   },
   "outputs": [
    {
     "data": {
      "text/plain": [
       "Puerto Rico    78\n",
       "Name: state_name, dtype: int64"
      ]
     },
     "execution_count": 6,
     "metadata": {},
     "output_type": "execute_result"
    }
   ],
   "source": [
    "# check null values of deaths for pattern\n",
    "covid[covid['deaths'].isna()]['state_name'].value_counts()"
   ]
  },
  {
   "cell_type": "code",
   "execution_count": 7,
   "metadata": {
    "ExecuteTime": {
     "end_time": "2021-06-12T19:48:13.338561Z",
     "start_time": "2021-06-12T19:48:13.324558Z"
    }
   },
   "outputs": [],
   "source": [
    "# all data is related to Peurto Rico and less than 3%\n",
    "covid.dropna(inplace=True)"
   ]
  },
  {
   "cell_type": "code",
   "execution_count": 8,
   "metadata": {
    "ExecuteTime": {
     "end_time": "2021-06-12T19:48:13.354564Z",
     "start_time": "2021-06-12T19:48:13.339561Z"
    }
   },
   "outputs": [
    {
     "data": {
      "text/html": [
       "<div>\n",
       "<style scoped>\n",
       "    .dataframe tbody tr th:only-of-type {\n",
       "        vertical-align: middle;\n",
       "    }\n",
       "\n",
       "    .dataframe tbody tr th {\n",
       "        vertical-align: top;\n",
       "    }\n",
       "\n",
       "    .dataframe thead th {\n",
       "        text-align: right;\n",
       "    }\n",
       "</style>\n",
       "<table border=\"1\" class=\"dataframe\">\n",
       "  <thead>\n",
       "    <tr style=\"text-align: right;\">\n",
       "      <th></th>\n",
       "      <th>death_rate</th>\n",
       "    </tr>\n",
       "  </thead>\n",
       "  <tbody>\n",
       "    <tr>\n",
       "      <th>count</th>\n",
       "      <td>3140.000000</td>\n",
       "    </tr>\n",
       "    <tr>\n",
       "      <th>mean</th>\n",
       "      <td>0.019864</td>\n",
       "    </tr>\n",
       "    <tr>\n",
       "      <th>std</th>\n",
       "      <td>0.010036</td>\n",
       "    </tr>\n",
       "    <tr>\n",
       "      <th>min</th>\n",
       "      <td>0.000000</td>\n",
       "    </tr>\n",
       "    <tr>\n",
       "      <th>25%</th>\n",
       "      <td>0.013215</td>\n",
       "    </tr>\n",
       "    <tr>\n",
       "      <th>50%</th>\n",
       "      <td>0.018458</td>\n",
       "    </tr>\n",
       "    <tr>\n",
       "      <th>75%</th>\n",
       "      <td>0.024953</td>\n",
       "    </tr>\n",
       "    <tr>\n",
       "      <th>max</th>\n",
       "      <td>0.097561</td>\n",
       "    </tr>\n",
       "  </tbody>\n",
       "</table>\n",
       "</div>"
      ],
      "text/plain": [
       "        death_rate\n",
       "count  3140.000000\n",
       "mean      0.019864\n",
       "std       0.010036\n",
       "min       0.000000\n",
       "25%       0.013215\n",
       "50%       0.018458\n",
       "75%       0.024953\n",
       "max       0.097561"
      ]
     },
     "execution_count": 8,
     "metadata": {},
     "output_type": "execute_result"
    }
   ],
   "source": [
    "# create target\n",
    "covid['death_rate'] = covid['deaths'] / covid['confirmed_cases']\n",
    "covid = covid[['death_rate']]\n",
    "covid.describe()"
   ]
  },
  {
   "cell_type": "code",
   "execution_count": 9,
   "metadata": {
    "ExecuteTime": {
     "end_time": "2021-06-12T19:48:13.385571Z",
     "start_time": "2021-06-12T19:48:13.356565Z"
    }
   },
   "outputs": [],
   "source": [
    "covid.to_csv('../data/sam_covid.csv')"
   ]
  },
  {
   "cell_type": "markdown",
   "metadata": {},
   "source": [
    "**Hospital Data**"
   ]
  },
  {
   "cell_type": "code",
   "execution_count": 10,
   "metadata": {
    "ExecuteTime": {
     "end_time": "2021-06-12T19:48:13.400577Z",
     "start_time": "2021-06-12T19:48:13.387572Z"
    }
   },
   "outputs": [
    {
     "data": {
      "text/plain": [
       "fips_code                                     0.000000\n",
       "State                                         0.000000\n",
       "County Name                                   0.000000\n",
       "Staffed All Beds                              0.000000\n",
       "Staffed ICU Beds                              0.000000\n",
       "Licensed All Beds                             0.000000\n",
       "All Bed Occupancy Rate                        0.030351\n",
       "ICU Bed Occupancy Rate                        0.444225\n",
       "Population                                    0.000000\n",
       "Population (20+)                              0.000000\n",
       "Population (65+)                              0.000000\n",
       "Staffed All Beds [Per 1000 People]            0.011037\n",
       "Staffed All Beds [Per 1000 Adults (20+)]      0.011037\n",
       "Staffed All Beds [Per 1000 Elderly (65+)]     0.011037\n",
       "Staffed ICU Beds [Per 1000 People]            0.011037\n",
       "Staffed ICU Beds [Per 1000 Adults (20+)]      0.011037\n",
       "Staffed ICU Beds [Per 1000 Elderly (65+)]     0.011037\n",
       "Licensed All Beds [Per 1000 People]           0.011037\n",
       "Licensed All Beds [Per 1000 Adults (20+)]     0.011037\n",
       "Licensed All Beds [Per 1000 Elderly (65+)]    0.011037\n",
       "ICU Bed Source                                0.000000\n",
       "ICU Bed Source Last Updated                   0.999212\n",
       "dtype: float64"
      ]
     },
     "execution_count": 10,
     "metadata": {},
     "output_type": "execute_result"
    }
   ],
   "source": [
    "hospital.isna().sum() / hospital.shape[0]"
   ]
  },
  {
   "cell_type": "code",
   "execution_count": 11,
   "metadata": {
    "ExecuteTime": {
     "end_time": "2021-06-12T19:48:13.416580Z",
     "start_time": "2021-06-12T19:48:13.403576Z"
    }
   },
   "outputs": [],
   "source": [
    "# drop null columns then rows\n",
    "hospital.drop(columns=['ICU Bed Occupancy Rate', \n",
    "                       'ICU Bed Source Last Updated'], inplace=True)\n",
    "hospital.dropna(inplace=True)\n",
    "\n",
    "# set index in in preparation to merge with covid data\n",
    "hospital.set_index('fips_code', inplace=True)"
   ]
  },
  {
   "cell_type": "code",
   "execution_count": 12,
   "metadata": {
    "ExecuteTime": {
     "end_time": "2021-06-12T19:48:13.431583Z",
     "start_time": "2021-06-12T19:48:13.417579Z"
    }
   },
   "outputs": [
    {
     "data": {
      "text/plain": [
       "Index(['State', 'County Name', 'Staffed All Beds', 'Staffed ICU Beds',\n",
       "       'Licensed All Beds', 'All Bed Occupancy Rate', 'Population',\n",
       "       'Population (20+)', 'Population (65+)',\n",
       "       'Staffed All Beds [Per 1000 People]',\n",
       "       'Staffed All Beds [Per 1000 Adults (20+)]',\n",
       "       'Staffed All Beds [Per 1000 Elderly (65+)]',\n",
       "       'Staffed ICU Beds [Per 1000 People]',\n",
       "       'Staffed ICU Beds [Per 1000 Adults (20+)]',\n",
       "       'Staffed ICU Beds [Per 1000 Elderly (65+)]',\n",
       "       'Licensed All Beds [Per 1000 People]',\n",
       "       'Licensed All Beds [Per 1000 Adults (20+)]',\n",
       "       'Licensed All Beds [Per 1000 Elderly (65+)]', 'ICU Bed Source'],\n",
       "      dtype='object')"
      ]
     },
     "execution_count": 12,
     "metadata": {},
     "output_type": "execute_result"
    }
   ],
   "source": [
    "hospital.columns"
   ]
  },
  {
   "cell_type": "code",
   "execution_count": 13,
   "metadata": {
    "ExecuteTime": {
     "end_time": "2021-06-12T19:48:13.478593Z",
     "start_time": "2021-06-12T19:48:13.433583Z"
    },
    "scrolled": true
   },
   "outputs": [
    {
     "data": {
      "text/html": [
       "<div>\n",
       "<style scoped>\n",
       "    .dataframe tbody tr th:only-of-type {\n",
       "        vertical-align: middle;\n",
       "    }\n",
       "\n",
       "    .dataframe tbody tr th {\n",
       "        vertical-align: top;\n",
       "    }\n",
       "\n",
       "    .dataframe thead th {\n",
       "        text-align: right;\n",
       "    }\n",
       "</style>\n",
       "<table border=\"1\" class=\"dataframe\">\n",
       "  <thead>\n",
       "    <tr style=\"text-align: right;\">\n",
       "      <th></th>\n",
       "      <th>Staffed All Beds</th>\n",
       "      <th>Staffed ICU Beds</th>\n",
       "      <th>Licensed All Beds</th>\n",
       "      <th>All Bed Occupancy Rate</th>\n",
       "      <th>Population</th>\n",
       "      <th>Population (20+)</th>\n",
       "      <th>Population (65+)</th>\n",
       "      <th>Staffed All Beds [Per 1000 People]</th>\n",
       "      <th>Staffed All Beds [Per 1000 Adults (20+)]</th>\n",
       "      <th>Staffed All Beds [Per 1000 Elderly (65+)]</th>\n",
       "      <th>Staffed ICU Beds [Per 1000 People]</th>\n",
       "      <th>Staffed ICU Beds [Per 1000 Adults (20+)]</th>\n",
       "      <th>Staffed ICU Beds [Per 1000 Elderly (65+)]</th>\n",
       "      <th>Licensed All Beds [Per 1000 People]</th>\n",
       "      <th>Licensed All Beds [Per 1000 Adults (20+)]</th>\n",
       "      <th>Licensed All Beds [Per 1000 Elderly (65+)]</th>\n",
       "    </tr>\n",
       "  </thead>\n",
       "  <tbody>\n",
       "    <tr>\n",
       "      <th>count</th>\n",
       "      <td>2436.000000</td>\n",
       "      <td>2436.000000</td>\n",
       "      <td>2436.000000</td>\n",
       "      <td>2436.000000</td>\n",
       "      <td>2.436000e+03</td>\n",
       "      <td>2.436000e+03</td>\n",
       "      <td>2.436000e+03</td>\n",
       "      <td>2436.000000</td>\n",
       "      <td>2436.000000</td>\n",
       "      <td>2436.000000</td>\n",
       "      <td>2436.000000</td>\n",
       "      <td>2436.000000</td>\n",
       "      <td>2436.000000</td>\n",
       "      <td>2436.000000</td>\n",
       "      <td>2436.000000</td>\n",
       "      <td>2436.000000</td>\n",
       "    </tr>\n",
       "    <tr>\n",
       "      <th>mean</th>\n",
       "      <td>332.106322</td>\n",
       "      <td>32.389163</td>\n",
       "      <td>428.863711</td>\n",
       "      <td>0.416203</td>\n",
       "      <td>1.296366e+05</td>\n",
       "      <td>9.711367e+04</td>\n",
       "      <td>2.064483e+04</td>\n",
       "      <td>2.665162</td>\n",
       "      <td>3.547758</td>\n",
       "      <td>14.597846</td>\n",
       "      <td>0.164152</td>\n",
       "      <td>0.218610</td>\n",
       "      <td>0.961966</td>\n",
       "      <td>3.453977</td>\n",
       "      <td>4.594261</td>\n",
       "      <td>18.994130</td>\n",
       "    </tr>\n",
       "    <tr>\n",
       "      <th>std</th>\n",
       "      <td>1003.550685</td>\n",
       "      <td>103.038696</td>\n",
       "      <td>1279.834426</td>\n",
       "      <td>0.209624</td>\n",
       "      <td>3.747552e+05</td>\n",
       "      <td>2.809996e+05</td>\n",
       "      <td>5.350184e+04</td>\n",
       "      <td>2.417202</td>\n",
       "      <td>3.175213</td>\n",
       "      <td>12.894066</td>\n",
       "      <td>0.231258</td>\n",
       "      <td>0.307273</td>\n",
       "      <td>1.375051</td>\n",
       "      <td>3.906481</td>\n",
       "      <td>5.076848</td>\n",
       "      <td>20.905135</td>\n",
       "    </tr>\n",
       "    <tr>\n",
       "      <th>min</th>\n",
       "      <td>2.000000</td>\n",
       "      <td>0.000000</td>\n",
       "      <td>0.000000</td>\n",
       "      <td>0.000000</td>\n",
       "      <td>1.087000e+03</td>\n",
       "      <td>8.800000e+02</td>\n",
       "      <td>2.540000e+02</td>\n",
       "      <td>0.092000</td>\n",
       "      <td>0.128000</td>\n",
       "      <td>0.493000</td>\n",
       "      <td>0.000000</td>\n",
       "      <td>0.000000</td>\n",
       "      <td>0.000000</td>\n",
       "      <td>0.000000</td>\n",
       "      <td>0.000000</td>\n",
       "      <td>0.000000</td>\n",
       "    </tr>\n",
       "    <tr>\n",
       "      <th>25%</th>\n",
       "      <td>25.000000</td>\n",
       "      <td>0.000000</td>\n",
       "      <td>25.000000</td>\n",
       "      <td>0.240000</td>\n",
       "      <td>1.550450e+04</td>\n",
       "      <td>1.171075e+04</td>\n",
       "      <td>3.064000e+03</td>\n",
       "      <td>1.291000</td>\n",
       "      <td>1.710500</td>\n",
       "      <td>6.940500</td>\n",
       "      <td>0.000000</td>\n",
       "      <td>0.000000</td>\n",
       "      <td>0.000000</td>\n",
       "      <td>1.588000</td>\n",
       "      <td>2.113750</td>\n",
       "      <td>8.511000</td>\n",
       "    </tr>\n",
       "    <tr>\n",
       "      <th>50%</th>\n",
       "      <td>50.000000</td>\n",
       "      <td>6.000000</td>\n",
       "      <td>76.000000</td>\n",
       "      <td>0.400000</td>\n",
       "      <td>3.563350e+04</td>\n",
       "      <td>2.688050e+04</td>\n",
       "      <td>6.643500e+03</td>\n",
       "      <td>2.038500</td>\n",
       "      <td>2.720500</td>\n",
       "      <td>11.203000</td>\n",
       "      <td>0.119000</td>\n",
       "      <td>0.160000</td>\n",
       "      <td>0.658000</td>\n",
       "      <td>2.626500</td>\n",
       "      <td>3.506000</td>\n",
       "      <td>14.336000</td>\n",
       "    </tr>\n",
       "    <tr>\n",
       "      <th>75%</th>\n",
       "      <td>209.000000</td>\n",
       "      <td>20.000000</td>\n",
       "      <td>272.250000</td>\n",
       "      <td>0.590000</td>\n",
       "      <td>9.681875e+04</td>\n",
       "      <td>7.229200e+04</td>\n",
       "      <td>1.637425e+04</td>\n",
       "      <td>3.138000</td>\n",
       "      <td>4.210000</td>\n",
       "      <td>17.792750</td>\n",
       "      <td>0.242250</td>\n",
       "      <td>0.322250</td>\n",
       "      <td>1.354500</td>\n",
       "      <td>4.081500</td>\n",
       "      <td>5.441500</td>\n",
       "      <td>22.717250</td>\n",
       "    </tr>\n",
       "    <tr>\n",
       "      <th>max</th>\n",
       "      <td>23071.000000</td>\n",
       "      <td>2305.000000</td>\n",
       "      <td>27400.000000</td>\n",
       "      <td>1.000000</td>\n",
       "      <td>1.010552e+07</td>\n",
       "      <td>7.658126e+06</td>\n",
       "      <td>1.375957e+06</td>\n",
       "      <td>30.373000</td>\n",
       "      <td>39.077000</td>\n",
       "      <td>155.666000</td>\n",
       "      <td>3.728000</td>\n",
       "      <td>4.797000</td>\n",
       "      <td>18.824000</td>\n",
       "      <td>97.226000</td>\n",
       "      <td>120.423000</td>\n",
       "      <td>463.326000</td>\n",
       "    </tr>\n",
       "  </tbody>\n",
       "</table>\n",
       "</div>"
      ],
      "text/plain": [
       "       Staffed All Beds  Staffed ICU Beds  Licensed All Beds  \\\n",
       "count       2436.000000       2436.000000        2436.000000   \n",
       "mean         332.106322         32.389163         428.863711   \n",
       "std         1003.550685        103.038696        1279.834426   \n",
       "min            2.000000          0.000000           0.000000   \n",
       "25%           25.000000          0.000000          25.000000   \n",
       "50%           50.000000          6.000000          76.000000   \n",
       "75%          209.000000         20.000000         272.250000   \n",
       "max        23071.000000       2305.000000       27400.000000   \n",
       "\n",
       "       All Bed Occupancy Rate    Population  Population (20+)  \\\n",
       "count             2436.000000  2.436000e+03      2.436000e+03   \n",
       "mean                 0.416203  1.296366e+05      9.711367e+04   \n",
       "std                  0.209624  3.747552e+05      2.809996e+05   \n",
       "min                  0.000000  1.087000e+03      8.800000e+02   \n",
       "25%                  0.240000  1.550450e+04      1.171075e+04   \n",
       "50%                  0.400000  3.563350e+04      2.688050e+04   \n",
       "75%                  0.590000  9.681875e+04      7.229200e+04   \n",
       "max                  1.000000  1.010552e+07      7.658126e+06   \n",
       "\n",
       "       Population (65+)  Staffed All Beds [Per 1000 People]  \\\n",
       "count      2.436000e+03                         2436.000000   \n",
       "mean       2.064483e+04                            2.665162   \n",
       "std        5.350184e+04                            2.417202   \n",
       "min        2.540000e+02                            0.092000   \n",
       "25%        3.064000e+03                            1.291000   \n",
       "50%        6.643500e+03                            2.038500   \n",
       "75%        1.637425e+04                            3.138000   \n",
       "max        1.375957e+06                           30.373000   \n",
       "\n",
       "       Staffed All Beds [Per 1000 Adults (20+)]  \\\n",
       "count                               2436.000000   \n",
       "mean                                   3.547758   \n",
       "std                                    3.175213   \n",
       "min                                    0.128000   \n",
       "25%                                    1.710500   \n",
       "50%                                    2.720500   \n",
       "75%                                    4.210000   \n",
       "max                                   39.077000   \n",
       "\n",
       "       Staffed All Beds [Per 1000 Elderly (65+)]  \\\n",
       "count                                2436.000000   \n",
       "mean                                   14.597846   \n",
       "std                                    12.894066   \n",
       "min                                     0.493000   \n",
       "25%                                     6.940500   \n",
       "50%                                    11.203000   \n",
       "75%                                    17.792750   \n",
       "max                                   155.666000   \n",
       "\n",
       "       Staffed ICU Beds [Per 1000 People]  \\\n",
       "count                         2436.000000   \n",
       "mean                             0.164152   \n",
       "std                              0.231258   \n",
       "min                              0.000000   \n",
       "25%                              0.000000   \n",
       "50%                              0.119000   \n",
       "75%                              0.242250   \n",
       "max                              3.728000   \n",
       "\n",
       "       Staffed ICU Beds [Per 1000 Adults (20+)]  \\\n",
       "count                               2436.000000   \n",
       "mean                                   0.218610   \n",
       "std                                    0.307273   \n",
       "min                                    0.000000   \n",
       "25%                                    0.000000   \n",
       "50%                                    0.160000   \n",
       "75%                                    0.322250   \n",
       "max                                    4.797000   \n",
       "\n",
       "       Staffed ICU Beds [Per 1000 Elderly (65+)]  \\\n",
       "count                                2436.000000   \n",
       "mean                                    0.961966   \n",
       "std                                     1.375051   \n",
       "min                                     0.000000   \n",
       "25%                                     0.000000   \n",
       "50%                                     0.658000   \n",
       "75%                                     1.354500   \n",
       "max                                    18.824000   \n",
       "\n",
       "       Licensed All Beds [Per 1000 People]  \\\n",
       "count                          2436.000000   \n",
       "mean                              3.453977   \n",
       "std                               3.906481   \n",
       "min                               0.000000   \n",
       "25%                               1.588000   \n",
       "50%                               2.626500   \n",
       "75%                               4.081500   \n",
       "max                              97.226000   \n",
       "\n",
       "       Licensed All Beds [Per 1000 Adults (20+)]  \\\n",
       "count                                2436.000000   \n",
       "mean                                    4.594261   \n",
       "std                                     5.076848   \n",
       "min                                     0.000000   \n",
       "25%                                     2.113750   \n",
       "50%                                     3.506000   \n",
       "75%                                     5.441500   \n",
       "max                                   120.423000   \n",
       "\n",
       "       Licensed All Beds [Per 1000 Elderly (65+)]  \n",
       "count                                 2436.000000  \n",
       "mean                                    18.994130  \n",
       "std                                     20.905135  \n",
       "min                                      0.000000  \n",
       "25%                                      8.511000  \n",
       "50%                                     14.336000  \n",
       "75%                                     22.717250  \n",
       "max                                    463.326000  "
      ]
     },
     "execution_count": 13,
     "metadata": {},
     "output_type": "execute_result"
    }
   ],
   "source": [
    "hospital = hospital[['Staffed All Beds',\n",
    "                     'Staffed ICU Beds',\n",
    "                     'Licensed All Beds',\n",
    "                     'All Bed Occupancy Rate',\n",
    "                     'Population',\n",
    "                     'Population (20+)',\n",
    "                     'Population (65+)',\n",
    "                     'Staffed All Beds [Per 1000 People]',\n",
    "                     'Staffed All Beds [Per 1000 Adults (20+)]',\n",
    "                     'Staffed All Beds [Per 1000 Elderly (65+)]',\n",
    "                     'Staffed ICU Beds [Per 1000 People]',\n",
    "                     'Staffed ICU Beds [Per 1000 Adults (20+)]',\n",
    "                     'Staffed ICU Beds [Per 1000 Elderly (65+)]',\n",
    "                     'Licensed All Beds [Per 1000 People]',\n",
    "                     'Licensed All Beds [Per 1000 Adults (20+)]',\n",
    "                     'Licensed All Beds [Per 1000 Elderly (65+)]']]\n",
    "hospital.describe()"
   ]
  },
  {
   "cell_type": "markdown",
   "metadata": {},
   "source": [
    "**Census Data**"
   ]
  },
  {
   "cell_type": "code",
   "execution_count": 14,
   "metadata": {
    "ExecuteTime": {
     "end_time": "2021-06-12T19:48:13.493596Z",
     "start_time": "2021-06-12T19:48:13.479594Z"
    }
   },
   "outputs": [
    {
     "data": {
      "text/plain": [
       "121"
      ]
     },
     "execution_count": 14,
     "metadata": {},
     "output_type": "execute_result"
    }
   ],
   "source": [
    "len(census.columns[census.isna().sum() > 0])"
   ]
  },
  {
   "cell_type": "code",
   "execution_count": 15,
   "metadata": {
    "ExecuteTime": {
     "end_time": "2021-06-12T19:48:13.509600Z",
     "start_time": "2021-06-12T19:48:13.494597Z"
    }
   },
   "outputs": [
    {
     "data": {
      "text/plain": [
       "count     121.000000\n",
       "mean      274.206612\n",
       "std       888.196768\n",
       "min         1.000000\n",
       "25%         1.000000\n",
       "50%         1.000000\n",
       "75%         1.000000\n",
       "max      3220.000000\n",
       "dtype: float64"
      ]
     },
     "execution_count": 15,
     "metadata": {},
     "output_type": "execute_result"
    }
   ],
   "source": [
    "census[census.columns[census.isna().sum() > 0]].isna().sum().describe()"
   ]
  },
  {
   "cell_type": "code",
   "execution_count": 16,
   "metadata": {
    "ExecuteTime": {
     "end_time": "2021-06-12T19:48:13.541607Z",
     "start_time": "2021-06-12T19:48:13.510601Z"
    }
   },
   "outputs": [
    {
     "data": {
      "text/html": [
       "<div>\n",
       "<style scoped>\n",
       "    .dataframe tbody tr th:only-of-type {\n",
       "        vertical-align: middle;\n",
       "    }\n",
       "\n",
       "    .dataframe tbody tr th {\n",
       "        vertical-align: top;\n",
       "    }\n",
       "\n",
       "    .dataframe thead th {\n",
       "        text-align: right;\n",
       "    }\n",
       "</style>\n",
       "<table border=\"1\" class=\"dataframe\">\n",
       "  <thead>\n",
       "    <tr style=\"text-align: right;\">\n",
       "      <th></th>\n",
       "      <th>geo_id</th>\n",
       "      <th>pop_16_over</th>\n",
       "      <th>pop_25_64</th>\n",
       "      <th>median_income</th>\n",
       "      <th>income_per_capita</th>\n",
       "      <th>income_less_10000</th>\n",
       "      <th>income_10000_14999</th>\n",
       "      <th>income_15000_19999</th>\n",
       "      <th>income_20000_24999</th>\n",
       "      <th>income_25000_29999</th>\n",
       "      <th>...</th>\n",
       "      <th>employed_science_management_admin_waste</th>\n",
       "      <th>employed_transportation_warehousing_utilities</th>\n",
       "      <th>employed_wholesale_trade</th>\n",
       "      <th>occupation_management_arts</th>\n",
       "      <th>occupation_natural_resources_construction_maintenance</th>\n",
       "      <th>occupation_production_transportation_material</th>\n",
       "      <th>occupation_sales_office</th>\n",
       "      <th>occupation_services</th>\n",
       "      <th>management_business_sci_arts_employed</th>\n",
       "      <th>sales_office_employed</th>\n",
       "    </tr>\n",
       "  </thead>\n",
       "  <tbody>\n",
       "    <tr>\n",
       "      <th>0</th>\n",
       "      <td>35039</td>\n",
       "      <td>NaN</td>\n",
       "      <td>NaN</td>\n",
       "      <td>NaN</td>\n",
       "      <td>NaN</td>\n",
       "      <td>NaN</td>\n",
       "      <td>NaN</td>\n",
       "      <td>NaN</td>\n",
       "      <td>NaN</td>\n",
       "      <td>NaN</td>\n",
       "      <td>...</td>\n",
       "      <td>NaN</td>\n",
       "      <td>NaN</td>\n",
       "      <td>NaN</td>\n",
       "      <td>NaN</td>\n",
       "      <td>NaN</td>\n",
       "      <td>NaN</td>\n",
       "      <td>NaN</td>\n",
       "      <td>NaN</td>\n",
       "      <td>NaN</td>\n",
       "      <td>NaN</td>\n",
       "    </tr>\n",
       "  </tbody>\n",
       "</table>\n",
       "<p>1 rows × 96 columns</p>\n",
       "</div>"
      ],
      "text/plain": [
       "   geo_id  pop_16_over  pop_25_64  median_income  income_per_capita  \\\n",
       "0   35039          NaN        NaN            NaN                NaN   \n",
       "\n",
       "   income_less_10000  income_10000_14999  income_15000_19999  \\\n",
       "0                NaN                 NaN                 NaN   \n",
       "\n",
       "   income_20000_24999  income_25000_29999  ...  \\\n",
       "0                 NaN                 NaN  ...   \n",
       "\n",
       "   employed_science_management_admin_waste  \\\n",
       "0                                      NaN   \n",
       "\n",
       "   employed_transportation_warehousing_utilities  employed_wholesale_trade  \\\n",
       "0                                            NaN                       NaN   \n",
       "\n",
       "   occupation_management_arts  \\\n",
       "0                         NaN   \n",
       "\n",
       "   occupation_natural_resources_construction_maintenance  \\\n",
       "0                                                NaN       \n",
       "\n",
       "   occupation_production_transportation_material  occupation_sales_office  \\\n",
       "0                                            NaN                      NaN   \n",
       "\n",
       "   occupation_services  management_business_sci_arts_employed  \\\n",
       "0                  NaN                                    NaN   \n",
       "\n",
       "   sales_office_employed  \n",
       "0                    NaN  \n",
       "\n",
       "[1 rows x 96 columns]"
      ]
     },
     "execution_count": 16,
     "metadata": {},
     "output_type": "execute_result"
    }
   ],
   "source": [
    "one_null_lst = ['geo_id'] + list(census.columns[census.isna().sum() == 1])\n",
    "census[one_null_lst][census[one_null_lst].isna().any(axis=1)]"
   ]
  },
  {
   "cell_type": "code",
   "execution_count": 17,
   "metadata": {
    "ExecuteTime": {
     "end_time": "2021-06-12T19:48:13.557613Z",
     "start_time": "2021-06-12T19:48:13.542607Z"
    }
   },
   "outputs": [
    {
     "data": {
      "text/plain": [
       "(3220, 242)"
      ]
     },
     "execution_count": 17,
     "metadata": {},
     "output_type": "execute_result"
    }
   ],
   "source": [
    "census.shape"
   ]
  },
  {
   "cell_type": "code",
   "execution_count": 18,
   "metadata": {
    "ExecuteTime": {
     "end_time": "2021-06-12T19:48:13.573618Z",
     "start_time": "2021-06-12T19:48:13.558614Z"
    }
   },
   "outputs": [
    {
     "data": {
      "text/plain": [
       "population_1_year_and_over                  79\n",
       "not_us_citizen_pop                          78\n",
       "different_house_year_ago_different_city     79\n",
       "different_house_year_ago_same_city          79\n",
       "aggregate_travel_time_to_work              158\n",
       "less_than_high_school_graduate              79\n",
       "high_school_including_ged                   79\n",
       "bachelors_degree_2                          79\n",
       "graduate_professional_degree                79\n",
       "some_college_and_associates_degree          79\n",
       "dtype: int64"
      ]
     },
     "execution_count": 18,
     "metadata": {},
     "output_type": "execute_result"
    }
   ],
   "source": [
    "census[list(census.columns[(census.isna().sum() > 5) & (census.isna().sum() < 3220)])].isna().sum()"
   ]
  },
  {
   "cell_type": "code",
   "execution_count": 19,
   "metadata": {
    "ExecuteTime": {
     "end_time": "2021-06-12T19:48:13.589621Z",
     "start_time": "2021-06-12T19:48:13.574617Z"
    }
   },
   "outputs": [
    {
     "data": {
      "text/plain": [
       "(3219, 95)"
      ]
     },
     "execution_count": 19,
     "metadata": {},
     "output_type": "execute_result"
    }
   ],
   "source": [
    "census[census.columns[census.isna().sum() == 1]].dropna().shape"
   ]
  },
  {
   "cell_type": "code",
   "execution_count": 20,
   "metadata": {
    "ExecuteTime": {
     "end_time": "2021-06-12T19:48:13.604624Z",
     "start_time": "2021-06-12T19:48:13.590622Z"
    }
   },
   "outputs": [
    {
     "data": {
      "text/plain": [
       "(3220, 242)"
      ]
     },
     "execution_count": 20,
     "metadata": {},
     "output_type": "execute_result"
    }
   ],
   "source": [
    "census.shape"
   ]
  },
  {
   "cell_type": "code",
   "execution_count": 21,
   "metadata": {
    "ExecuteTime": {
     "end_time": "2021-06-12T19:48:13.634631Z",
     "start_time": "2021-06-12T19:48:13.606625Z"
    }
   },
   "outputs": [],
   "source": [
    "census = census.drop(list(census.columns[census.isna().sum() > 100]), axis=1)\n",
    "census = census.dropna()"
   ]
  },
  {
   "cell_type": "code",
   "execution_count": 22,
   "metadata": {
    "ExecuteTime": {
     "end_time": "2021-06-12T19:48:13.650634Z",
     "start_time": "2021-06-12T19:48:13.635631Z"
    }
   },
   "outputs": [],
   "source": [
    "# poverty rate == poverty / pop_determined_poverty_status\n",
    "census['poverty_rate'] = census['poverty'] / census['pop_determined_poverty_status']"
   ]
  },
  {
   "cell_type": "code",
   "execution_count": 23,
   "metadata": {
    "ExecuteTime": {
     "end_time": "2021-06-12T19:48:13.666638Z",
     "start_time": "2021-06-12T19:48:13.652635Z"
    }
   },
   "outputs": [],
   "source": [
    "census = census.set_index('geo_id')"
   ]
  },
  {
   "cell_type": "code",
   "execution_count": 24,
   "metadata": {
    "ExecuteTime": {
     "end_time": "2021-06-12T19:48:14.099735Z",
     "start_time": "2021-06-12T19:48:13.668638Z"
    }
   },
   "outputs": [],
   "source": [
    "census.to_csv('../data/sam_census.csv')"
   ]
  },
  {
   "cell_type": "markdown",
   "metadata": {},
   "source": [
    "**Merge Datasets**\n",
    "\n",
    "Merge on fips code\n",
    "* covid\n",
    "* census\n",
    "* hospital"
   ]
  },
  {
   "cell_type": "code",
   "execution_count": 93,
   "metadata": {
    "ExecuteTime": {
     "end_time": "2021-06-12T18:38:04.088448Z",
     "start_time": "2021-06-12T18:38:04.058441Z"
    }
   },
   "outputs": [],
   "source": [
    "df = census.merge(covid, left_index=True, right_index=True)\n",
    "df = df.merge(hospital, left_index=True, right_index=True)"
   ]
  },
  {
   "cell_type": "code",
   "execution_count": 94,
   "metadata": {
    "ExecuteTime": {
     "end_time": "2021-06-12T18:38:04.104451Z",
     "start_time": "2021-06-12T18:38:04.089448Z"
    }
   },
   "outputs": [
    {
     "data": {
      "text/plain": [
       "(2430, 248)"
      ]
     },
     "execution_count": 94,
     "metadata": {},
     "output_type": "execute_result"
    }
   ],
   "source": [
    "df.shape"
   ]
  },
  {
   "cell_type": "markdown",
   "metadata": {},
   "source": [
    "**Save Dataset**"
   ]
  },
  {
   "cell_type": "code",
   "execution_count": 95,
   "metadata": {
    "ExecuteTime": {
     "end_time": "2021-06-12T18:38:04.461536Z",
     "start_time": "2021-06-12T18:38:04.105452Z"
    }
   },
   "outputs": [],
   "source": [
    "df.to_csv('../data/sam_dataset.csv')"
   ]
  },
  {
   "cell_type": "markdown",
   "metadata": {},
   "source": [
    "## Checking Colinearity"
   ]
  },
  {
   "cell_type": "code",
   "execution_count": 75,
   "metadata": {
    "ExecuteTime": {
     "end_time": "2021-06-12T21:00:06.767650Z",
     "start_time": "2021-06-12T21:00:06.760649Z"
    }
   },
   "outputs": [],
   "source": [
    "def check_vif(df, drop=None):\n",
    "    X = df.copy()\n",
    "    if drop:\n",
    "        X = X.drop(drop, axis=1)\n",
    "    vif_data = pd.DataFrame()\n",
    "    vif_data['features'] = X.columns\n",
    "    vif_data['VIF'] = [vif(X.values, i) for i in range(len(X.columns))]\n",
    "    return vif_data"
   ]
  },
  {
   "cell_type": "code",
   "execution_count": 76,
   "metadata": {
    "ExecuteTime": {
     "end_time": "2021-06-12T21:00:09.252703Z",
     "start_time": "2021-06-12T21:00:09.214696Z"
    },
    "scrolled": false
   },
   "outputs": [
    {
     "data": {
      "text/html": [
       "<div>\n",
       "<style scoped>\n",
       "    .dataframe tbody tr th:only-of-type {\n",
       "        vertical-align: middle;\n",
       "    }\n",
       "\n",
       "    .dataframe tbody tr th {\n",
       "        vertical-align: top;\n",
       "    }\n",
       "\n",
       "    .dataframe thead th {\n",
       "        text-align: right;\n",
       "    }\n",
       "</style>\n",
       "<table border=\"1\" class=\"dataframe\">\n",
       "  <thead>\n",
       "    <tr style=\"text-align: right;\">\n",
       "      <th></th>\n",
       "      <th>features</th>\n",
       "      <th>VIF</th>\n",
       "    </tr>\n",
       "  </thead>\n",
       "  <tbody>\n",
       "    <tr>\n",
       "      <th>0</th>\n",
       "      <td>Staffed All Beds</td>\n",
       "      <td>139.614618</td>\n",
       "    </tr>\n",
       "    <tr>\n",
       "      <th>1</th>\n",
       "      <td>Staffed ICU Beds</td>\n",
       "      <td>36.295288</td>\n",
       "    </tr>\n",
       "    <tr>\n",
       "      <th>2</th>\n",
       "      <td>Licensed All Beds</td>\n",
       "      <td>97.308265</td>\n",
       "    </tr>\n",
       "    <tr>\n",
       "      <th>3</th>\n",
       "      <td>All Bed Occupancy Rate</td>\n",
       "      <td>3.085035</td>\n",
       "    </tr>\n",
       "    <tr>\n",
       "      <th>4</th>\n",
       "      <td>Population</td>\n",
       "      <td>1528.107979</td>\n",
       "    </tr>\n",
       "    <tr>\n",
       "      <th>5</th>\n",
       "      <td>Population (20+)</td>\n",
       "      <td>1897.727269</td>\n",
       "    </tr>\n",
       "    <tr>\n",
       "      <th>6</th>\n",
       "      <td>Population (65+)</td>\n",
       "      <td>69.766229</td>\n",
       "    </tr>\n",
       "    <tr>\n",
       "      <th>7</th>\n",
       "      <td>Staffed All Beds [Per 1000 People]</td>\n",
       "      <td>3286.278987</td>\n",
       "    </tr>\n",
       "    <tr>\n",
       "      <th>8</th>\n",
       "      <td>Staffed All Beds [Per 1000 Adults (20+)]</td>\n",
       "      <td>4396.739176</td>\n",
       "    </tr>\n",
       "    <tr>\n",
       "      <th>9</th>\n",
       "      <td>Staffed All Beds [Per 1000 Elderly (65+)]</td>\n",
       "      <td>338.673213</td>\n",
       "    </tr>\n",
       "    <tr>\n",
       "      <th>10</th>\n",
       "      <td>Staffed ICU Beds [Per 1000 People]</td>\n",
       "      <td>1778.022748</td>\n",
       "    </tr>\n",
       "    <tr>\n",
       "      <th>11</th>\n",
       "      <td>Staffed ICU Beds [Per 1000 Adults (20+)]</td>\n",
       "      <td>2230.064225</td>\n",
       "    </tr>\n",
       "    <tr>\n",
       "      <th>12</th>\n",
       "      <td>Staffed ICU Beds [Per 1000 Elderly (65+)]</td>\n",
       "      <td>97.774573</td>\n",
       "    </tr>\n",
       "    <tr>\n",
       "      <th>13</th>\n",
       "      <td>Licensed All Beds [Per 1000 People]</td>\n",
       "      <td>3302.027141</td>\n",
       "    </tr>\n",
       "    <tr>\n",
       "      <th>14</th>\n",
       "      <td>Licensed All Beds [Per 1000 Adults (20+)]</td>\n",
       "      <td>4582.347409</td>\n",
       "    </tr>\n",
       "    <tr>\n",
       "      <th>15</th>\n",
       "      <td>Licensed All Beds [Per 1000 Elderly (65+)]</td>\n",
       "      <td>460.374608</td>\n",
       "    </tr>\n",
       "  </tbody>\n",
       "</table>\n",
       "</div>"
      ],
      "text/plain": [
       "                                      features          VIF\n",
       "0                             Staffed All Beds   139.614618\n",
       "1                             Staffed ICU Beds    36.295288\n",
       "2                            Licensed All Beds    97.308265\n",
       "3                       All Bed Occupancy Rate     3.085035\n",
       "4                                   Population  1528.107979\n",
       "5                             Population (20+)  1897.727269\n",
       "6                             Population (65+)    69.766229\n",
       "7           Staffed All Beds [Per 1000 People]  3286.278987\n",
       "8     Staffed All Beds [Per 1000 Adults (20+)]  4396.739176\n",
       "9    Staffed All Beds [Per 1000 Elderly (65+)]   338.673213\n",
       "10          Staffed ICU Beds [Per 1000 People]  1778.022748\n",
       "11    Staffed ICU Beds [Per 1000 Adults (20+)]  2230.064225\n",
       "12   Staffed ICU Beds [Per 1000 Elderly (65+)]    97.774573\n",
       "13         Licensed All Beds [Per 1000 People]  3302.027141\n",
       "14   Licensed All Beds [Per 1000 Adults (20+)]  4582.347409\n",
       "15  Licensed All Beds [Per 1000 Elderly (65+)]   460.374608"
      ]
     },
     "execution_count": 76,
     "metadata": {},
     "output_type": "execute_result"
    }
   ],
   "source": [
    "check_vif(hospital)"
   ]
  },
  {
   "cell_type": "code",
   "execution_count": 77,
   "metadata": {
    "ExecuteTime": {
     "end_time": "2021-06-12T21:00:13.484086Z",
     "start_time": "2021-06-12T21:00:13.448079Z"
    }
   },
   "outputs": [
    {
     "data": {
      "text/html": [
       "<div>\n",
       "<style scoped>\n",
       "    .dataframe tbody tr th:only-of-type {\n",
       "        vertical-align: middle;\n",
       "    }\n",
       "\n",
       "    .dataframe tbody tr th {\n",
       "        vertical-align: top;\n",
       "    }\n",
       "\n",
       "    .dataframe thead th {\n",
       "        text-align: right;\n",
       "    }\n",
       "</style>\n",
       "<table border=\"1\" class=\"dataframe\">\n",
       "  <thead>\n",
       "    <tr style=\"text-align: right;\">\n",
       "      <th></th>\n",
       "      <th>features</th>\n",
       "      <th>VIF</th>\n",
       "    </tr>\n",
       "  </thead>\n",
       "  <tbody>\n",
       "    <tr>\n",
       "      <th>0</th>\n",
       "      <td>Staffed All Beds</td>\n",
       "      <td>136.397337</td>\n",
       "    </tr>\n",
       "    <tr>\n",
       "      <th>1</th>\n",
       "      <td>Staffed ICU Beds</td>\n",
       "      <td>36.018933</td>\n",
       "    </tr>\n",
       "    <tr>\n",
       "      <th>2</th>\n",
       "      <td>Licensed All Beds</td>\n",
       "      <td>95.734126</td>\n",
       "    </tr>\n",
       "    <tr>\n",
       "      <th>3</th>\n",
       "      <td>Population</td>\n",
       "      <td>1502.209887</td>\n",
       "    </tr>\n",
       "    <tr>\n",
       "      <th>4</th>\n",
       "      <td>Population (20+)</td>\n",
       "      <td>1857.253617</td>\n",
       "    </tr>\n",
       "    <tr>\n",
       "      <th>5</th>\n",
       "      <td>Population (65+)</td>\n",
       "      <td>62.751255</td>\n",
       "    </tr>\n",
       "    <tr>\n",
       "      <th>6</th>\n",
       "      <td>Staffed All Beds [Per 1000 People]</td>\n",
       "      <td>3263.328079</td>\n",
       "    </tr>\n",
       "    <tr>\n",
       "      <th>7</th>\n",
       "      <td>Staffed All Beds [Per 1000 Adults (20+)]</td>\n",
       "      <td>4360.853258</td>\n",
       "    </tr>\n",
       "    <tr>\n",
       "      <th>8</th>\n",
       "      <td>Staffed All Beds [Per 1000 Elderly (65+)]</td>\n",
       "      <td>334.254105</td>\n",
       "    </tr>\n",
       "    <tr>\n",
       "      <th>9</th>\n",
       "      <td>Staffed ICU Beds [Per 1000 People]</td>\n",
       "      <td>1774.835717</td>\n",
       "    </tr>\n",
       "    <tr>\n",
       "      <th>10</th>\n",
       "      <td>Staffed ICU Beds [Per 1000 Adults (20+)]</td>\n",
       "      <td>2223.997235</td>\n",
       "    </tr>\n",
       "    <tr>\n",
       "      <th>11</th>\n",
       "      <td>Staffed ICU Beds [Per 1000 Elderly (65+)]</td>\n",
       "      <td>96.332197</td>\n",
       "    </tr>\n",
       "    <tr>\n",
       "      <th>12</th>\n",
       "      <td>Licensed All Beds [Per 1000 People]</td>\n",
       "      <td>3287.409057</td>\n",
       "    </tr>\n",
       "    <tr>\n",
       "      <th>13</th>\n",
       "      <td>Licensed All Beds [Per 1000 Adults (20+)]</td>\n",
       "      <td>4554.184501</td>\n",
       "    </tr>\n",
       "    <tr>\n",
       "      <th>14</th>\n",
       "      <td>Licensed All Beds [Per 1000 Elderly (65+)]</td>\n",
       "      <td>457.871657</td>\n",
       "    </tr>\n",
       "  </tbody>\n",
       "</table>\n",
       "</div>"
      ],
      "text/plain": [
       "                                      features          VIF\n",
       "0                             Staffed All Beds   136.397337\n",
       "1                             Staffed ICU Beds    36.018933\n",
       "2                            Licensed All Beds    95.734126\n",
       "3                                   Population  1502.209887\n",
       "4                             Population (20+)  1857.253617\n",
       "5                             Population (65+)    62.751255\n",
       "6           Staffed All Beds [Per 1000 People]  3263.328079\n",
       "7     Staffed All Beds [Per 1000 Adults (20+)]  4360.853258\n",
       "8    Staffed All Beds [Per 1000 Elderly (65+)]   334.254105\n",
       "9           Staffed ICU Beds [Per 1000 People]  1774.835717\n",
       "10    Staffed ICU Beds [Per 1000 Adults (20+)]  2223.997235\n",
       "11   Staffed ICU Beds [Per 1000 Elderly (65+)]    96.332197\n",
       "12         Licensed All Beds [Per 1000 People]  3287.409057\n",
       "13   Licensed All Beds [Per 1000 Adults (20+)]  4554.184501\n",
       "14  Licensed All Beds [Per 1000 Elderly (65+)]   457.871657"
      ]
     },
     "execution_count": 77,
     "metadata": {},
     "output_type": "execute_result"
    }
   ],
   "source": [
    "check_vif(hospital, drop='All Bed Occupancy Rate')"
   ]
  },
  {
   "cell_type": "code",
   "execution_count": 78,
   "metadata": {
    "ExecuteTime": {
     "end_time": "2021-06-12T21:00:15.944141Z",
     "start_time": "2021-06-12T21:00:15.936140Z"
    },
    "scrolled": true
   },
   "outputs": [
    {
     "data": {
      "text/plain": [
       "['do_date',\n",
       " 'total_pop',\n",
       " 'households',\n",
       " 'male_pop',\n",
       " 'female_pop',\n",
       " 'median_age',\n",
       " 'male_under_5',\n",
       " 'male_5_to_9',\n",
       " 'male_10_to_14',\n",
       " 'male_15_to_17',\n",
       " 'male_18_to_19',\n",
       " 'male_20',\n",
       " 'male_21',\n",
       " 'male_22_to_24',\n",
       " 'male_25_to_29',\n",
       " 'male_30_to_34',\n",
       " 'male_35_to_39',\n",
       " 'male_40_to_44',\n",
       " 'male_45_to_49',\n",
       " 'male_50_to_54',\n",
       " 'male_55_to_59',\n",
       " 'male_60_to_61',\n",
       " 'male_62_to_64',\n",
       " 'male_65_to_66',\n",
       " 'male_67_to_69',\n",
       " 'male_70_to_74',\n",
       " 'male_75_to_79',\n",
       " 'male_80_to_84',\n",
       " 'male_85_and_over',\n",
       " 'female_under_5',\n",
       " 'female_5_to_9',\n",
       " 'female_10_to_14',\n",
       " 'female_15_to_17',\n",
       " 'female_18_to_19',\n",
       " 'female_20',\n",
       " 'female_21',\n",
       " 'female_22_to_24',\n",
       " 'female_25_to_29',\n",
       " 'female_30_to_34',\n",
       " 'female_35_to_39',\n",
       " 'female_40_to_44',\n",
       " 'female_45_to_49',\n",
       " 'female_50_to_54',\n",
       " 'female_55_to_59',\n",
       " 'female_60_to_61',\n",
       " 'female_62_to_64',\n",
       " 'female_65_to_66',\n",
       " 'female_67_to_69',\n",
       " 'female_70_to_74',\n",
       " 'female_75_to_79',\n",
       " 'female_80_to_84',\n",
       " 'female_85_and_over',\n",
       " 'white_pop',\n",
       " 'population_1_year_and_over',\n",
       " 'population_3_years_over',\n",
       " 'pop_16_over',\n",
       " 'pop_25_years_over',\n",
       " 'pop_25_64',\n",
       " 'not_us_citizen_pop',\n",
       " 'black_pop',\n",
       " 'asian_pop',\n",
       " 'hispanic_pop',\n",
       " 'amerindian_pop',\n",
       " 'other_race_pop',\n",
       " 'two_or_more_races_pop',\n",
       " 'hispanic_any_race',\n",
       " 'not_hispanic_pop',\n",
       " 'asian_male_45_54',\n",
       " 'asian_male_55_64',\n",
       " 'black_male_45_54',\n",
       " 'black_male_55_64',\n",
       " 'hispanic_male_45_54',\n",
       " 'hispanic_male_55_64',\n",
       " 'white_male_45_54',\n",
       " 'white_male_55_64',\n",
       " 'median_income',\n",
       " 'income_per_capita',\n",
       " 'income_less_10000',\n",
       " 'income_10000_14999',\n",
       " 'income_15000_19999',\n",
       " 'income_20000_24999',\n",
       " 'income_25000_29999',\n",
       " 'income_30000_34999',\n",
       " 'income_35000_39999',\n",
       " 'income_40000_44999',\n",
       " 'income_45000_49999',\n",
       " 'income_50000_59999',\n",
       " 'income_60000_74999',\n",
       " 'income_75000_99999',\n",
       " 'income_100000_124999',\n",
       " 'income_125000_149999',\n",
       " 'income_150000_199999',\n",
       " 'income_200000_or_more',\n",
       " 'pop_determined_poverty_status',\n",
       " 'poverty',\n",
       " 'gini_index',\n",
       " 'housing_units',\n",
       " 'renter_occupied_housing_units_paying_cash_median_gross_rent',\n",
       " 'owner_occupied_housing_units_lower_value_quartile',\n",
       " 'owner_occupied_housing_units_median_value',\n",
       " 'owner_occupied_housing_units_upper_value_quartile',\n",
       " 'occupied_housing_units',\n",
       " 'housing_units_renter_occupied',\n",
       " 'vacant_housing_units',\n",
       " 'vacant_housing_units_for_rent',\n",
       " 'vacant_housing_units_for_sale',\n",
       " 'dwellings_1_units_detached',\n",
       " 'dwellings_1_units_attached',\n",
       " 'dwellings_2_units',\n",
       " 'dwellings_3_to_4_units',\n",
       " 'dwellings_5_to_9_units',\n",
       " 'dwellings_10_to_19_units',\n",
       " 'dwellings_20_to_49_units',\n",
       " 'dwellings_50_or_more_units',\n",
       " 'mobile_homes',\n",
       " 'housing_built_2005_or_later',\n",
       " 'housing_built_2000_to_2004',\n",
       " 'housing_built_1939_or_earlier',\n",
       " 'median_year_structure_built',\n",
       " 'married_households',\n",
       " 'nonfamily_households',\n",
       " 'family_households',\n",
       " 'households_public_asst_or_food_stamps',\n",
       " 'male_male_households',\n",
       " 'female_female_households',\n",
       " 'children',\n",
       " 'children_in_single_female_hh',\n",
       " 'median_rent',\n",
       " 'percent_income_spent_on_rent',\n",
       " 'rent_burden_not_computed',\n",
       " 'rent_over_50_percent',\n",
       " 'rent_40_to_50_percent',\n",
       " 'rent_35_to_40_percent',\n",
       " 'rent_30_to_35_percent',\n",
       " 'rent_25_to_30_percent',\n",
       " 'rent_20_to_25_percent',\n",
       " 'rent_15_to_20_percent',\n",
       " 'rent_10_to_15_percent',\n",
       " 'rent_under_10_percent',\n",
       " 'owner_occupied_housing_units',\n",
       " 'million_dollar_housing_units',\n",
       " 'mortgaged_housing_units',\n",
       " 'different_house_year_ago_different_city',\n",
       " 'different_house_year_ago_same_city',\n",
       " 'families_with_young_children',\n",
       " 'two_parent_families_with_young_children',\n",
       " 'two_parents_in_labor_force_families_with_young_children',\n",
       " 'two_parents_father_in_labor_force_families_with_young_children',\n",
       " 'two_parents_mother_in_labor_force_families_with_young_children',\n",
       " 'two_parents_not_in_labor_force_families_with_young_children',\n",
       " 'one_parent_families_with_young_children',\n",
       " 'father_one_parent_families_with_young_children',\n",
       " 'father_in_labor_force_one_parent_families_with_young_children',\n",
       " 'commute_less_10_mins',\n",
       " 'commute_10_14_mins',\n",
       " 'commute_15_19_mins',\n",
       " 'commute_20_24_mins',\n",
       " 'commute_25_29_mins',\n",
       " 'commute_30_34_mins',\n",
       " 'commute_35_44_mins',\n",
       " 'commute_60_more_mins',\n",
       " 'commute_45_59_mins',\n",
       " 'commuters_16_over',\n",
       " 'walked_to_work',\n",
       " 'worked_at_home',\n",
       " 'no_car',\n",
       " 'no_cars',\n",
       " 'one_car',\n",
       " 'two_cars',\n",
       " 'three_cars',\n",
       " 'four_more_cars',\n",
       " 'commuters_by_public_transportation',\n",
       " 'commuters_by_bus',\n",
       " 'commuters_by_car_truck_van',\n",
       " 'commuters_by_carpool',\n",
       " 'commuters_by_subway_or_elevated',\n",
       " 'commuters_drove_alone',\n",
       " 'group_quarters',\n",
       " 'associates_degree',\n",
       " 'bachelors_degree',\n",
       " 'high_school_diploma',\n",
       " 'less_one_year_college',\n",
       " 'masters_degree',\n",
       " 'one_year_more_college',\n",
       " 'less_than_high_school_graduate',\n",
       " 'high_school_including_ged',\n",
       " 'bachelors_degree_2',\n",
       " 'bachelors_degree_or_higher_25_64',\n",
       " 'graduate_professional_degree',\n",
       " 'some_college_and_associates_degree',\n",
       " 'male_45_64_associates_degree',\n",
       " 'male_45_64_bachelors_degree',\n",
       " 'male_45_64_graduate_degree',\n",
       " 'male_45_64_less_than_9_grade',\n",
       " 'male_45_64_grade_9_12',\n",
       " 'male_45_64_high_school',\n",
       " 'male_45_64_some_college',\n",
       " 'male_45_to_64',\n",
       " 'employed_pop',\n",
       " 'unemployed_pop',\n",
       " 'pop_in_labor_force',\n",
       " 'not_in_labor_force',\n",
       " 'workers_16_and_over',\n",
       " 'armed_forces',\n",
       " 'civilian_labor_force',\n",
       " 'employed_agriculture_forestry_fishing_hunting_mining',\n",
       " 'employed_arts_entertainment_recreation_accommodation_food',\n",
       " 'employed_construction',\n",
       " 'employed_education_health_social',\n",
       " 'employed_finance_insurance_real_estate',\n",
       " 'employed_information',\n",
       " 'employed_manufacturing',\n",
       " 'employed_other_services_not_public_admin',\n",
       " 'employed_public_administration',\n",
       " 'employed_retail_trade',\n",
       " 'employed_science_management_admin_waste',\n",
       " 'employed_transportation_warehousing_utilities',\n",
       " 'employed_wholesale_trade',\n",
       " 'occupation_management_arts',\n",
       " 'occupation_natural_resources_construction_maintenance',\n",
       " 'occupation_production_transportation_material',\n",
       " 'occupation_sales_office',\n",
       " 'occupation_services',\n",
       " 'management_business_sci_arts_employed',\n",
       " 'sales_office_employed',\n",
       " 'in_grades_1_to_4',\n",
       " 'in_grades_5_to_8',\n",
       " 'in_grades_9_to_12',\n",
       " 'in_school',\n",
       " 'in_undergrad_college',\n",
       " 'poverty_rate']"
      ]
     },
     "execution_count": 78,
     "metadata": {},
     "output_type": "execute_result"
    }
   ],
   "source": [
    "list(census.columns)"
   ]
  },
  {
   "cell_type": "code",
   "execution_count": 80,
   "metadata": {
    "ExecuteTime": {
     "end_time": "2021-06-12T21:00:29.349204Z",
     "start_time": "2021-06-12T21:00:29.338201Z"
    },
    "scrolled": false
   },
   "outputs": [],
   "source": [
    "features = [\n",
    "    'total_pop',\n",
    "    'households',\n",
    "    'male_pop',\n",
    "    'median_age',\n",
    "    'white_pop',\n",
    "    'not_us_citizen_pop',\n",
    "    'median_income',\n",
    "    'income_per_capita',\n",
    "    'gini_index',\n",
    "    'housing_units',\n",
    "    'occupied_housing_units',\n",
    "    'median_year_structure_built',\n",
    "    'households_public_asst_or_food_stamps',\n",
    "    'median_rent',\n",
    "    'percent_income_spent_on_rent',\n",
    "    'walked_to_work',\n",
    "    'worked_at_home',\n",
    "    'no_car',\n",
    "    'commuters_by_public_transportation',\n",
    "    'group_quarters',\n",
    "    'bachelors_degree_2',\n",
    "    'employed_pop',\n",
    "    'in_school',\n",
    "    'poverty_rate',\n",
    "    'age_65_and_over'\n",
    "]\n",
    "\n",
    "subset = [\n",
    "    'male_65_to_66',\n",
    "    'male_67_to_69',\n",
    "    'male_70_to_74',\n",
    "    'male_75_to_79',\n",
    "    'male_80_to_84',\n",
    "    'male_85_and_over',\n",
    "    'female_65_to_66',\n",
    "    'female_67_to_69',\n",
    "    'female_70_to_74',\n",
    "    'female_75_to_79',\n",
    "    'female_80_to_84',\n",
    "    'female_85_and_over'\n",
    "]"
   ]
  },
  {
   "cell_type": "code",
   "execution_count": 81,
   "metadata": {
    "ExecuteTime": {
     "end_time": "2021-06-12T21:00:29.707616Z",
     "start_time": "2021-06-12T21:00:29.690612Z"
    },
    "scrolled": false
   },
   "outputs": [],
   "source": [
    "temp = census.copy()\n",
    "temp['age_65_and_over'] = temp[subset].sum(axis=1)\n",
    "temp = temp[features]"
   ]
  },
  {
   "cell_type": "code",
   "execution_count": 90,
   "metadata": {
    "ExecuteTime": {
     "end_time": "2021-06-12T21:09:58.669123Z",
     "start_time": "2021-06-12T21:09:58.535093Z"
    }
   },
   "outputs": [
    {
     "data": {
      "text/html": [
       "<div>\n",
       "<style scoped>\n",
       "    .dataframe tbody tr th:only-of-type {\n",
       "        vertical-align: middle;\n",
       "    }\n",
       "\n",
       "    .dataframe tbody tr th {\n",
       "        vertical-align: top;\n",
       "    }\n",
       "\n",
       "    .dataframe thead th {\n",
       "        text-align: right;\n",
       "    }\n",
       "</style>\n",
       "<table border=\"1\" class=\"dataframe\">\n",
       "  <thead>\n",
       "    <tr style=\"text-align: right;\">\n",
       "      <th></th>\n",
       "      <th>features</th>\n",
       "      <th>VIF</th>\n",
       "    </tr>\n",
       "  </thead>\n",
       "  <tbody>\n",
       "    <tr>\n",
       "      <th>0</th>\n",
       "      <td>total_pop</td>\n",
       "      <td>3.061081e+04</td>\n",
       "    </tr>\n",
       "    <tr>\n",
       "      <th>1</th>\n",
       "      <td>households</td>\n",
       "      <td>inf</td>\n",
       "    </tr>\n",
       "    <tr>\n",
       "      <th>2</th>\n",
       "      <td>male_pop</td>\n",
       "      <td>1.618168e+04</td>\n",
       "    </tr>\n",
       "    <tr>\n",
       "      <th>3</th>\n",
       "      <td>median_age</td>\n",
       "      <td>9.590471e+01</td>\n",
       "    </tr>\n",
       "    <tr>\n",
       "      <th>4</th>\n",
       "      <td>white_pop</td>\n",
       "      <td>6.856711e+01</td>\n",
       "    </tr>\n",
       "    <tr>\n",
       "      <th>5</th>\n",
       "      <td>not_us_citizen_pop</td>\n",
       "      <td>6.061686e+01</td>\n",
       "    </tr>\n",
       "    <tr>\n",
       "      <th>6</th>\n",
       "      <td>median_income</td>\n",
       "      <td>1.567094e+02</td>\n",
       "    </tr>\n",
       "    <tr>\n",
       "      <th>7</th>\n",
       "      <td>income_per_capita</td>\n",
       "      <td>2.172043e+02</td>\n",
       "    </tr>\n",
       "    <tr>\n",
       "      <th>8</th>\n",
       "      <td>gini_index</td>\n",
       "      <td>3.413050e+02</td>\n",
       "    </tr>\n",
       "    <tr>\n",
       "      <th>9</th>\n",
       "      <td>housing_units</td>\n",
       "      <td>9.424512e+02</td>\n",
       "    </tr>\n",
       "    <tr>\n",
       "      <th>10</th>\n",
       "      <td>occupied_housing_units</td>\n",
       "      <td>inf</td>\n",
       "    </tr>\n",
       "    <tr>\n",
       "      <th>11</th>\n",
       "      <td>median_year_structure_built</td>\n",
       "      <td>2.847138e+02</td>\n",
       "    </tr>\n",
       "    <tr>\n",
       "      <th>12</th>\n",
       "      <td>households_public_asst_or_food_stamps</td>\n",
       "      <td>3.002648e+01</td>\n",
       "    </tr>\n",
       "    <tr>\n",
       "      <th>13</th>\n",
       "      <td>median_rent</td>\n",
       "      <td>3.951778e+01</td>\n",
       "    </tr>\n",
       "    <tr>\n",
       "      <th>14</th>\n",
       "      <td>percent_income_spent_on_rent</td>\n",
       "      <td>7.307225e+01</td>\n",
       "    </tr>\n",
       "    <tr>\n",
       "      <th>15</th>\n",
       "      <td>walked_to_work</td>\n",
       "      <td>2.329561e+01</td>\n",
       "    </tr>\n",
       "    <tr>\n",
       "      <th>16</th>\n",
       "      <td>worked_at_home</td>\n",
       "      <td>5.097552e+01</td>\n",
       "    </tr>\n",
       "    <tr>\n",
       "      <th>17</th>\n",
       "      <td>no_car</td>\n",
       "      <td>2.153044e+01</td>\n",
       "    </tr>\n",
       "    <tr>\n",
       "      <th>18</th>\n",
       "      <td>commuters_by_public_transportation</td>\n",
       "      <td>1.644668e+01</td>\n",
       "    </tr>\n",
       "    <tr>\n",
       "      <th>19</th>\n",
       "      <td>group_quarters</td>\n",
       "      <td>1.198865e+01</td>\n",
       "    </tr>\n",
       "    <tr>\n",
       "      <th>20</th>\n",
       "      <td>bachelors_degree_2</td>\n",
       "      <td>2.082318e+02</td>\n",
       "    </tr>\n",
       "    <tr>\n",
       "      <th>21</th>\n",
       "      <td>employed_pop</td>\n",
       "      <td>1.882350e+03</td>\n",
       "    </tr>\n",
       "    <tr>\n",
       "      <th>22</th>\n",
       "      <td>in_school</td>\n",
       "      <td>9.896867e+02</td>\n",
       "    </tr>\n",
       "    <tr>\n",
       "      <th>23</th>\n",
       "      <td>poverty_rate</td>\n",
       "      <td>3.225312e+01</td>\n",
       "    </tr>\n",
       "    <tr>\n",
       "      <th>24</th>\n",
       "      <td>age_65_and_over</td>\n",
       "      <td>2.020503e+02</td>\n",
       "    </tr>\n",
       "  </tbody>\n",
       "</table>\n",
       "</div>"
      ],
      "text/plain": [
       "                                 features           VIF\n",
       "0                               total_pop  3.061081e+04\n",
       "1                              households           inf\n",
       "2                                male_pop  1.618168e+04\n",
       "3                              median_age  9.590471e+01\n",
       "4                               white_pop  6.856711e+01\n",
       "5                      not_us_citizen_pop  6.061686e+01\n",
       "6                           median_income  1.567094e+02\n",
       "7                       income_per_capita  2.172043e+02\n",
       "8                              gini_index  3.413050e+02\n",
       "9                           housing_units  9.424512e+02\n",
       "10                 occupied_housing_units           inf\n",
       "11            median_year_structure_built  2.847138e+02\n",
       "12  households_public_asst_or_food_stamps  3.002648e+01\n",
       "13                            median_rent  3.951778e+01\n",
       "14           percent_income_spent_on_rent  7.307225e+01\n",
       "15                         walked_to_work  2.329561e+01\n",
       "16                         worked_at_home  5.097552e+01\n",
       "17                                 no_car  2.153044e+01\n",
       "18     commuters_by_public_transportation  1.644668e+01\n",
       "19                         group_quarters  1.198865e+01\n",
       "20                     bachelors_degree_2  2.082318e+02\n",
       "21                           employed_pop  1.882350e+03\n",
       "22                              in_school  9.896867e+02\n",
       "23                           poverty_rate  3.225312e+01\n",
       "24                        age_65_and_over  2.020503e+02"
      ]
     },
     "execution_count": 90,
     "metadata": {},
     "output_type": "execute_result"
    }
   ],
   "source": [
    "res = check_vif(temp)\n",
    "res"
   ]
  },
  {
   "cell_type": "code",
   "execution_count": null,
   "metadata": {},
   "outputs": [],
   "source": []
  }
 ],
 "metadata": {
  "kernelspec": {
   "display_name": "team-orange",
   "language": "python",
   "name": "team-orange"
  },
  "language_info": {
   "codemirror_mode": {
    "name": "ipython",
    "version": 3
   },
   "file_extension": ".py",
   "mimetype": "text/x-python",
   "name": "python",
   "nbconvert_exporter": "python",
   "pygments_lexer": "ipython3",
   "version": "3.8.5"
  }
 },
 "nbformat": 4,
 "nbformat_minor": 4
}
