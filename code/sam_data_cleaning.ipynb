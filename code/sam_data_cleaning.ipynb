{
 "cells": [
  {
   "cell_type": "code",
   "execution_count": 76,
   "metadata": {
    "ExecuteTime": {
     "end_time": "2021-06-11T18:48:06.608620Z",
     "start_time": "2021-06-11T18:48:06.605620Z"
    }
   },
   "outputs": [],
   "source": [
    "import pandas as pd"
   ]
  },
  {
   "cell_type": "markdown",
   "metadata": {},
   "source": [
    "**Import Data**"
   ]
  },
  {
   "cell_type": "code",
   "execution_count": 77,
   "metadata": {
    "ExecuteTime": {
     "end_time": "2021-06-11T18:48:07.371791Z",
     "start_time": "2021-06-11T18:48:06.609620Z"
    }
   },
   "outputs": [],
   "source": [
    "census = pd.read_csv('../data/census_bureau_acs_county_2018_5yr.csv')\n",
    "covid = pd.read_csv('../data/covid19_nyt_us_counties.csv')\n",
    "hospital = pd.read_csv('../data/us_healthcare_capacity-county-CovidCareMap.csv')"
   ]
  },
  {
   "cell_type": "markdown",
   "metadata": {},
   "source": [
    "**Covid Data**"
   ]
  },
  {
   "cell_type": "code",
   "execution_count": 78,
   "metadata": {
    "ExecuteTime": {
     "end_time": "2021-06-11T18:48:08.474422Z",
     "start_time": "2021-06-11T18:48:07.372791Z"
    }
   },
   "outputs": [],
   "source": [
    "# interested in county level data\n",
    "# grab max as data is already additive\n",
    "covid = covid.groupby('county_fips_code').max()"
   ]
  },
  {
   "cell_type": "code",
   "execution_count": 79,
   "metadata": {
    "ExecuteTime": {
     "end_time": "2021-06-11T18:48:08.490426Z",
     "start_time": "2021-06-11T18:48:08.477423Z"
    }
   },
   "outputs": [
    {
     "data": {
      "text/plain": [
       "date               0.000000\n",
       "county             0.000000\n",
       "state_name         0.000000\n",
       "confirmed_cases    0.000000\n",
       "deaths             0.024239\n",
       "dtype: float64"
      ]
     },
     "execution_count": 79,
     "metadata": {},
     "output_type": "execute_result"
    }
   ],
   "source": [
    "covid.isna().sum() / covid.shape[0]"
   ]
  },
  {
   "cell_type": "code",
   "execution_count": 80,
   "metadata": {
    "ExecuteTime": {
     "end_time": "2021-06-11T18:48:08.521436Z",
     "start_time": "2021-06-11T18:48:08.494426Z"
    }
   },
   "outputs": [
    {
     "data": {
      "text/plain": [
       "Puerto Rico    78\n",
       "Name: state_name, dtype: int64"
      ]
     },
     "execution_count": 80,
     "metadata": {},
     "output_type": "execute_result"
    }
   ],
   "source": [
    "# check null values of deaths for pattern\n",
    "covid[covid['deaths'].isna()]['state_name'].value_counts()"
   ]
  },
  {
   "cell_type": "code",
   "execution_count": 81,
   "metadata": {
    "ExecuteTime": {
     "end_time": "2021-06-11T18:48:08.537436Z",
     "start_time": "2021-06-11T18:48:08.526434Z"
    }
   },
   "outputs": [],
   "source": [
    "# all data is related to Peurto Rico and less than 3%\n",
    "covid.dropna(inplace=True)"
   ]
  },
  {
   "cell_type": "code",
   "execution_count": 82,
   "metadata": {
    "ExecuteTime": {
     "end_time": "2021-06-11T18:48:08.553440Z",
     "start_time": "2021-06-11T18:48:08.539436Z"
    }
   },
   "outputs": [
    {
     "data": {
      "text/html": [
       "<div>\n",
       "<style scoped>\n",
       "    .dataframe tbody tr th:only-of-type {\n",
       "        vertical-align: middle;\n",
       "    }\n",
       "\n",
       "    .dataframe tbody tr th {\n",
       "        vertical-align: top;\n",
       "    }\n",
       "\n",
       "    .dataframe thead th {\n",
       "        text-align: right;\n",
       "    }\n",
       "</style>\n",
       "<table border=\"1\" class=\"dataframe\">\n",
       "  <thead>\n",
       "    <tr style=\"text-align: right;\">\n",
       "      <th></th>\n",
       "      <th>death_rate</th>\n",
       "    </tr>\n",
       "  </thead>\n",
       "  <tbody>\n",
       "    <tr>\n",
       "      <th>count</th>\n",
       "      <td>3140.000000</td>\n",
       "    </tr>\n",
       "    <tr>\n",
       "      <th>mean</th>\n",
       "      <td>0.019864</td>\n",
       "    </tr>\n",
       "    <tr>\n",
       "      <th>std</th>\n",
       "      <td>0.010036</td>\n",
       "    </tr>\n",
       "    <tr>\n",
       "      <th>min</th>\n",
       "      <td>0.000000</td>\n",
       "    </tr>\n",
       "    <tr>\n",
       "      <th>25%</th>\n",
       "      <td>0.013215</td>\n",
       "    </tr>\n",
       "    <tr>\n",
       "      <th>50%</th>\n",
       "      <td>0.018458</td>\n",
       "    </tr>\n",
       "    <tr>\n",
       "      <th>75%</th>\n",
       "      <td>0.024953</td>\n",
       "    </tr>\n",
       "    <tr>\n",
       "      <th>max</th>\n",
       "      <td>0.097561</td>\n",
       "    </tr>\n",
       "  </tbody>\n",
       "</table>\n",
       "</div>"
      ],
      "text/plain": [
       "        death_rate\n",
       "count  3140.000000\n",
       "mean      0.019864\n",
       "std       0.010036\n",
       "min       0.000000\n",
       "25%       0.013215\n",
       "50%       0.018458\n",
       "75%       0.024953\n",
       "max       0.097561"
      ]
     },
     "execution_count": 82,
     "metadata": {},
     "output_type": "execute_result"
    }
   ],
   "source": [
    "# create target\n",
    "covid['death_rate'] = covid['deaths'] / covid['confirmed_cases']\n",
    "covid = covid[['death_rate']]\n",
    "covid.describe()"
   ]
  },
  {
   "cell_type": "markdown",
   "metadata": {},
   "source": [
    "**Hospital Data**"
   ]
  },
  {
   "cell_type": "code",
   "execution_count": 83,
   "metadata": {
    "ExecuteTime": {
     "end_time": "2021-06-11T18:48:08.568443Z",
     "start_time": "2021-06-11T18:48:08.556441Z"
    }
   },
   "outputs": [
    {
     "data": {
      "text/plain": [
       "fips_code                                     0.000000\n",
       "State                                         0.000000\n",
       "County Name                                   0.000000\n",
       "Staffed All Beds                              0.000000\n",
       "Staffed ICU Beds                              0.000000\n",
       "Licensed All Beds                             0.000000\n",
       "All Bed Occupancy Rate                        0.030351\n",
       "ICU Bed Occupancy Rate                        0.444225\n",
       "Population                                    0.000000\n",
       "Population (20+)                              0.000000\n",
       "Population (65+)                              0.000000\n",
       "Staffed All Beds [Per 1000 People]            0.011037\n",
       "Staffed All Beds [Per 1000 Adults (20+)]      0.011037\n",
       "Staffed All Beds [Per 1000 Elderly (65+)]     0.011037\n",
       "Staffed ICU Beds [Per 1000 People]            0.011037\n",
       "Staffed ICU Beds [Per 1000 Adults (20+)]      0.011037\n",
       "Staffed ICU Beds [Per 1000 Elderly (65+)]     0.011037\n",
       "Licensed All Beds [Per 1000 People]           0.011037\n",
       "Licensed All Beds [Per 1000 Adults (20+)]     0.011037\n",
       "Licensed All Beds [Per 1000 Elderly (65+)]    0.011037\n",
       "ICU Bed Source                                0.000000\n",
       "ICU Bed Source Last Updated                   0.999212\n",
       "dtype: float64"
      ]
     },
     "execution_count": 83,
     "metadata": {},
     "output_type": "execute_result"
    }
   ],
   "source": [
    "hospital.isna().sum() / hospital.shape[0]"
   ]
  },
  {
   "cell_type": "code",
   "execution_count": 84,
   "metadata": {
    "ExecuteTime": {
     "end_time": "2021-06-11T18:48:08.584447Z",
     "start_time": "2021-06-11T18:48:08.570444Z"
    }
   },
   "outputs": [],
   "source": [
    "# drop null columns then rows\n",
    "hospital.drop(columns=['ICU Bed Occupancy Rate', \n",
    "                       'ICU Bed Source Last Updated'], inplace=True)\n",
    "hospital.dropna(inplace=True)\n",
    "\n",
    "# set index in in preparation to merge with covid data\n",
    "hospital.set_index('fips_code', inplace=True)"
   ]
  },
  {
   "cell_type": "code",
   "execution_count": 85,
   "metadata": {
    "ExecuteTime": {
     "end_time": "2021-06-11T18:48:08.599450Z",
     "start_time": "2021-06-11T18:48:08.585463Z"
    }
   },
   "outputs": [
    {
     "data": {
      "text/plain": [
       "Index(['State', 'County Name', 'Staffed All Beds', 'Staffed ICU Beds',\n",
       "       'Licensed All Beds', 'All Bed Occupancy Rate', 'Population',\n",
       "       'Population (20+)', 'Population (65+)',\n",
       "       'Staffed All Beds [Per 1000 People]',\n",
       "       'Staffed All Beds [Per 1000 Adults (20+)]',\n",
       "       'Staffed All Beds [Per 1000 Elderly (65+)]',\n",
       "       'Staffed ICU Beds [Per 1000 People]',\n",
       "       'Staffed ICU Beds [Per 1000 Adults (20+)]',\n",
       "       'Staffed ICU Beds [Per 1000 Elderly (65+)]',\n",
       "       'Licensed All Beds [Per 1000 People]',\n",
       "       'Licensed All Beds [Per 1000 Adults (20+)]',\n",
       "       'Licensed All Beds [Per 1000 Elderly (65+)]', 'ICU Bed Source'],\n",
       "      dtype='object')"
      ]
     },
     "execution_count": 85,
     "metadata": {},
     "output_type": "execute_result"
    }
   ],
   "source": [
    "hospital.columns"
   ]
  },
  {
   "cell_type": "code",
   "execution_count": 86,
   "metadata": {
    "ExecuteTime": {
     "end_time": "2021-06-11T18:48:08.647461Z",
     "start_time": "2021-06-11T18:48:08.601451Z"
    }
   },
   "outputs": [
    {
     "data": {
      "text/html": [
       "<div>\n",
       "<style scoped>\n",
       "    .dataframe tbody tr th:only-of-type {\n",
       "        vertical-align: middle;\n",
       "    }\n",
       "\n",
       "    .dataframe tbody tr th {\n",
       "        vertical-align: top;\n",
       "    }\n",
       "\n",
       "    .dataframe thead th {\n",
       "        text-align: right;\n",
       "    }\n",
       "</style>\n",
       "<table border=\"1\" class=\"dataframe\">\n",
       "  <thead>\n",
       "    <tr style=\"text-align: right;\">\n",
       "      <th></th>\n",
       "      <th>Staffed All Beds</th>\n",
       "      <th>Staffed ICU Beds</th>\n",
       "      <th>Licensed All Beds</th>\n",
       "      <th>All Bed Occupancy Rate</th>\n",
       "      <th>Population</th>\n",
       "      <th>Population (20+)</th>\n",
       "      <th>Population (65+)</th>\n",
       "      <th>Staffed All Beds [Per 1000 People]</th>\n",
       "      <th>Staffed All Beds [Per 1000 Adults (20+)]</th>\n",
       "      <th>Staffed All Beds [Per 1000 Elderly (65+)]</th>\n",
       "      <th>Staffed ICU Beds [Per 1000 People]</th>\n",
       "      <th>Staffed ICU Beds [Per 1000 Adults (20+)]</th>\n",
       "      <th>Staffed ICU Beds [Per 1000 Elderly (65+)]</th>\n",
       "      <th>Licensed All Beds [Per 1000 People]</th>\n",
       "      <th>Licensed All Beds [Per 1000 Adults (20+)]</th>\n",
       "      <th>Licensed All Beds [Per 1000 Elderly (65+)]</th>\n",
       "    </tr>\n",
       "  </thead>\n",
       "  <tbody>\n",
       "    <tr>\n",
       "      <th>count</th>\n",
       "      <td>2436.000000</td>\n",
       "      <td>2436.000000</td>\n",
       "      <td>2436.000000</td>\n",
       "      <td>2436.000000</td>\n",
       "      <td>2.436000e+03</td>\n",
       "      <td>2.436000e+03</td>\n",
       "      <td>2.436000e+03</td>\n",
       "      <td>2436.000000</td>\n",
       "      <td>2436.000000</td>\n",
       "      <td>2436.000000</td>\n",
       "      <td>2436.000000</td>\n",
       "      <td>2436.000000</td>\n",
       "      <td>2436.000000</td>\n",
       "      <td>2436.000000</td>\n",
       "      <td>2436.000000</td>\n",
       "      <td>2436.000000</td>\n",
       "    </tr>\n",
       "    <tr>\n",
       "      <th>mean</th>\n",
       "      <td>332.106322</td>\n",
       "      <td>32.389163</td>\n",
       "      <td>428.863711</td>\n",
       "      <td>0.416203</td>\n",
       "      <td>1.296366e+05</td>\n",
       "      <td>9.711367e+04</td>\n",
       "      <td>2.064483e+04</td>\n",
       "      <td>2.665162</td>\n",
       "      <td>3.547758</td>\n",
       "      <td>14.597846</td>\n",
       "      <td>0.164152</td>\n",
       "      <td>0.218610</td>\n",
       "      <td>0.961966</td>\n",
       "      <td>3.453977</td>\n",
       "      <td>4.594261</td>\n",
       "      <td>18.994130</td>\n",
       "    </tr>\n",
       "    <tr>\n",
       "      <th>std</th>\n",
       "      <td>1003.550685</td>\n",
       "      <td>103.038696</td>\n",
       "      <td>1279.834426</td>\n",
       "      <td>0.209624</td>\n",
       "      <td>3.747552e+05</td>\n",
       "      <td>2.809996e+05</td>\n",
       "      <td>5.350184e+04</td>\n",
       "      <td>2.417202</td>\n",
       "      <td>3.175213</td>\n",
       "      <td>12.894066</td>\n",
       "      <td>0.231258</td>\n",
       "      <td>0.307273</td>\n",
       "      <td>1.375051</td>\n",
       "      <td>3.906481</td>\n",
       "      <td>5.076848</td>\n",
       "      <td>20.905135</td>\n",
       "    </tr>\n",
       "    <tr>\n",
       "      <th>min</th>\n",
       "      <td>2.000000</td>\n",
       "      <td>0.000000</td>\n",
       "      <td>0.000000</td>\n",
       "      <td>0.000000</td>\n",
       "      <td>1.087000e+03</td>\n",
       "      <td>8.800000e+02</td>\n",
       "      <td>2.540000e+02</td>\n",
       "      <td>0.092000</td>\n",
       "      <td>0.128000</td>\n",
       "      <td>0.493000</td>\n",
       "      <td>0.000000</td>\n",
       "      <td>0.000000</td>\n",
       "      <td>0.000000</td>\n",
       "      <td>0.000000</td>\n",
       "      <td>0.000000</td>\n",
       "      <td>0.000000</td>\n",
       "    </tr>\n",
       "    <tr>\n",
       "      <th>25%</th>\n",
       "      <td>25.000000</td>\n",
       "      <td>0.000000</td>\n",
       "      <td>25.000000</td>\n",
       "      <td>0.240000</td>\n",
       "      <td>1.550450e+04</td>\n",
       "      <td>1.171075e+04</td>\n",
       "      <td>3.064000e+03</td>\n",
       "      <td>1.291000</td>\n",
       "      <td>1.710500</td>\n",
       "      <td>6.940500</td>\n",
       "      <td>0.000000</td>\n",
       "      <td>0.000000</td>\n",
       "      <td>0.000000</td>\n",
       "      <td>1.588000</td>\n",
       "      <td>2.113750</td>\n",
       "      <td>8.511000</td>\n",
       "    </tr>\n",
       "    <tr>\n",
       "      <th>50%</th>\n",
       "      <td>50.000000</td>\n",
       "      <td>6.000000</td>\n",
       "      <td>76.000000</td>\n",
       "      <td>0.400000</td>\n",
       "      <td>3.563350e+04</td>\n",
       "      <td>2.688050e+04</td>\n",
       "      <td>6.643500e+03</td>\n",
       "      <td>2.038500</td>\n",
       "      <td>2.720500</td>\n",
       "      <td>11.203000</td>\n",
       "      <td>0.119000</td>\n",
       "      <td>0.160000</td>\n",
       "      <td>0.658000</td>\n",
       "      <td>2.626500</td>\n",
       "      <td>3.506000</td>\n",
       "      <td>14.336000</td>\n",
       "    </tr>\n",
       "    <tr>\n",
       "      <th>75%</th>\n",
       "      <td>209.000000</td>\n",
       "      <td>20.000000</td>\n",
       "      <td>272.250000</td>\n",
       "      <td>0.590000</td>\n",
       "      <td>9.681875e+04</td>\n",
       "      <td>7.229200e+04</td>\n",
       "      <td>1.637425e+04</td>\n",
       "      <td>3.138000</td>\n",
       "      <td>4.210000</td>\n",
       "      <td>17.792750</td>\n",
       "      <td>0.242250</td>\n",
       "      <td>0.322250</td>\n",
       "      <td>1.354500</td>\n",
       "      <td>4.081500</td>\n",
       "      <td>5.441500</td>\n",
       "      <td>22.717250</td>\n",
       "    </tr>\n",
       "    <tr>\n",
       "      <th>max</th>\n",
       "      <td>23071.000000</td>\n",
       "      <td>2305.000000</td>\n",
       "      <td>27400.000000</td>\n",
       "      <td>1.000000</td>\n",
       "      <td>1.010552e+07</td>\n",
       "      <td>7.658126e+06</td>\n",
       "      <td>1.375957e+06</td>\n",
       "      <td>30.373000</td>\n",
       "      <td>39.077000</td>\n",
       "      <td>155.666000</td>\n",
       "      <td>3.728000</td>\n",
       "      <td>4.797000</td>\n",
       "      <td>18.824000</td>\n",
       "      <td>97.226000</td>\n",
       "      <td>120.423000</td>\n",
       "      <td>463.326000</td>\n",
       "    </tr>\n",
       "  </tbody>\n",
       "</table>\n",
       "</div>"
      ],
      "text/plain": [
       "       Staffed All Beds  Staffed ICU Beds  Licensed All Beds  \\\n",
       "count       2436.000000       2436.000000        2436.000000   \n",
       "mean         332.106322         32.389163         428.863711   \n",
       "std         1003.550685        103.038696        1279.834426   \n",
       "min            2.000000          0.000000           0.000000   \n",
       "25%           25.000000          0.000000          25.000000   \n",
       "50%           50.000000          6.000000          76.000000   \n",
       "75%          209.000000         20.000000         272.250000   \n",
       "max        23071.000000       2305.000000       27400.000000   \n",
       "\n",
       "       All Bed Occupancy Rate    Population  Population (20+)  \\\n",
       "count             2436.000000  2.436000e+03      2.436000e+03   \n",
       "mean                 0.416203  1.296366e+05      9.711367e+04   \n",
       "std                  0.209624  3.747552e+05      2.809996e+05   \n",
       "min                  0.000000  1.087000e+03      8.800000e+02   \n",
       "25%                  0.240000  1.550450e+04      1.171075e+04   \n",
       "50%                  0.400000  3.563350e+04      2.688050e+04   \n",
       "75%                  0.590000  9.681875e+04      7.229200e+04   \n",
       "max                  1.000000  1.010552e+07      7.658126e+06   \n",
       "\n",
       "       Population (65+)  Staffed All Beds [Per 1000 People]  \\\n",
       "count      2.436000e+03                         2436.000000   \n",
       "mean       2.064483e+04                            2.665162   \n",
       "std        5.350184e+04                            2.417202   \n",
       "min        2.540000e+02                            0.092000   \n",
       "25%        3.064000e+03                            1.291000   \n",
       "50%        6.643500e+03                            2.038500   \n",
       "75%        1.637425e+04                            3.138000   \n",
       "max        1.375957e+06                           30.373000   \n",
       "\n",
       "       Staffed All Beds [Per 1000 Adults (20+)]  \\\n",
       "count                               2436.000000   \n",
       "mean                                   3.547758   \n",
       "std                                    3.175213   \n",
       "min                                    0.128000   \n",
       "25%                                    1.710500   \n",
       "50%                                    2.720500   \n",
       "75%                                    4.210000   \n",
       "max                                   39.077000   \n",
       "\n",
       "       Staffed All Beds [Per 1000 Elderly (65+)]  \\\n",
       "count                                2436.000000   \n",
       "mean                                   14.597846   \n",
       "std                                    12.894066   \n",
       "min                                     0.493000   \n",
       "25%                                     6.940500   \n",
       "50%                                    11.203000   \n",
       "75%                                    17.792750   \n",
       "max                                   155.666000   \n",
       "\n",
       "       Staffed ICU Beds [Per 1000 People]  \\\n",
       "count                         2436.000000   \n",
       "mean                             0.164152   \n",
       "std                              0.231258   \n",
       "min                              0.000000   \n",
       "25%                              0.000000   \n",
       "50%                              0.119000   \n",
       "75%                              0.242250   \n",
       "max                              3.728000   \n",
       "\n",
       "       Staffed ICU Beds [Per 1000 Adults (20+)]  \\\n",
       "count                               2436.000000   \n",
       "mean                                   0.218610   \n",
       "std                                    0.307273   \n",
       "min                                    0.000000   \n",
       "25%                                    0.000000   \n",
       "50%                                    0.160000   \n",
       "75%                                    0.322250   \n",
       "max                                    4.797000   \n",
       "\n",
       "       Staffed ICU Beds [Per 1000 Elderly (65+)]  \\\n",
       "count                                2436.000000   \n",
       "mean                                    0.961966   \n",
       "std                                     1.375051   \n",
       "min                                     0.000000   \n",
       "25%                                     0.000000   \n",
       "50%                                     0.658000   \n",
       "75%                                     1.354500   \n",
       "max                                    18.824000   \n",
       "\n",
       "       Licensed All Beds [Per 1000 People]  \\\n",
       "count                          2436.000000   \n",
       "mean                              3.453977   \n",
       "std                               3.906481   \n",
       "min                               0.000000   \n",
       "25%                               1.588000   \n",
       "50%                               2.626500   \n",
       "75%                               4.081500   \n",
       "max                              97.226000   \n",
       "\n",
       "       Licensed All Beds [Per 1000 Adults (20+)]  \\\n",
       "count                                2436.000000   \n",
       "mean                                    4.594261   \n",
       "std                                     5.076848   \n",
       "min                                     0.000000   \n",
       "25%                                     2.113750   \n",
       "50%                                     3.506000   \n",
       "75%                                     5.441500   \n",
       "max                                   120.423000   \n",
       "\n",
       "       Licensed All Beds [Per 1000 Elderly (65+)]  \n",
       "count                                 2436.000000  \n",
       "mean                                    18.994130  \n",
       "std                                     20.905135  \n",
       "min                                      0.000000  \n",
       "25%                                      8.511000  \n",
       "50%                                     14.336000  \n",
       "75%                                     22.717250  \n",
       "max                                    463.326000  "
      ]
     },
     "execution_count": 86,
     "metadata": {},
     "output_type": "execute_result"
    }
   ],
   "source": [
    "hospital = hospital[['Staffed All Beds',\n",
    "                     'Staffed ICU Beds',\n",
    "                     'Licensed All Beds',\n",
    "                     'All Bed Occupancy Rate',\n",
    "                     'Population',\n",
    "                     'Population (20+)',\n",
    "                     'Population (65+)',\n",
    "                     'Staffed All Beds [Per 1000 People]',\n",
    "                     'Staffed All Beds [Per 1000 Adults (20+)]',\n",
    "                     'Staffed All Beds [Per 1000 Elderly (65+)]',\n",
    "                     'Staffed ICU Beds [Per 1000 People]',\n",
    "                     'Staffed ICU Beds [Per 1000 Adults (20+)]',\n",
    "                     'Staffed ICU Beds [Per 1000 Elderly (65+)]',\n",
    "                     'Licensed All Beds [Per 1000 People]',\n",
    "                     'Licensed All Beds [Per 1000 Adults (20+)]',\n",
    "                     'Licensed All Beds [Per 1000 Elderly (65+)]']]\n",
    "hospital.describe()"
   ]
  },
  {
   "cell_type": "markdown",
   "metadata": {},
   "source": [
    "**Census Data**"
   ]
  },
  {
   "cell_type": "code",
   "execution_count": 87,
   "metadata": {
    "ExecuteTime": {
     "end_time": "2021-06-11T18:48:08.662464Z",
     "start_time": "2021-06-11T18:48:08.648462Z"
    }
   },
   "outputs": [
    {
     "data": {
      "text/plain": [
       "121"
      ]
     },
     "execution_count": 87,
     "metadata": {},
     "output_type": "execute_result"
    }
   ],
   "source": [
    "len(census.columns[census.isna().sum() > 0])"
   ]
  },
  {
   "cell_type": "code",
   "execution_count": 88,
   "metadata": {
    "ExecuteTime": {
     "end_time": "2021-06-11T18:48:08.678468Z",
     "start_time": "2021-06-11T18:48:08.663482Z"
    }
   },
   "outputs": [
    {
     "data": {
      "text/plain": [
       "count     121.000000\n",
       "mean      274.206612\n",
       "std       888.196768\n",
       "min         1.000000\n",
       "25%         1.000000\n",
       "50%         1.000000\n",
       "75%         1.000000\n",
       "max      3220.000000\n",
       "dtype: float64"
      ]
     },
     "execution_count": 88,
     "metadata": {},
     "output_type": "execute_result"
    }
   ],
   "source": [
    "census[census.columns[census.isna().sum() > 0]].isna().sum().describe()"
   ]
  },
  {
   "cell_type": "code",
   "execution_count": 89,
   "metadata": {
    "ExecuteTime": {
     "end_time": "2021-06-11T18:48:08.709475Z",
     "start_time": "2021-06-11T18:48:08.679469Z"
    }
   },
   "outputs": [
    {
     "data": {
      "text/html": [
       "<div>\n",
       "<style scoped>\n",
       "    .dataframe tbody tr th:only-of-type {\n",
       "        vertical-align: middle;\n",
       "    }\n",
       "\n",
       "    .dataframe tbody tr th {\n",
       "        vertical-align: top;\n",
       "    }\n",
       "\n",
       "    .dataframe thead th {\n",
       "        text-align: right;\n",
       "    }\n",
       "</style>\n",
       "<table border=\"1\" class=\"dataframe\">\n",
       "  <thead>\n",
       "    <tr style=\"text-align: right;\">\n",
       "      <th></th>\n",
       "      <th>geo_id</th>\n",
       "      <th>pop_16_over</th>\n",
       "      <th>pop_25_64</th>\n",
       "      <th>median_income</th>\n",
       "      <th>income_per_capita</th>\n",
       "      <th>income_less_10000</th>\n",
       "      <th>income_10000_14999</th>\n",
       "      <th>income_15000_19999</th>\n",
       "      <th>income_20000_24999</th>\n",
       "      <th>income_25000_29999</th>\n",
       "      <th>...</th>\n",
       "      <th>employed_science_management_admin_waste</th>\n",
       "      <th>employed_transportation_warehousing_utilities</th>\n",
       "      <th>employed_wholesale_trade</th>\n",
       "      <th>occupation_management_arts</th>\n",
       "      <th>occupation_natural_resources_construction_maintenance</th>\n",
       "      <th>occupation_production_transportation_material</th>\n",
       "      <th>occupation_sales_office</th>\n",
       "      <th>occupation_services</th>\n",
       "      <th>management_business_sci_arts_employed</th>\n",
       "      <th>sales_office_employed</th>\n",
       "    </tr>\n",
       "  </thead>\n",
       "  <tbody>\n",
       "    <tr>\n",
       "      <th>0</th>\n",
       "      <td>35039</td>\n",
       "      <td>NaN</td>\n",
       "      <td>NaN</td>\n",
       "      <td>NaN</td>\n",
       "      <td>NaN</td>\n",
       "      <td>NaN</td>\n",
       "      <td>NaN</td>\n",
       "      <td>NaN</td>\n",
       "      <td>NaN</td>\n",
       "      <td>NaN</td>\n",
       "      <td>...</td>\n",
       "      <td>NaN</td>\n",
       "      <td>NaN</td>\n",
       "      <td>NaN</td>\n",
       "      <td>NaN</td>\n",
       "      <td>NaN</td>\n",
       "      <td>NaN</td>\n",
       "      <td>NaN</td>\n",
       "      <td>NaN</td>\n",
       "      <td>NaN</td>\n",
       "      <td>NaN</td>\n",
       "    </tr>\n",
       "  </tbody>\n",
       "</table>\n",
       "<p>1 rows × 96 columns</p>\n",
       "</div>"
      ],
      "text/plain": [
       "   geo_id  pop_16_over  pop_25_64  median_income  income_per_capita  \\\n",
       "0   35039          NaN        NaN            NaN                NaN   \n",
       "\n",
       "   income_less_10000  income_10000_14999  income_15000_19999  \\\n",
       "0                NaN                 NaN                 NaN   \n",
       "\n",
       "   income_20000_24999  income_25000_29999  ...  \\\n",
       "0                 NaN                 NaN  ...   \n",
       "\n",
       "   employed_science_management_admin_waste  \\\n",
       "0                                      NaN   \n",
       "\n",
       "   employed_transportation_warehousing_utilities  employed_wholesale_trade  \\\n",
       "0                                            NaN                       NaN   \n",
       "\n",
       "   occupation_management_arts  \\\n",
       "0                         NaN   \n",
       "\n",
       "   occupation_natural_resources_construction_maintenance  \\\n",
       "0                                                NaN       \n",
       "\n",
       "   occupation_production_transportation_material  occupation_sales_office  \\\n",
       "0                                            NaN                      NaN   \n",
       "\n",
       "   occupation_services  management_business_sci_arts_employed  \\\n",
       "0                  NaN                                    NaN   \n",
       "\n",
       "   sales_office_employed  \n",
       "0                    NaN  \n",
       "\n",
       "[1 rows x 96 columns]"
      ]
     },
     "execution_count": 89,
     "metadata": {},
     "output_type": "execute_result"
    }
   ],
   "source": [
    "one_null_lst = ['geo_id'] + list(census.columns[census.isna().sum() == 1])\n",
    "census[one_null_lst][census[one_null_lst].isna().any(axis=1)]"
   ]
  },
  {
   "cell_type": "code",
   "execution_count": 90,
   "metadata": {
    "ExecuteTime": {
     "end_time": "2021-06-11T18:48:08.724463Z",
     "start_time": "2021-06-11T18:48:08.710475Z"
    }
   },
   "outputs": [
    {
     "data": {
      "text/plain": [
       "(3220, 242)"
      ]
     },
     "execution_count": 90,
     "metadata": {},
     "output_type": "execute_result"
    }
   ],
   "source": [
    "census.shape"
   ]
  },
  {
   "cell_type": "code",
   "execution_count": 91,
   "metadata": {
    "ExecuteTime": {
     "end_time": "2021-06-11T18:48:08.740466Z",
     "start_time": "2021-06-11T18:48:08.725467Z"
    }
   },
   "outputs": [
    {
     "data": {
      "text/plain": [
       "population_1_year_and_over                  79\n",
       "not_us_citizen_pop                          78\n",
       "different_house_year_ago_different_city     79\n",
       "different_house_year_ago_same_city          79\n",
       "aggregate_travel_time_to_work              158\n",
       "less_than_high_school_graduate              79\n",
       "high_school_including_ged                   79\n",
       "bachelors_degree_2                          79\n",
       "graduate_professional_degree                79\n",
       "some_college_and_associates_degree          79\n",
       "dtype: int64"
      ]
     },
     "execution_count": 91,
     "metadata": {},
     "output_type": "execute_result"
    }
   ],
   "source": [
    "census[list(census.columns[(census.isna().sum() > 5) & (census.isna().sum() < 3220)])].isna().sum()"
   ]
  },
  {
   "cell_type": "code",
   "execution_count": 92,
   "metadata": {
    "ExecuteTime": {
     "end_time": "2021-06-11T18:48:08.755469Z",
     "start_time": "2021-06-11T18:48:08.741467Z"
    }
   },
   "outputs": [
    {
     "data": {
      "text/plain": [
       "(3219, 95)"
      ]
     },
     "execution_count": 92,
     "metadata": {},
     "output_type": "execute_result"
    }
   ],
   "source": [
    "census[census.columns[census.isna().sum() == 1]].dropna().shape"
   ]
  },
  {
   "cell_type": "code",
   "execution_count": 93,
   "metadata": {
    "ExecuteTime": {
     "end_time": "2021-06-11T18:48:08.771292Z",
     "start_time": "2021-06-11T18:48:08.756470Z"
    }
   },
   "outputs": [
    {
     "data": {
      "text/plain": [
       "(3220, 242)"
      ]
     },
     "execution_count": 93,
     "metadata": {},
     "output_type": "execute_result"
    }
   ],
   "source": [
    "census.shape"
   ]
  },
  {
   "cell_type": "code",
   "execution_count": 94,
   "metadata": {
    "ExecuteTime": {
     "end_time": "2021-06-11T18:48:08.801456Z",
     "start_time": "2021-06-11T18:48:08.773293Z"
    }
   },
   "outputs": [],
   "source": [
    "census = census.drop(list(census.columns[census.isna().sum() > 100]), axis=1)\n",
    "census = census.dropna()"
   ]
  },
  {
   "cell_type": "code",
   "execution_count": 95,
   "metadata": {
    "ExecuteTime": {
     "end_time": "2021-06-11T18:48:08.817295Z",
     "start_time": "2021-06-11T18:48:08.803292Z"
    }
   },
   "outputs": [],
   "source": [
    "# poverty rate == poverty / pop_determined_poverty_status\n",
    "census['poverty_rate'] = census['poverty'] / census['pop_determined_poverty_status']"
   ]
  },
  {
   "cell_type": "code",
   "execution_count": 96,
   "metadata": {
    "ExecuteTime": {
     "end_time": "2021-06-11T18:48:08.832298Z",
     "start_time": "2021-06-11T18:48:08.818296Z"
    }
   },
   "outputs": [],
   "source": [
    "census = census.set_index('geo_id')"
   ]
  },
  {
   "cell_type": "markdown",
   "metadata": {},
   "source": [
    "**Merge Datasets**\n",
    "* covid\n",
    "* census\n",
    "* hospital"
   ]
  },
  {
   "cell_type": "code",
   "execution_count": 97,
   "metadata": {
    "ExecuteTime": {
     "end_time": "2021-06-11T18:48:08.863166Z",
     "start_time": "2021-06-11T18:48:08.833299Z"
    }
   },
   "outputs": [],
   "source": [
    "df = census.merge(covid, left_index=True, right_index=True)\n",
    "df = df.merge(hospital, left_index=True, right_index=True)"
   ]
  },
  {
   "cell_type": "code",
   "execution_count": 98,
   "metadata": {
    "ExecuteTime": {
     "end_time": "2021-06-11T18:48:08.878170Z",
     "start_time": "2021-06-11T18:48:08.865166Z"
    }
   },
   "outputs": [],
   "source": [
    "df['pct_nonfamily_house'] = df['nonfamily_households'] / df['households']\n",
    "df['pct_family_house'] = df['family_households'] / df['households']\n",
    "df['pct_male_male_households'] = df['male_male_households'] / df['households']\n",
    "df['pct_female_female_households'] = df['female_female_households'] / df['households']\n",
    "df['pct_male'] = df['male_pop'] / df['total_pop']\n",
    "df['pct_female'] = df['female_pop'] / df['total_pop']\n",
    "df['pct_white'] = df['white_pop'] / df['total_pop']\n",
    "df['pct_black'] = df['black_pop'] / df['total_pop']\n",
    "df['pct_asian'] = df['asian_pop'] / df['total_pop']\n",
    "df['pct_hispanic'] = df['hispanic_pop'] / df['total_pop']\n",
    "df['pct_amerindian'] = df['amerindian_pop'] / df['total_pop']\n",
    "df['pct_other_race'] = df['other_race_pop'] / df['total_pop']\n",
    "df['pct_two_or_more_races'] = df['two_or_more_races_pop'] / df['total_pop']\n",
    "df['pct_not_hispanic'] = df['not_hispanic_pop'] / df['total_pop']"
   ]
  },
  {
   "cell_type": "code",
   "execution_count": 99,
   "metadata": {
    "ExecuteTime": {
     "end_time": "2021-06-11T18:48:08.893499Z",
     "start_time": "2021-06-11T18:48:08.879169Z"
    }
   },
   "outputs": [
    {
     "data": {
      "text/plain": [
       "(2430, 262)"
      ]
     },
     "execution_count": 99,
     "metadata": {},
     "output_type": "execute_result"
    }
   ],
   "source": [
    "df.shape"
   ]
  },
  {
   "cell_type": "markdown",
   "metadata": {},
   "source": [
    "**Save Dataset**"
   ]
  },
  {
   "cell_type": "code",
   "execution_count": 100,
   "metadata": {
    "ExecuteTime": {
     "end_time": "2021-06-11T18:48:09.274208Z",
     "start_time": "2021-06-11T18:48:08.894499Z"
    }
   },
   "outputs": [],
   "source": [
    "df.to_csv('../data/sam_dataset.csv')"
   ]
  },
  {
   "cell_type": "code",
   "execution_count": null,
   "metadata": {},
   "outputs": [],
   "source": []
  }
 ],
 "metadata": {
  "kernelspec": {
   "display_name": "team-orange",
   "language": "python",
   "name": "team-orange"
  },
  "language_info": {
   "codemirror_mode": {
    "name": "ipython",
    "version": 3
   },
   "file_extension": ".py",
   "mimetype": "text/x-python",
   "name": "python",
   "nbconvert_exporter": "python",
   "pygments_lexer": "ipython3",
   "version": "3.8.5"
  }
 },
 "nbformat": 4,
 "nbformat_minor": 4
}
