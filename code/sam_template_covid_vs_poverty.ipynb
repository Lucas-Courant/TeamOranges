{
 "cells": [
  {
   "cell_type": "markdown",
   "metadata": {},
   "source": [
    "## Problem Statement"
   ]
  },
  {
   "cell_type": "markdown",
   "metadata": {},
   "source": [
    "* using death rates/other statistics about covid to predict poverty rates in counties across United States\n",
    "* if we can establish a good model then we can inference that covid rates differed by poverty\n",
    "* can help look for issues within counties and states -> health care and accessibility "
   ]
  },
  {
   "cell_type": "markdown",
   "metadata": {},
   "source": [
    "## Table of Contents\n",
    "1. [Background](#Background)\n",
    "2. [Data Cleaning](#Data-Cleaning)\n",
    "3. [Exploratory Data Analysis](#Exploratory-Data-Analysis)\n",
    "4. [Modeling](#Modeling)\n",
    "5. [Analysis](#Analysis)\n",
    "6. [Results & Conclusions](#Results-&-Conclusions)"
   ]
  },
  {
   "cell_type": "markdown",
   "metadata": {},
   "source": [
    "## Background"
   ]
  },
  {
   "cell_type": "markdown",
   "metadata": {},
   "source": [
    "**Covid 19**\n",
    "* huge pandemic, never truly seen before\n",
    "* large loss of life and livelihood\n",
    "* proof of states/governors hiding or manipulating covid data\n",
    "    * https://en.wikipedia.org/wiki/New_York_COVID-19_nursing_home_scandal (Better proof later)\n",
    "    * https://www.theguardian.com/us-news/2020/dec/04/florida-governor-rob-desantis-covid-investigation-misled-public\n",
    "\n",
    "**Dataset Information**\n",
    "* Census Data\n",
    "* Covid Death Rates\n",
    "* US Hospital \n",
    "\n",
    "**Existing Literature/Papers**\n",
    "* ICU Bed Capacity & Death Rates\n",
    "* Poverty and Death Rate\n",
    "\n",
    "\n",
    "*Sources:*\n",
    "* \n",
    "* "
   ]
  },
  {
   "cell_type": "markdown",
   "metadata": {},
   "source": [
    "## Imports & Data"
   ]
  },
  {
   "cell_type": "markdown",
   "metadata": {},
   "source": [
    "**Imports**"
   ]
  },
  {
   "cell_type": "code",
   "execution_count": 55,
   "metadata": {
    "ExecuteTime": {
     "end_time": "2021-06-04T21:20:40.643371Z",
     "start_time": "2021-06-04T21:20:40.627368Z"
    }
   },
   "outputs": [],
   "source": [
    "import pandas as pd\n",
    "import matplotlib.pyplot as plt"
   ]
  },
  {
   "cell_type": "markdown",
   "metadata": {},
   "source": [
    "**Datasets**"
   ]
  },
  {
   "cell_type": "code",
   "execution_count": 56,
   "metadata": {
    "ExecuteTime": {
     "end_time": "2021-06-04T21:20:43.119554Z",
     "start_time": "2021-06-04T21:20:42.370384Z"
    }
   },
   "outputs": [],
   "source": [
    "covid = pd.read_csv('../data/covid19_nyt_us_counties.csv')\n",
    "census = pd.read_csv('../data/census_bureau_acs_county_2018_5yr.csv')\n",
    "hosps_county = pd.read_csv('../data/us_healthcare_capacity-county-CovidCareMap.csv')\n",
    "hosps_facility = pd.read_csv('../data/us_healthcare_capacity-facility-CovidCareMap.csv')"
   ]
  },
  {
   "cell_type": "markdown",
   "metadata": {},
   "source": [
    "## Data Cleaning"
   ]
  },
  {
   "cell_type": "code",
   "execution_count": null,
   "metadata": {},
   "outputs": [],
   "source": []
  },
  {
   "cell_type": "markdown",
   "metadata": {},
   "source": [
    "## Exploratory Data Analysis"
   ]
  },
  {
   "cell_type": "markdown",
   "metadata": {},
   "source": [
    "**Data Dictionary**\n",
    "\n",
    "|Feature|Type|Dataset|Description|\n",
    "| :---: | :---: | :---: | :--- |\n",
    "| 1 | 2 | 3 | 4 |"
   ]
  },
  {
   "cell_type": "markdown",
   "metadata": {},
   "source": [
    "## Modeling"
   ]
  },
  {
   "cell_type": "code",
   "execution_count": null,
   "metadata": {},
   "outputs": [],
   "source": []
  },
  {
   "cell_type": "markdown",
   "metadata": {},
   "source": [
    "## Analysis"
   ]
  },
  {
   "cell_type": "markdown",
   "metadata": {},
   "source": [
    "## Results & Conclusions"
   ]
  },
  {
   "cell_type": "code",
   "execution_count": null,
   "metadata": {},
   "outputs": [],
   "source": []
  }
 ],
 "metadata": {
  "kernelspec": {
   "display_name": "Python 3",
   "language": "python",
   "name": "python3"
  },
  "language_info": {
   "codemirror_mode": {
    "name": "ipython",
    "version": 3
   },
   "file_extension": ".py",
   "mimetype": "text/x-python",
   "name": "python",
   "nbconvert_exporter": "python",
   "pygments_lexer": "ipython3",
   "version": "3.8.5"
  }
 },
 "nbformat": 4,
 "nbformat_minor": 4
}
