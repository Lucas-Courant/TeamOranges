{
 "cells": [
  {
   "cell_type": "code",
   "execution_count": 1,
   "id": "d1c65cfe",
   "metadata": {
    "ExecuteTime": {
     "end_time": "2021-06-13T17:10:58.993907Z",
     "start_time": "2021-06-13T17:10:57.491345Z"
    }
   },
   "outputs": [],
   "source": [
    "import pandas as pd\n",
    "import numpy as np\n",
    "import matplotlib.pyplot as plt\n",
    "from sklearn.model_selection import train_test_split, cross_val_score,\\\n",
    "                                    GridSearchCV\n",
    "from sklearn.preprocessing import StandardScaler\n",
    "from sklearn.linear_model import LinearRegression, Lasso\n",
    "from sklearn.svm import SVR\n",
    "from sklearn.ensemble import AdaBoostRegressor, GradientBoostingRegressor,\\\n",
    "                             RandomForestRegressor"
   ]
  },
  {
   "cell_type": "code",
   "execution_count": 19,
   "id": "255aa961",
   "metadata": {
    "ExecuteTime": {
     "end_time": "2021-06-13T17:10:59.087928Z",
     "start_time": "2021-06-13T17:10:58.994907Z"
    }
   },
   "outputs": [],
   "source": [
    "df = pd.read_csv('../data/cleaned_merged_df.csv', index_col = 0)"
   ]
  },
  {
   "cell_type": "code",
   "execution_count": 20,
   "id": "a2646c2b-54a2-4d03-bfc0-7fb302459b7d",
   "metadata": {
    "ExecuteTime": {
     "end_time": "2021-06-13T17:10:59.102932Z",
     "start_time": "2021-06-13T17:10:59.088928Z"
    }
   },
   "outputs": [],
   "source": [
    "income_cols = [col for col in df.columns if 'income' in col]\n",
    "df.drop(columns=income_cols, inplace=True)"
   ]
  },
  {
   "cell_type": "markdown",
   "id": "e97ce4dc-e26b-4289-afa7-2e418df3f4b8",
   "metadata": {},
   "source": [
    "**Interpretation:** Income columns will leak data."
   ]
  },
  {
   "cell_type": "code",
   "execution_count": 21,
   "id": "d5b98c8d-8533-44cf-baa0-c2c19f1c8831",
   "metadata": {
    "ExecuteTime": {
     "end_time": "2021-06-13T17:10:59.335651Z",
     "start_time": "2021-06-13T17:10:59.103931Z"
    }
   },
   "outputs": [
    {
     "data": {
      "text/plain": [
       "pct_white                                                     -0.431208\n",
       "median_rent                                                   -0.425540\n",
       "owner_occupied_housing_units_lower_value_quartile             -0.424752\n",
       "owner_occupied_housing_units_median_value                     -0.403994\n",
       "renter_occupied_housing_units_paying_cash_median_gross_rent   -0.391434\n",
       "owner_occupied_housing_units_upper_value_quartile             -0.370109\n",
       "median_age                                                    -0.233503\n",
       "white_male_45_54                                              -0.176139\n",
       "pct_asian                                                     -0.172310\n",
       "white_male_55_64                                              -0.169933\n",
       "white_pop                                                     -0.166289\n",
       "pct_family_house                                              -0.161386\n",
       "male_45_64_graduate_degree                                    -0.144641\n",
       "male_45_64_bachelors_degree                                   -0.143123\n",
       "mortgaged_housing_units                                       -0.140137\n",
       "masters_degree                                                -0.134208\n",
       "male_45_64_associates_degree                                  -0.128468\n",
       "two_parents_in_labor_force_families_with_young_children       -0.127788\n",
       "graduate_professional_degree                                  -0.127350\n",
       "owner_occupied_housing_units                                  -0.125099\n",
       "Name: poverty_rate, dtype: float64"
      ]
     },
     "execution_count": 21,
     "metadata": {},
     "output_type": "execute_result"
    }
   ],
   "source": [
    "df.corr()['poverty_rate'].sort_values(ascending=True).head(20)"
   ]
  },
  {
   "cell_type": "code",
   "execution_count": 22,
   "id": "657aa832",
   "metadata": {
    "ExecuteTime": {
     "end_time": "2021-06-13T17:10:59.581277Z",
     "start_time": "2021-06-13T17:10:59.336651Z"
    }
   },
   "outputs": [
    {
     "data": {
      "text/plain": [
       "poverty_rate                                  1.000000\n",
       "gini_index                                    0.591470\n",
       "pct_black                                     0.480530\n",
       "death_rate                                    0.277568\n",
       "pct_amerindian                                0.226846\n",
       "pct_nonfamily_house                           0.161386\n",
       "staffed_icu_beds_[per_1000_elderly_(65+)]     0.115113\n",
       "staffed_icu_beds_[per_1000_adults_(20+)]      0.111187\n",
       "staffed_all_beds_[per_1000_elderly_(65+)]     0.109685\n",
       "staffed_icu_beds_[per_1000_people]            0.107673\n",
       "licensed_all_beds_[per_1000_elderly_(65+)]    0.103327\n",
       "amerindian_pop                                0.100106\n",
       "pct_female                                    0.094539\n",
       "mobile_homes                                  0.074932\n",
       "licensed_all_beds_[per_1000_adults_(20+)]     0.065482\n",
       "licensed_all_beds_[per_1000_people]           0.057990\n",
       "staffed_all_beds_[per_1000_adults_(20+)]      0.057538\n",
       "pct_hispanic                                  0.053102\n",
       "staffed_all_beds_[per_1000_people]            0.048498\n",
       "black_male_55_64                              0.014091\n",
       "Name: poverty_rate, dtype: float64"
      ]
     },
     "execution_count": 22,
     "metadata": {},
     "output_type": "execute_result"
    }
   ],
   "source": [
    "df.corr()['poverty_rate'].sort_values(ascending=False).head(20)"
   ]
  },
  {
   "cell_type": "code",
   "execution_count": 23,
   "id": "678da795-c221-4b0a-a59a-c3f5daf5af19",
   "metadata": {
    "ExecuteTime": {
     "end_time": "2021-06-13T17:10:59.672478Z",
     "start_time": "2021-06-13T17:10:59.582276Z"
    }
   },
   "outputs": [
    {
     "data": {
      "text/plain": [
       "<AxesSubplot:ylabel='Frequency'>"
      ]
     },
     "execution_count": 23,
     "metadata": {},
     "output_type": "execute_result"
    },
    {
     "data": {
      "image/png": "[encoded data removed]",
      "text/plain": [
       "<Figure size 432x288 with 1 Axes>"
      ]
     },
     "metadata": {
      "needs_background": "light"
     },
     "output_type": "display_data"
    }
   ],
   "source": [
    "df['poverty_rate'].plot(kind='hist', bins=40)"
   ]
  },
  {
   "cell_type": "code",
   "execution_count": 24,
   "id": "7c53e32d-fdad-466d-b07d-fd65b7db351e",
   "metadata": {
    "ExecuteTime": {
     "end_time": "2021-06-13T17:08:39.790971Z",
     "start_time": "2021-06-13T17:08:39.524935Z"
    }
   },
   "outputs": [
    {
     "data": {
      "text/plain": [
       "Text(0, 0.5, 'DEATH RATE')"
      ]
     },
     "execution_count": 24,
     "metadata": {},
     "output_type": "execute_result"
    },
    {
     "data": {
      "image/png": "[encoded data removed]",
      "text/plain": [
       "<Figure size 432x288 with 1 Axes>"
      ]
     },
     "metadata": {
      "needs_background": "light"
     },
     "output_type": "display_data"
    }
   ],
   "source": [
    "plt.scatter(df.loc[df['median_year_structure_built'] > 0].median_year_structure_built,\n",
    "            df.loc[df['median_year_structure_built'] > 0].death_rate, alpha=.3)\n",
    "plt.xlabel('MEDIAN YEAR STRUCTURE BUILT')\n",
    "plt.ylabel('DEATH RATE')"
   ]
  },
  {
   "cell_type": "code",
   "execution_count": 25,
   "id": "a25282b9",
   "metadata": {
    "ExecuteTime": {
     "end_time": "2021-06-08T18:35:51.075043Z",
     "start_time": "2021-06-08T18:35:51.060346Z"
    }
   },
   "outputs": [],
   "source": [
    "X_cols = [col for col in df.columns if 'pct_' in col]\n",
    "X_cols.remove('pct_not_hispanic')\n",
    "X_cols.remove('pct_nonfamily_house')\n",
    "X_cols.remove('pct_male')\n",
    "\n",
    "X_cols.append('death_rate')\n",
    "X_cols.append('median_year_structure_built')\n",
    "X_cols.append('median_age')\n",
    "X_cols.append('all_bed_occupancy_rate')\n",
    "\n",
    "X = df[X_cols]\n",
    "y = df['poverty_rate']"
   ]
  },
  {
   "cell_type": "code",
   "execution_count": 26,
   "id": "5dd9c020",
   "metadata": {
    "ExecuteTime": {
     "end_time": "2021-06-08T18:35:51.106055Z",
     "start_time": "2021-06-08T18:35:51.076043Z"
    }
   },
   "outputs": [],
   "source": [
    "X_train, X_test, y_train, y_test = train_test_split(X, y,\n",
    "                                                    random_state=42)\n",
    "\n",
    "ss = StandardScaler()\n",
    "X_train_sc = ss.fit_transform(X_train)\n",
    "X_test_sc = ss.transform(X_test)"
   ]
  },
  {
   "cell_type": "markdown",
   "id": "a5fcf61d",
   "metadata": {},
   "source": [
    "### Linear Regression"
   ]
  },
  {
   "cell_type": "code",
   "execution_count": 27,
   "id": "026d602f",
   "metadata": {
    "ExecuteTime": {
     "end_time": "2021-06-07T21:59:43.320341Z",
     "start_time": "2021-06-07T21:59:43.195314Z"
    }
   },
   "outputs": [
    {
     "name": "stdout",
     "output_type": "stream",
     "text": [
      "0.42196112435672833 0.01544343719214156\n"
     ]
    },
    {
     "data": {
      "text/plain": [
       "array([0.40833959, 0.4040624 , 0.42092418, 0.44705809, 0.42942137])"
      ]
     },
     "execution_count": 27,
     "metadata": {},
     "output_type": "execute_result"
    }
   ],
   "source": [
    "lr = LinearRegression()\n",
    "cv_score = cross_val_score(lr, X_train, y_train)\n",
    "print(cv_score.mean(), cv_score.std())\n",
    "cv_score"
   ]
  },
  {
   "cell_type": "code",
   "execution_count": 28,
   "id": "21c0108b-3dcb-4f7e-a0cd-f0d8f8a6ea12",
   "metadata": {},
   "outputs": [
    {
     "name": "stdout",
     "output_type": "stream",
     "text": [
      "train score 0.4385247960206273\n",
      "test score 0.44623238069364235\n"
     ]
    }
   ],
   "source": [
    "lr.fit(X_train_sc, y_train)\n",
    "print('train score', lr.score(X_train_sc, y_train))\n",
    "print('test score', lr.score(X_test_sc, y_test))"
   ]
  },
  {
   "cell_type": "code",
   "execution_count": 29,
   "id": "bbf078f8-3c6d-43fa-a480-c68643e4cd81",
   "metadata": {},
   "outputs": [
    {
     "data": {
      "text/plain": [
       "pct_white                      -0.2412\n",
       "pct_hispanic                   -0.1570\n",
       "pct_black                      -0.1500\n",
       "pct_amerindian                 -0.0687\n",
       "pct_asian                      -0.0495\n",
       "pct_two_or_more_races          -0.0218\n",
       "pct_family_house               -0.0138\n",
       "median_age                     -0.0115\n",
       "all_bed_occupancy_rate         -0.0052\n",
       "pct_other_race                 -0.0050\n",
       "pct_male_male_households       -0.0033\n",
       "pct_female_female_households   -0.0000\n",
       "median_year_structure_built     0.0019\n",
       "pct_female                      0.0030\n",
       "death_rate                      0.0090\n",
       "Name: 0, dtype: float64"
      ]
     },
     "execution_count": 29,
     "metadata": {},
     "output_type": "execute_result"
    }
   ],
   "source": [
    "pd.DataFrame(lr.coef_, index=X_train.columns)[0].map(lambda x: round(x, 4)).sort_values()"
   ]
  },
  {
   "cell_type": "code",
   "execution_count": 30,
   "id": "10e32728-8fe2-4aa9-82d0-29f70ee60652",
   "metadata": {},
   "outputs": [
    {
     "data": {
      "text/plain": [
       "Text(0, 0.5, 'POVERTY RATE')"
      ]
     },
     "execution_count": 30,
     "metadata": {},
     "output_type": "execute_result"
    },
    {
     "data": {
      "image/png": "[encoded data removed]",
      "text/plain": [
       "<Figure size 432x288 with 1 Axes>"
      ]
     },
     "metadata": {
      "needs_background": "light"
     },
     "output_type": "display_data"
    }
   ],
   "source": [
    "plt.scatter(df['pct_black'], df['poverty_rate'], alpha = .5)\n",
    "plt.xlabel('PERCENT BLACK')\n",
    "plt.ylabel('POVERTY RATE')"
   ]
  },
  {
   "cell_type": "code",
   "execution_count": 31,
   "id": "40652016-25ba-4c37-8c4a-bf0552b7957d",
   "metadata": {},
   "outputs": [
    {
     "data": {
      "image/png": "[encoded data removed]",
      "text/plain": [
       "<Figure size 432x288 with 1 Axes>"
      ]
     },
     "metadata": {
      "needs_background": "light"
     },
     "output_type": "display_data"
    }
   ],
   "source": [
    "plt.hist(df['poverty_rate'], bins=40);"
   ]
  },
  {
   "cell_type": "code",
   "execution_count": 33,
   "id": "94c8bc6a-f795-4a58-bd5c-9ff34d3fad2d",
   "metadata": {},
   "outputs": [
    {
     "data": {
      "text/html": [
       "<div>\n",
       "<style scoped>\n",
       "    .dataframe tbody tr th:only-of-type {\n",
       "        vertical-align: middle;\n",
       "    }\n",
       "\n",
       "    .dataframe tbody tr th {\n",
       "        vertical-align: top;\n",
       "    }\n",
       "\n",
       "    .dataframe thead th {\n",
       "        text-align: right;\n",
       "    }\n",
       "</style>\n",
       "<table border=\"1\" class=\"dataframe\">\n",
       "  <thead>\n",
       "    <tr style=\"text-align: right;\">\n",
       "      <th></th>\n",
       "      <th>date</th>\n",
       "      <th>county</th>\n",
       "      <th>state_name</th>\n",
       "      <th>confirmed_cases</th>\n",
       "      <th>deaths</th>\n",
       "      <th>death_rate</th>\n",
       "      <th>do_date</th>\n",
       "      <th>total_pop</th>\n",
       "      <th>households</th>\n",
       "      <th>male_pop</th>\n",
       "      <th>...</th>\n",
       "      <th>staffed_all_beds_[per_1000_people]</th>\n",
       "      <th>staffed_all_beds_[per_1000_adults_(20+)]</th>\n",
       "      <th>staffed_all_beds_[per_1000_elderly_(65+)]</th>\n",
       "      <th>staffed_icu_beds_[per_1000_people]</th>\n",
       "      <th>staffed_icu_beds_[per_1000_adults_(20+)]</th>\n",
       "      <th>staffed_icu_beds_[per_1000_elderly_(65+)]</th>\n",
       "      <th>licensed_all_beds_[per_1000_people]</th>\n",
       "      <th>licensed_all_beds_[per_1000_adults_(20+)]</th>\n",
       "      <th>licensed_all_beds_[per_1000_elderly_(65+)]</th>\n",
       "      <th>icu_bed_source</th>\n",
       "    </tr>\n",
       "  </thead>\n",
       "  <tbody>\n",
       "    <tr>\n",
       "      <th>22035</th>\n",
       "      <td>2021-06-03</td>\n",
       "      <td>East Carroll</td>\n",
       "      <td>Louisiana</td>\n",
       "      <td>1133</td>\n",
       "      <td>27.0</td>\n",
       "      <td>0.023831</td>\n",
       "      <td>2014-01-01</td>\n",
       "      <td>7225.0</td>\n",
       "      <td>2153.0</td>\n",
       "      <td>4373.0</td>\n",
       "      <td>...</td>\n",
       "      <td>3.268</td>\n",
       "      <td>4.466</td>\n",
       "      <td>22.137</td>\n",
       "      <td>0.0</td>\n",
       "      <td>0.0</td>\n",
       "      <td>0.0</td>\n",
       "      <td>3.268</td>\n",
       "      <td>4.466</td>\n",
       "      <td>22.137</td>\n",
       "      <td>Facility aggregation</td>\n",
       "    </tr>\n",
       "    <tr>\n",
       "      <th>28021</th>\n",
       "      <td>2021-06-03</td>\n",
       "      <td>Claiborne</td>\n",
       "      <td>Mississippi</td>\n",
       "      <td>1028</td>\n",
       "      <td>30.0</td>\n",
       "      <td>0.029183</td>\n",
       "      <td>2014-01-01</td>\n",
       "      <td>9120.0</td>\n",
       "      <td>3009.0</td>\n",
       "      <td>4312.0</td>\n",
       "      <td>...</td>\n",
       "      <td>2.444</td>\n",
       "      <td>3.384</td>\n",
       "      <td>14.946</td>\n",
       "      <td>0.0</td>\n",
       "      <td>0.0</td>\n",
       "      <td>0.0</td>\n",
       "      <td>3.555</td>\n",
       "      <td>4.922</td>\n",
       "      <td>21.739</td>\n",
       "      <td>Facility aggregation</td>\n",
       "    </tr>\n",
       "    <tr>\n",
       "      <th>28051</th>\n",
       "      <td>2021-06-03</td>\n",
       "      <td>Holmes</td>\n",
       "      <td>Mississippi</td>\n",
       "      <td>1900</td>\n",
       "      <td>74.0</td>\n",
       "      <td>0.038947</td>\n",
       "      <td>2014-01-01</td>\n",
       "      <td>18075.0</td>\n",
       "      <td>6269.0</td>\n",
       "      <td>8635.0</td>\n",
       "      <td>...</td>\n",
       "      <td>1.419</td>\n",
       "      <td>2.013</td>\n",
       "      <td>9.427</td>\n",
       "      <td>0.0</td>\n",
       "      <td>0.0</td>\n",
       "      <td>0.0</td>\n",
       "      <td>1.419</td>\n",
       "      <td>2.013</td>\n",
       "      <td>9.427</td>\n",
       "      <td>Facility aggregation</td>\n",
       "    </tr>\n",
       "    <tr>\n",
       "      <th>28063</th>\n",
       "      <td>2021-06-03</td>\n",
       "      <td>Jefferson</td>\n",
       "      <td>Mississippi</td>\n",
       "      <td>662</td>\n",
       "      <td>28.0</td>\n",
       "      <td>0.042296</td>\n",
       "      <td>2014-01-01</td>\n",
       "      <td>7346.0</td>\n",
       "      <td>2530.0</td>\n",
       "      <td>3642.0</td>\n",
       "      <td>...</td>\n",
       "      <td>1.689</td>\n",
       "      <td>2.245</td>\n",
       "      <td>10.008</td>\n",
       "      <td>0.0</td>\n",
       "      <td>0.0</td>\n",
       "      <td>0.0</td>\n",
       "      <td>4.222</td>\n",
       "      <td>5.613</td>\n",
       "      <td>25.021</td>\n",
       "      <td>Facility aggregation</td>\n",
       "    </tr>\n",
       "    <tr>\n",
       "      <th>46031</th>\n",
       "      <td>2021-06-03</td>\n",
       "      <td>Corson</td>\n",
       "      <td>South Dakota</td>\n",
       "      <td>481</td>\n",
       "      <td>12.0</td>\n",
       "      <td>0.024948</td>\n",
       "      <td>2014-01-01</td>\n",
       "      <td>4168.0</td>\n",
       "      <td>1186.0</td>\n",
       "      <td>2113.0</td>\n",
       "      <td>...</td>\n",
       "      <td>0.000</td>\n",
       "      <td>0.000</td>\n",
       "      <td>0.000</td>\n",
       "      <td>0.0</td>\n",
       "      <td>0.0</td>\n",
       "      <td>0.0</td>\n",
       "      <td>2.881</td>\n",
       "      <td>4.777</td>\n",
       "      <td>25.478</td>\n",
       "      <td>Facility aggregation</td>\n",
       "    </tr>\n",
       "    <tr>\n",
       "      <th>46121</th>\n",
       "      <td>2021-06-03</td>\n",
       "      <td>Todd</td>\n",
       "      <td>South Dakota</td>\n",
       "      <td>1234</td>\n",
       "      <td>32.0</td>\n",
       "      <td>0.025932</td>\n",
       "      <td>2014-01-01</td>\n",
       "      <td>10146.0</td>\n",
       "      <td>2703.0</td>\n",
       "      <td>4979.0</td>\n",
       "      <td>...</td>\n",
       "      <td>3.404</td>\n",
       "      <td>6.213</td>\n",
       "      <td>45.992</td>\n",
       "      <td>0.0</td>\n",
       "      <td>0.0</td>\n",
       "      <td>0.0</td>\n",
       "      <td>3.404</td>\n",
       "      <td>6.213</td>\n",
       "      <td>45.992</td>\n",
       "      <td>Facility aggregation</td>\n",
       "    </tr>\n",
       "  </tbody>\n",
       "</table>\n",
       "<p>6 rows × 251 columns</p>\n",
       "</div>"
      ],
      "text/plain": [
       "             date        county    state_name  confirmed_cases  deaths  \\\n",
       "22035  2021-06-03  East Carroll     Louisiana             1133    27.0   \n",
       "28021  2021-06-03     Claiborne   Mississippi             1028    30.0   \n",
       "28051  2021-06-03        Holmes   Mississippi             1900    74.0   \n",
       "28063  2021-06-03     Jefferson   Mississippi              662    28.0   \n",
       "46031  2021-06-03        Corson  South Dakota              481    12.0   \n",
       "46121  2021-06-03          Todd  South Dakota             1234    32.0   \n",
       "\n",
       "       death_rate     do_date  total_pop  households  male_pop  ...  \\\n",
       "22035    0.023831  2014-01-01     7225.0      2153.0    4373.0  ...   \n",
       "28021    0.029183  2014-01-01     9120.0      3009.0    4312.0  ...   \n",
       "28051    0.038947  2014-01-01    18075.0      6269.0    8635.0  ...   \n",
       "28063    0.042296  2014-01-01     7346.0      2530.0    3642.0  ...   \n",
       "46031    0.024948  2014-01-01     4168.0      1186.0    2113.0  ...   \n",
       "46121    0.025932  2014-01-01    10146.0      2703.0    4979.0  ...   \n",
       "\n",
       "       staffed_all_beds_[per_1000_people]  \\\n",
       "22035                               3.268   \n",
       "28021                               2.444   \n",
       "28051                               1.419   \n",
       "28063                               1.689   \n",
       "46031                               0.000   \n",
       "46121                               3.404   \n",
       "\n",
       "       staffed_all_beds_[per_1000_adults_(20+)]  \\\n",
       "22035                                     4.466   \n",
       "28021                                     3.384   \n",
       "28051                                     2.013   \n",
       "28063                                     2.245   \n",
       "46031                                     0.000   \n",
       "46121                                     6.213   \n",
       "\n",
       "       staffed_all_beds_[per_1000_elderly_(65+)]  \\\n",
       "22035                                     22.137   \n",
       "28021                                     14.946   \n",
       "28051                                      9.427   \n",
       "28063                                     10.008   \n",
       "46031                                      0.000   \n",
       "46121                                     45.992   \n",
       "\n",
       "       staffed_icu_beds_[per_1000_people]  \\\n",
       "22035                                 0.0   \n",
       "28021                                 0.0   \n",
       "28051                                 0.0   \n",
       "28063                                 0.0   \n",
       "46031                                 0.0   \n",
       "46121                                 0.0   \n",
       "\n",
       "       staffed_icu_beds_[per_1000_adults_(20+)]  \\\n",
       "22035                                       0.0   \n",
       "28021                                       0.0   \n",
       "28051                                       0.0   \n",
       "28063                                       0.0   \n",
       "46031                                       0.0   \n",
       "46121                                       0.0   \n",
       "\n",
       "       staffed_icu_beds_[per_1000_elderly_(65+)]  \\\n",
       "22035                                        0.0   \n",
       "28021                                        0.0   \n",
       "28051                                        0.0   \n",
       "28063                                        0.0   \n",
       "46031                                        0.0   \n",
       "46121                                        0.0   \n",
       "\n",
       "       licensed_all_beds_[per_1000_people]  \\\n",
       "22035                                3.268   \n",
       "28021                                3.555   \n",
       "28051                                1.419   \n",
       "28063                                4.222   \n",
       "46031                                2.881   \n",
       "46121                                3.404   \n",
       "\n",
       "       licensed_all_beds_[per_1000_adults_(20+)]  \\\n",
       "22035                                      4.466   \n",
       "28021                                      4.922   \n",
       "28051                                      2.013   \n",
       "28063                                      5.613   \n",
       "46031                                      4.777   \n",
       "46121                                      6.213   \n",
       "\n",
       "       licensed_all_beds_[per_1000_elderly_(65+)]        icu_bed_source  \n",
       "22035                                      22.137  Facility aggregation  \n",
       "28021                                      21.739  Facility aggregation  \n",
       "28051                                       9.427  Facility aggregation  \n",
       "28063                                      25.021  Facility aggregation  \n",
       "46031                                      25.478  Facility aggregation  \n",
       "46121                                      45.992  Facility aggregation  \n",
       "\n",
       "[6 rows x 251 columns]"
      ]
     },
     "execution_count": 33,
     "metadata": {},
     "output_type": "execute_result"
    }
   ],
   "source": [
    "df.loc[df['poverty_rate'] > .4]"
   ]
  },
  {
   "cell_type": "markdown",
   "id": "744ccebd",
   "metadata": {},
   "source": [
    "scaled  0.31177659, 0.34379026, 0.30268388, 0.30058899, 0.35387436]\n"
   ]
  },
  {
   "cell_type": "code",
   "execution_count": 40,
   "id": "966d2399",
   "metadata": {
    "ExecuteTime": {
     "end_time": "2021-06-08T03:15:29.515375Z",
     "start_time": "2021-06-08T03:15:21.204518Z"
    }
   },
   "outputs": [
    {
     "name": "stdout",
     "output_type": "stream",
     "text": [
      "0.4158454905203969 0.01655951475889321\n"
     ]
    },
    {
     "data": {
      "text/plain": [
       "array([0.4112545 , 0.39156855, 0.40753016, 0.43412218, 0.43475206])"
      ]
     },
     "execution_count": 40,
     "metadata": {},
     "output_type": "execute_result"
    }
   ],
   "source": [
    "lasso = Lasso(max_iter = 1000, alpha=.00001, tol = 0.0001)\n",
    "cv_score = cross_val_score(lasso, X_train, y_train)\n",
    "print(cv_score.mean(), cv_score.std())\n",
    "cv_score"
   ]
  },
  {
   "cell_type": "markdown",
   "id": "5a3e9da5",
   "metadata": {},
   "source": [
    "### Support Vector Regressor"
   ]
  },
  {
   "cell_type": "code",
   "execution_count": 41,
   "id": "39dbff45",
   "metadata": {
    "ExecuteTime": {
     "end_time": "2021-06-07T21:02:56.259340Z",
     "start_time": "2021-06-07T21:02:53.430827Z"
    }
   },
   "outputs": [],
   "source": [
    "# svr = SVR()\n",
    "\n",
    "# params = {\n",
    "#     'kernel': ['rbf', 'sigmoid', 'linear'],\n",
    "#     'gamma': ['scale'],\n",
    "#     'C': [.001, .01, .1, 1]\n",
    "# }\n",
    "\n",
    "# gs = GridSearchCV(svr, param_grid=params, verbose=3, n_jobs = 5)\n",
    "# gs.fit(X_train_sc, y_train)\n",
    "# print(gs.score(X_test, y_test))\n",
    "# gs.best_params_"
   ]
  },
  {
   "cell_type": "markdown",
   "id": "cbf282db",
   "metadata": {
    "ExecuteTime": {
     "end_time": "2021-06-06T00:28:04.646048Z",
     "start_time": "2021-06-06T00:28:04.632045Z"
    }
   },
   "source": [
    "### Random Forest Regressor"
   ]
  },
  {
   "cell_type": "code",
   "execution_count": 42,
   "id": "18041bf9",
   "metadata": {
    "ExecuteTime": {
     "end_time": "2021-06-07T21:03:16.248833Z",
     "start_time": "2021-06-07T21:03:10.583541Z"
    },
    "scrolled": true,
    "tags": []
   },
   "outputs": [
    {
     "name": "stdout",
     "output_type": "stream",
     "text": [
      "Fitting 5 folds for each of 54 candidates, totalling 270 fits\n",
      "train score 0.6816349774320616\n",
      "test score 0.5465641186491467\n"
     ]
    },
    {
     "data": {
      "text/plain": [
       "{'max_depth': 7,\n",
       " 'min_samples_leaf': 1,\n",
       " 'min_samples_split': 2,\n",
       " 'n_estimators': 125}"
      ]
     },
     "execution_count": 42,
     "metadata": {},
     "output_type": "execute_result"
    }
   ],
   "source": [
    "rfr = RandomForestRegressor()\n",
    "\n",
    "params = {\n",
    "    'n_estimators': [75, 100, 125],\n",
    "    'max_depth': [3, 5, 7],\n",
    "    'min_samples_split': [2, 4, 10],\n",
    "    'min_samples_leaf': [1, 10],\n",
    "}\n",
    "\n",
    "gs = GridSearchCV(rfr, param_grid=params, verbose=2, n_jobs = 5)\n",
    "gs.fit(X_train, y_train)\n",
    "print('train score', gs.score(X_train, y_train))\n",
    "print('test score', gs.score(X_test, y_test))\n",
    "gs.best_params_"
   ]
  },
  {
   "cell_type": "code",
   "execution_count": 43,
   "id": "ec5ea945-f2ee-4cc4-8efc-a2ac1b185854",
   "metadata": {},
   "outputs": [
    {
     "name": "stdout",
     "output_type": "stream",
     "text": [
      "[0.32951459 0.31421013 0.3080474  0.36071797 0.40235879]\n",
      "0.35835818705144984 0.3847747476960297\n"
     ]
    }
   ],
   "source": [
    "rfr = RandomForestRegressor(max_depth=3,\n",
    " min_samples_leaf=10,\n",
    " min_samples_split=10,\n",
    " n_estimators=75)\n",
    "\n",
    "print(cross_val_score(rfr, X_train, y_train))\n",
    "rfr.fit(X_train, y_train)\n",
    "print(rfr.score(X_test, y_test), rfr.score(X_train, y_train))"
   ]
  },
  {
   "cell_type": "code",
   "execution_count": 44,
   "id": "efd7423b-c514-4542-9993-450712c96cdf",
   "metadata": {},
   "outputs": [
    {
     "data": {
      "text/plain": [
       "<AxesSubplot:>"
      ]
     },
     "execution_count": 44,
     "metadata": {},
     "output_type": "execute_result"
    },
    {
     "data": {
      "image/png": "[encoded data removed]",
      "text/plain": [
       "<Figure size 432x288 with 1 Axes>"
      ]
     },
     "metadata": {
      "needs_background": "light"
     },
     "output_type": "display_data"
    }
   ],
   "source": [
    "pd.DataFrame(rfr.feature_importances_, index=X_train.columns)\\\n",
    ".sort_values(by=0, ascending=False).plot(kind='bar')"
   ]
  },
  {
   "cell_type": "markdown",
   "id": "a307be30",
   "metadata": {},
   "source": [
    "### AdaBoost Regressor"
   ]
  },
  {
   "cell_type": "code",
   "execution_count": 45,
   "id": "1f76c9ed",
   "metadata": {
    "ExecuteTime": {
     "end_time": "2021-06-07T21:03:19.994714Z",
     "start_time": "2021-06-07T21:03:16.249833Z"
    }
   },
   "outputs": [
    {
     "name": "stdout",
     "output_type": "stream",
     "text": [
      "Fitting 5 folds for each of 24 candidates, totalling 120 fits\n",
      "train score 0.37257535968733135\n",
      "test score 0.3458338405501077\n"
     ]
    },
    {
     "data": {
      "text/plain": [
       "{'learning_rate': 0.001, 'loss': 'exponential', 'n_estimators': 70}"
      ]
     },
     "execution_count": 45,
     "metadata": {},
     "output_type": "execute_result"
    }
   ],
   "source": [
    "ada = AdaBoostRegressor()\n",
    "\n",
    "params = {\n",
    "    'n_estimators': [40, 50, 70, 100],\n",
    "    'learning_rate': [.01, .001],\n",
    "    'loss': ['linear', 'square', 'exponential']\n",
    "}\n",
    "\n",
    "gs = GridSearchCV(ada, param_grid=params, verbose=3, n_jobs= 5)\n",
    "gs.fit(X_train, y_train)\n",
    "print('train score', gs.score(X_train, y_train))\n",
    "print('test score', gs.score(X_test, y_test))\n",
    "gs.best_params_"
   ]
  },
  {
   "cell_type": "code",
   "execution_count": 46,
   "id": "3113f9a8-3c04-4574-a9be-6f1bd0926450",
   "metadata": {},
   "outputs": [
    {
     "name": "stdout",
     "output_type": "stream",
     "text": [
      "train score 0.38916089354305294\n",
      "test score 0.3676912957495354\n"
     ]
    }
   ],
   "source": [
    "ada = AdaBoostRegressor(base_estimator=RandomForestRegressor(max_depth=3,\n",
    "                                                             min_samples_leaf=10,\n",
    "                                                             min_samples_split=10,\n",
    "                                                             n_estimators=75),\n",
    "                        learning_rate=.001)\n",
    "\n",
    "ada.fit(X_train, y_train)\n",
    "print('train score', ada.score(X_train, y_train))\n",
    "print('test score', ada.score(X_test, y_test))"
   ]
  },
  {
   "cell_type": "markdown",
   "id": "0bdd98f3",
   "metadata": {},
   "source": [
    "### Gradient Boosting Regressor"
   ]
  },
  {
   "cell_type": "code",
   "execution_count": 47,
   "id": "3269a83e",
   "metadata": {
    "ExecuteTime": {
     "end_time": "2021-06-07T21:03:31.769276Z",
     "start_time": "2021-06-07T21:03:19.995715Z"
    }
   },
   "outputs": [
    {
     "name": "stdout",
     "output_type": "stream",
     "text": [
      "Fitting 5 folds for each of 54 candidates, totalling 270 fits\n"
     ]
    },
    {
     "ename": "KeyboardInterrupt",
     "evalue": "",
     "output_type": "error",
     "traceback": [
      "\u001b[1;31m---------------------------------------------------------------------------\u001b[0m",
      "\u001b[1;31mKeyboardInterrupt\u001b[0m                         Traceback (most recent call last)",
      "\u001b[1;32m<ipython-input-47-93418827472a>\u001b[0m in \u001b[0;36m<module>\u001b[1;34m\u001b[0m\n\u001b[0;32m      9\u001b[0m \u001b[1;33m\u001b[0m\u001b[0m\n\u001b[0;32m     10\u001b[0m \u001b[0mgs\u001b[0m \u001b[1;33m=\u001b[0m \u001b[0mGridSearchCV\u001b[0m\u001b[1;33m(\u001b[0m\u001b[0mgbr\u001b[0m\u001b[1;33m,\u001b[0m \u001b[0mparam_grid\u001b[0m\u001b[1;33m=\u001b[0m\u001b[0mparams\u001b[0m\u001b[1;33m,\u001b[0m \u001b[0mverbose\u001b[0m\u001b[1;33m=\u001b[0m\u001b[1;36m3\u001b[0m\u001b[1;33m,\u001b[0m \u001b[0mn_jobs\u001b[0m\u001b[1;33m=\u001b[0m \u001b[1;36m5\u001b[0m\u001b[1;33m)\u001b[0m\u001b[1;33m\u001b[0m\u001b[1;33m\u001b[0m\u001b[0m\n\u001b[1;32m---> 11\u001b[1;33m \u001b[0mgs\u001b[0m\u001b[1;33m.\u001b[0m\u001b[0mfit\u001b[0m\u001b[1;33m(\u001b[0m\u001b[0mX_train\u001b[0m\u001b[1;33m,\u001b[0m \u001b[0my_train\u001b[0m\u001b[1;33m)\u001b[0m\u001b[1;33m\u001b[0m\u001b[1;33m\u001b[0m\u001b[0m\n\u001b[0m\u001b[0;32m     12\u001b[0m \u001b[0mprint\u001b[0m\u001b[1;33m(\u001b[0m\u001b[1;34m'train score'\u001b[0m\u001b[1;33m,\u001b[0m \u001b[0mgs\u001b[0m\u001b[1;33m.\u001b[0m\u001b[0mscore\u001b[0m\u001b[1;33m(\u001b[0m\u001b[0mX_train\u001b[0m\u001b[1;33m,\u001b[0m \u001b[0my_train\u001b[0m\u001b[1;33m)\u001b[0m\u001b[1;33m)\u001b[0m\u001b[1;33m\u001b[0m\u001b[1;33m\u001b[0m\u001b[0m\n\u001b[0;32m     13\u001b[0m \u001b[0mprint\u001b[0m\u001b[1;33m(\u001b[0m\u001b[1;34m'test score'\u001b[0m\u001b[1;33m,\u001b[0m \u001b[0mgs\u001b[0m\u001b[1;33m.\u001b[0m\u001b[0mscore\u001b[0m\u001b[1;33m(\u001b[0m\u001b[0mX_test\u001b[0m\u001b[1;33m,\u001b[0m \u001b[0my_test\u001b[0m\u001b[1;33m)\u001b[0m\u001b[1;33m)\u001b[0m\u001b[1;33m\u001b[0m\u001b[1;33m\u001b[0m\u001b[0m\n",
      "\u001b[1;32m~\\anaconda3\\lib\\site-packages\\sklearn\\utils\\validation.py\u001b[0m in \u001b[0;36minner_f\u001b[1;34m(*args, **kwargs)\u001b[0m\n\u001b[0;32m     61\u001b[0m             \u001b[0mextra_args\u001b[0m \u001b[1;33m=\u001b[0m \u001b[0mlen\u001b[0m\u001b[1;33m(\u001b[0m\u001b[0margs\u001b[0m\u001b[1;33m)\u001b[0m \u001b[1;33m-\u001b[0m \u001b[0mlen\u001b[0m\u001b[1;33m(\u001b[0m\u001b[0mall_args\u001b[0m\u001b[1;33m)\u001b[0m\u001b[1;33m\u001b[0m\u001b[1;33m\u001b[0m\u001b[0m\n\u001b[0;32m     62\u001b[0m             \u001b[1;32mif\u001b[0m \u001b[0mextra_args\u001b[0m \u001b[1;33m<=\u001b[0m \u001b[1;36m0\u001b[0m\u001b[1;33m:\u001b[0m\u001b[1;33m\u001b[0m\u001b[1;33m\u001b[0m\u001b[0m\n\u001b[1;32m---> 63\u001b[1;33m                 \u001b[1;32mreturn\u001b[0m \u001b[0mf\u001b[0m\u001b[1;33m(\u001b[0m\u001b[1;33m*\u001b[0m\u001b[0margs\u001b[0m\u001b[1;33m,\u001b[0m \u001b[1;33m**\u001b[0m\u001b[0mkwargs\u001b[0m\u001b[1;33m)\u001b[0m\u001b[1;33m\u001b[0m\u001b[1;33m\u001b[0m\u001b[0m\n\u001b[0m\u001b[0;32m     64\u001b[0m \u001b[1;33m\u001b[0m\u001b[0m\n\u001b[0;32m     65\u001b[0m             \u001b[1;31m# extra_args > 0\u001b[0m\u001b[1;33m\u001b[0m\u001b[1;33m\u001b[0m\u001b[1;33m\u001b[0m\u001b[0m\n",
      "\u001b[1;32m~\\anaconda3\\lib\\site-packages\\sklearn\\model_selection\\_search.py\u001b[0m in \u001b[0;36mfit\u001b[1;34m(self, X, y, groups, **fit_params)\u001b[0m\n\u001b[0;32m    839\u001b[0m                 \u001b[1;32mreturn\u001b[0m \u001b[0mresults\u001b[0m\u001b[1;33m\u001b[0m\u001b[1;33m\u001b[0m\u001b[0m\n\u001b[0;32m    840\u001b[0m \u001b[1;33m\u001b[0m\u001b[0m\n\u001b[1;32m--> 841\u001b[1;33m             \u001b[0mself\u001b[0m\u001b[1;33m.\u001b[0m\u001b[0m_run_search\u001b[0m\u001b[1;33m(\u001b[0m\u001b[0mevaluate_candidates\u001b[0m\u001b[1;33m)\u001b[0m\u001b[1;33m\u001b[0m\u001b[1;33m\u001b[0m\u001b[0m\n\u001b[0m\u001b[0;32m    842\u001b[0m \u001b[1;33m\u001b[0m\u001b[0m\n\u001b[0;32m    843\u001b[0m             \u001b[1;31m# multimetric is determined here because in the case of a callable\u001b[0m\u001b[1;33m\u001b[0m\u001b[1;33m\u001b[0m\u001b[1;33m\u001b[0m\u001b[0m\n",
      "\u001b[1;32m~\\anaconda3\\lib\\site-packages\\sklearn\\model_selection\\_search.py\u001b[0m in \u001b[0;36m_run_search\u001b[1;34m(self, evaluate_candidates)\u001b[0m\n\u001b[0;32m   1294\u001b[0m     \u001b[1;32mdef\u001b[0m \u001b[0m_run_search\u001b[0m\u001b[1;33m(\u001b[0m\u001b[0mself\u001b[0m\u001b[1;33m,\u001b[0m \u001b[0mevaluate_candidates\u001b[0m\u001b[1;33m)\u001b[0m\u001b[1;33m:\u001b[0m\u001b[1;33m\u001b[0m\u001b[1;33m\u001b[0m\u001b[0m\n\u001b[0;32m   1295\u001b[0m         \u001b[1;34m\"\"\"Search all candidates in param_grid\"\"\"\u001b[0m\u001b[1;33m\u001b[0m\u001b[1;33m\u001b[0m\u001b[0m\n\u001b[1;32m-> 1296\u001b[1;33m         \u001b[0mevaluate_candidates\u001b[0m\u001b[1;33m(\u001b[0m\u001b[0mParameterGrid\u001b[0m\u001b[1;33m(\u001b[0m\u001b[0mself\u001b[0m\u001b[1;33m.\u001b[0m\u001b[0mparam_grid\u001b[0m\u001b[1;33m)\u001b[0m\u001b[1;33m)\u001b[0m\u001b[1;33m\u001b[0m\u001b[1;33m\u001b[0m\u001b[0m\n\u001b[0m\u001b[0;32m   1297\u001b[0m \u001b[1;33m\u001b[0m\u001b[0m\n\u001b[0;32m   1298\u001b[0m \u001b[1;33m\u001b[0m\u001b[0m\n",
      "\u001b[1;32m~\\anaconda3\\lib\\site-packages\\sklearn\\model_selection\\_search.py\u001b[0m in \u001b[0;36mevaluate_candidates\u001b[1;34m(candidate_params, cv, more_results)\u001b[0m\n\u001b[0;32m    793\u001b[0m                               n_splits, n_candidates, n_candidates * n_splits))\n\u001b[0;32m    794\u001b[0m \u001b[1;33m\u001b[0m\u001b[0m\n\u001b[1;32m--> 795\u001b[1;33m                 out = parallel(delayed(_fit_and_score)(clone(base_estimator),\n\u001b[0m\u001b[0;32m    796\u001b[0m                                                        \u001b[0mX\u001b[0m\u001b[1;33m,\u001b[0m \u001b[0my\u001b[0m\u001b[1;33m,\u001b[0m\u001b[1;33m\u001b[0m\u001b[1;33m\u001b[0m\u001b[0m\n\u001b[0;32m    797\u001b[0m                                                        \u001b[0mtrain\u001b[0m\u001b[1;33m=\u001b[0m\u001b[0mtrain\u001b[0m\u001b[1;33m,\u001b[0m \u001b[0mtest\u001b[0m\u001b[1;33m=\u001b[0m\u001b[0mtest\u001b[0m\u001b[1;33m,\u001b[0m\u001b[1;33m\u001b[0m\u001b[1;33m\u001b[0m\u001b[0m\n",
      "\u001b[1;32m~\\anaconda3\\lib\\site-packages\\joblib\\parallel.py\u001b[0m in \u001b[0;36m__call__\u001b[1;34m(self, iterable)\u001b[0m\n\u001b[0;32m   1052\u001b[0m \u001b[1;33m\u001b[0m\u001b[0m\n\u001b[0;32m   1053\u001b[0m             \u001b[1;32mwith\u001b[0m \u001b[0mself\u001b[0m\u001b[1;33m.\u001b[0m\u001b[0m_backend\u001b[0m\u001b[1;33m.\u001b[0m\u001b[0mretrieval_context\u001b[0m\u001b[1;33m(\u001b[0m\u001b[1;33m)\u001b[0m\u001b[1;33m:\u001b[0m\u001b[1;33m\u001b[0m\u001b[1;33m\u001b[0m\u001b[0m\n\u001b[1;32m-> 1054\u001b[1;33m                 \u001b[0mself\u001b[0m\u001b[1;33m.\u001b[0m\u001b[0mretrieve\u001b[0m\u001b[1;33m(\u001b[0m\u001b[1;33m)\u001b[0m\u001b[1;33m\u001b[0m\u001b[1;33m\u001b[0m\u001b[0m\n\u001b[0m\u001b[0;32m   1055\u001b[0m             \u001b[1;31m# Make sure that we get a last message telling us we are done\u001b[0m\u001b[1;33m\u001b[0m\u001b[1;33m\u001b[0m\u001b[1;33m\u001b[0m\u001b[0m\n\u001b[0;32m   1056\u001b[0m             \u001b[0melapsed_time\u001b[0m \u001b[1;33m=\u001b[0m \u001b[0mtime\u001b[0m\u001b[1;33m.\u001b[0m\u001b[0mtime\u001b[0m\u001b[1;33m(\u001b[0m\u001b[1;33m)\u001b[0m \u001b[1;33m-\u001b[0m \u001b[0mself\u001b[0m\u001b[1;33m.\u001b[0m\u001b[0m_start_time\u001b[0m\u001b[1;33m\u001b[0m\u001b[1;33m\u001b[0m\u001b[0m\n",
      "\u001b[1;32m~\\anaconda3\\lib\\site-packages\\joblib\\parallel.py\u001b[0m in \u001b[0;36mretrieve\u001b[1;34m(self)\u001b[0m\n\u001b[0;32m    931\u001b[0m             \u001b[1;32mtry\u001b[0m\u001b[1;33m:\u001b[0m\u001b[1;33m\u001b[0m\u001b[1;33m\u001b[0m\u001b[0m\n\u001b[0;32m    932\u001b[0m                 \u001b[1;32mif\u001b[0m \u001b[0mgetattr\u001b[0m\u001b[1;33m(\u001b[0m\u001b[0mself\u001b[0m\u001b[1;33m.\u001b[0m\u001b[0m_backend\u001b[0m\u001b[1;33m,\u001b[0m \u001b[1;34m'supports_timeout'\u001b[0m\u001b[1;33m,\u001b[0m \u001b[1;32mFalse\u001b[0m\u001b[1;33m)\u001b[0m\u001b[1;33m:\u001b[0m\u001b[1;33m\u001b[0m\u001b[1;33m\u001b[0m\u001b[0m\n\u001b[1;32m--> 933\u001b[1;33m                     \u001b[0mself\u001b[0m\u001b[1;33m.\u001b[0m\u001b[0m_output\u001b[0m\u001b[1;33m.\u001b[0m\u001b[0mextend\u001b[0m\u001b[1;33m(\u001b[0m\u001b[0mjob\u001b[0m\u001b[1;33m.\u001b[0m\u001b[0mget\u001b[0m\u001b[1;33m(\u001b[0m\u001b[0mtimeout\u001b[0m\u001b[1;33m=\u001b[0m\u001b[0mself\u001b[0m\u001b[1;33m.\u001b[0m\u001b[0mtimeout\u001b[0m\u001b[1;33m)\u001b[0m\u001b[1;33m)\u001b[0m\u001b[1;33m\u001b[0m\u001b[1;33m\u001b[0m\u001b[0m\n\u001b[0m\u001b[0;32m    934\u001b[0m                 \u001b[1;32melse\u001b[0m\u001b[1;33m:\u001b[0m\u001b[1;33m\u001b[0m\u001b[1;33m\u001b[0m\u001b[0m\n\u001b[0;32m    935\u001b[0m                     \u001b[0mself\u001b[0m\u001b[1;33m.\u001b[0m\u001b[0m_output\u001b[0m\u001b[1;33m.\u001b[0m\u001b[0mextend\u001b[0m\u001b[1;33m(\u001b[0m\u001b[0mjob\u001b[0m\u001b[1;33m.\u001b[0m\u001b[0mget\u001b[0m\u001b[1;33m(\u001b[0m\u001b[1;33m)\u001b[0m\u001b[1;33m)\u001b[0m\u001b[1;33m\u001b[0m\u001b[1;33m\u001b[0m\u001b[0m\n",
      "\u001b[1;32m~\\anaconda3\\lib\\site-packages\\joblib\\_parallel_backends.py\u001b[0m in \u001b[0;36mwrap_future_result\u001b[1;34m(future, timeout)\u001b[0m\n\u001b[0;32m    540\u001b[0m         AsyncResults.get from multiprocessing.\"\"\"\n\u001b[0;32m    541\u001b[0m         \u001b[1;32mtry\u001b[0m\u001b[1;33m:\u001b[0m\u001b[1;33m\u001b[0m\u001b[1;33m\u001b[0m\u001b[0m\n\u001b[1;32m--> 542\u001b[1;33m             \u001b[1;32mreturn\u001b[0m \u001b[0mfuture\u001b[0m\u001b[1;33m.\u001b[0m\u001b[0mresult\u001b[0m\u001b[1;33m(\u001b[0m\u001b[0mtimeout\u001b[0m\u001b[1;33m=\u001b[0m\u001b[0mtimeout\u001b[0m\u001b[1;33m)\u001b[0m\u001b[1;33m\u001b[0m\u001b[1;33m\u001b[0m\u001b[0m\n\u001b[0m\u001b[0;32m    543\u001b[0m         \u001b[1;32mexcept\u001b[0m \u001b[0mCfTimeoutError\u001b[0m \u001b[1;32mas\u001b[0m \u001b[0me\u001b[0m\u001b[1;33m:\u001b[0m\u001b[1;33m\u001b[0m\u001b[1;33m\u001b[0m\u001b[0m\n\u001b[0;32m    544\u001b[0m             \u001b[1;32mraise\u001b[0m \u001b[0mTimeoutError\u001b[0m \u001b[1;32mfrom\u001b[0m \u001b[0me\u001b[0m\u001b[1;33m\u001b[0m\u001b[1;33m\u001b[0m\u001b[0m\n",
      "\u001b[1;32m~\\anaconda3\\lib\\concurrent\\futures\\_base.py\u001b[0m in \u001b[0;36mresult\u001b[1;34m(self, timeout)\u001b[0m\n\u001b[0;32m    432\u001b[0m                 \u001b[1;32mreturn\u001b[0m \u001b[0mself\u001b[0m\u001b[1;33m.\u001b[0m\u001b[0m__get_result\u001b[0m\u001b[1;33m(\u001b[0m\u001b[1;33m)\u001b[0m\u001b[1;33m\u001b[0m\u001b[1;33m\u001b[0m\u001b[0m\n\u001b[0;32m    433\u001b[0m \u001b[1;33m\u001b[0m\u001b[0m\n\u001b[1;32m--> 434\u001b[1;33m             \u001b[0mself\u001b[0m\u001b[1;33m.\u001b[0m\u001b[0m_condition\u001b[0m\u001b[1;33m.\u001b[0m\u001b[0mwait\u001b[0m\u001b[1;33m(\u001b[0m\u001b[0mtimeout\u001b[0m\u001b[1;33m)\u001b[0m\u001b[1;33m\u001b[0m\u001b[1;33m\u001b[0m\u001b[0m\n\u001b[0m\u001b[0;32m    435\u001b[0m \u001b[1;33m\u001b[0m\u001b[0m\n\u001b[0;32m    436\u001b[0m             \u001b[1;32mif\u001b[0m \u001b[0mself\u001b[0m\u001b[1;33m.\u001b[0m\u001b[0m_state\u001b[0m \u001b[1;32min\u001b[0m \u001b[1;33m[\u001b[0m\u001b[0mCANCELLED\u001b[0m\u001b[1;33m,\u001b[0m \u001b[0mCANCELLED_AND_NOTIFIED\u001b[0m\u001b[1;33m]\u001b[0m\u001b[1;33m:\u001b[0m\u001b[1;33m\u001b[0m\u001b[1;33m\u001b[0m\u001b[0m\n",
      "\u001b[1;32m~\\anaconda3\\lib\\threading.py\u001b[0m in \u001b[0;36mwait\u001b[1;34m(self, timeout)\u001b[0m\n\u001b[0;32m    300\u001b[0m         \u001b[1;32mtry\u001b[0m\u001b[1;33m:\u001b[0m    \u001b[1;31m# restore state no matter what (e.g., KeyboardInterrupt)\u001b[0m\u001b[1;33m\u001b[0m\u001b[1;33m\u001b[0m\u001b[0m\n\u001b[0;32m    301\u001b[0m             \u001b[1;32mif\u001b[0m \u001b[0mtimeout\u001b[0m \u001b[1;32mis\u001b[0m \u001b[1;32mNone\u001b[0m\u001b[1;33m:\u001b[0m\u001b[1;33m\u001b[0m\u001b[1;33m\u001b[0m\u001b[0m\n\u001b[1;32m--> 302\u001b[1;33m                 \u001b[0mwaiter\u001b[0m\u001b[1;33m.\u001b[0m\u001b[0macquire\u001b[0m\u001b[1;33m(\u001b[0m\u001b[1;33m)\u001b[0m\u001b[1;33m\u001b[0m\u001b[1;33m\u001b[0m\u001b[0m\n\u001b[0m\u001b[0;32m    303\u001b[0m                 \u001b[0mgotit\u001b[0m \u001b[1;33m=\u001b[0m \u001b[1;32mTrue\u001b[0m\u001b[1;33m\u001b[0m\u001b[1;33m\u001b[0m\u001b[0m\n\u001b[0;32m    304\u001b[0m             \u001b[1;32melse\u001b[0m\u001b[1;33m:\u001b[0m\u001b[1;33m\u001b[0m\u001b[1;33m\u001b[0m\u001b[0m\n",
      "\u001b[1;31mKeyboardInterrupt\u001b[0m: "
     ]
    }
   ],
   "source": [
    "gbr = GradientBoostingRegressor()\n",
    "\n",
    "params = {\n",
    "    'loss': ['ls', 'lad', 'huber'],\n",
    "    'learning_rate': [.001, .001],\n",
    "    'n_estimators': [120, 200, 250],\n",
    "    'max_depth': [2, 3, 4]\n",
    "}\n",
    "\n",
    "gs = GridSearchCV(gbr, param_grid=params, verbose=3, n_jobs= 5)\n",
    "gs.fit(X_train, y_train)\n",
    "print('train score', gs.score(X_train, y_train))\n",
    "print('test score', gs.score(X_test, y_test))\n",
    "gs.best_params_"
   ]
  },
  {
   "cell_type": "code",
   "execution_count": null,
   "id": "c655b19f-fefe-46f6-8416-ff2b191b10af",
   "metadata": {},
   "outputs": [],
   "source": [
    "df['pct_black'].max(), df['poverty_rate'].max()"
   ]
  },
  {
   "cell_type": "code",
   "execution_count": null,
   "id": "bedc80e8",
   "metadata": {},
   "outputs": [],
   "source": [
    "plt.scatter(df['poverty_rate'], df['death_rate'])\n",
    "plt.xlabel('POVERTY RATE')\n",
    "plt.ylabel('DEATH RATE');"
   ]
  },
  {
   "cell_type": "code",
   "execution_count": null,
   "id": "8294df11-da7a-4567-8b4d-185c5d02b4ec",
   "metadata": {},
   "outputs": [],
   "source": []
  }
 ],
 "metadata": {
  "kernelspec": {
   "display_name": "Python [conda env:root] *",
   "language": "python",
   "name": "conda-root-py"
  },
  "language_info": {
   "codemirror_mode": {
    "name": "ipython",
    "version": 3
   },
   "file_extension": ".py",
   "mimetype": "text/x-python",
   "name": "python",
   "nbconvert_exporter": "python",
   "pygments_lexer": "ipython3",
   "version": "3.8.5"
  }
 },
 "nbformat": 4,
 "nbformat_minor": 5
}
