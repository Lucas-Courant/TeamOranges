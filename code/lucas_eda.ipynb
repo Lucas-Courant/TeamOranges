{
 "cells": [
  {
   "cell_type": "code",
   "execution_count": 57,
   "id": "d1c65cfe",
   "metadata": {
    "ExecuteTime": {
     "end_time": "2021-06-08T18:44:25.958210Z",
     "start_time": "2021-06-08T18:44:25.945207Z"
    }
   },
   "outputs": [],
   "source": [
    "import pandas as pd\n",
    "import numpy as np\n",
    "from sklearn.model_selection import train_test_split, cross_val_score,\\\n",
    "                                    GridSearchCV\n",
    "from sklearn.preprocessing import StandardScaler\n",
    "from sklearn.linear_model import LinearRegression, Lasso\n",
    "from sklearn.svm import SVR\n",
    "from sklearn.ensemble import AdaBoostRegressor, GradientBoostingRegressor,\\\n",
    "                             RandomForestRegressor"
   ]
  },
  {
   "cell_type": "code",
   "execution_count": 58,
   "id": "89f5989d",
   "metadata": {
    "ExecuteTime": {
     "end_time": "2021-06-08T18:44:26.822361Z",
     "start_time": "2021-06-08T18:44:26.144209Z"
    }
   },
   "outputs": [],
   "source": [
    "covid = pd.read_csv('../data/covid19_nyt_us_counties.csv')"
   ]
  },
  {
   "cell_type": "code",
   "execution_count": 50,
   "id": "755ae2b9",
   "metadata": {
    "ExecuteTime": {
     "end_time": "2021-06-08T18:43:57.210787Z",
     "start_time": "2021-06-08T18:43:57.195785Z"
    }
   },
   "outputs": [
    {
     "name": "stdout",
     "output_type": "stream",
     "text": [
      "(1384683, 6)\n"
     ]
    },
    {
     "data": {
      "text/html": [
       "<div>\n",
       "<style scoped>\n",
       "    .dataframe tbody tr th:only-of-type {\n",
       "        vertical-align: middle;\n",
       "    }\n",
       "\n",
       "    .dataframe tbody tr th {\n",
       "        vertical-align: top;\n",
       "    }\n",
       "\n",
       "    .dataframe thead th {\n",
       "        text-align: right;\n",
       "    }\n",
       "</style>\n",
       "<table border=\"1\" class=\"dataframe\">\n",
       "  <thead>\n",
       "    <tr style=\"text-align: right;\">\n",
       "      <th></th>\n",
       "      <th>date</th>\n",
       "      <th>county</th>\n",
       "      <th>state_name</th>\n",
       "      <th>county_fips_code</th>\n",
       "      <th>confirmed_cases</th>\n",
       "      <th>deaths</th>\n",
       "    </tr>\n",
       "  </thead>\n",
       "  <tbody>\n",
       "    <tr>\n",
       "      <th>0</th>\n",
       "      <td>2020-07-22</td>\n",
       "      <td>Kent</td>\n",
       "      <td>Rhode Island</td>\n",
       "      <td>44003.0</td>\n",
       "      <td>1351</td>\n",
       "      <td>101.0</td>\n",
       "    </tr>\n",
       "    <tr>\n",
       "      <th>1</th>\n",
       "      <td>2020-07-22</td>\n",
       "      <td>Providence</td>\n",
       "      <td>Rhode Island</td>\n",
       "      <td>44007.0</td>\n",
       "      <td>14033</td>\n",
       "      <td>801.0</td>\n",
       "    </tr>\n",
       "    <tr>\n",
       "      <th>2</th>\n",
       "      <td>2020-07-23</td>\n",
       "      <td>Apache</td>\n",
       "      <td>Arizona</td>\n",
       "      <td>4001.0</td>\n",
       "      <td>2841</td>\n",
       "      <td>117.0</td>\n",
       "    </tr>\n",
       "    <tr>\n",
       "      <th>3</th>\n",
       "      <td>2020-07-23</td>\n",
       "      <td>Coconino</td>\n",
       "      <td>Arizona</td>\n",
       "      <td>4005.0</td>\n",
       "      <td>2778</td>\n",
       "      <td>110.0</td>\n",
       "    </tr>\n",
       "    <tr>\n",
       "      <th>4</th>\n",
       "      <td>2020-07-23</td>\n",
       "      <td>Maricopa</td>\n",
       "      <td>Arizona</td>\n",
       "      <td>4013.0</td>\n",
       "      <td>102247</td>\n",
       "      <td>1651.0</td>\n",
       "    </tr>\n",
       "  </tbody>\n",
       "</table>\n",
       "</div>"
      ],
      "text/plain": [
       "         date      county    state_name  county_fips_code  confirmed_cases  \\\n",
       "0  2020-07-22        Kent  Rhode Island           44003.0             1351   \n",
       "1  2020-07-22  Providence  Rhode Island           44007.0            14033   \n",
       "2  2020-07-23      Apache       Arizona            4001.0             2841   \n",
       "3  2020-07-23    Coconino       Arizona            4005.0             2778   \n",
       "4  2020-07-23    Maricopa       Arizona            4013.0           102247   \n",
       "\n",
       "   deaths  \n",
       "0   101.0  \n",
       "1   801.0  \n",
       "2   117.0  \n",
       "3   110.0  \n",
       "4  1651.0  "
      ]
     },
     "execution_count": 50,
     "metadata": {},
     "output_type": "execute_result"
    }
   ],
   "source": [
    "print(covid.shape)\n",
    "covid.head()"
   ]
  },
  {
   "cell_type": "code",
   "execution_count": 51,
   "id": "a813132b",
   "metadata": {
    "ExecuteTime": {
     "end_time": "2021-06-08T18:43:58.888031Z",
     "start_time": "2021-06-08T18:43:58.855024Z"
    }
   },
   "outputs": [
    {
     "data": {
      "text/plain": [
       "3219"
      ]
     },
     "execution_count": 51,
     "metadata": {},
     "output_type": "execute_result"
    }
   ],
   "source": [
    "len(covid.county_fips_code.unique())"
   ]
  },
  {
   "cell_type": "code",
   "execution_count": 52,
   "id": "c3c36b05",
   "metadata": {
    "ExecuteTime": {
     "end_time": "2021-06-08T18:44:00.462529Z",
     "start_time": "2021-06-08T18:44:00.366157Z"
    }
   },
   "outputs": [],
   "source": [
    "census = pd.read_csv('../data/census_bureau_acs_county_2018_5yr.csv')"
   ]
  },
  {
   "cell_type": "code",
   "execution_count": 53,
   "id": "4213e0d3",
   "metadata": {
    "ExecuteTime": {
     "end_time": "2021-06-08T18:44:00.820049Z",
     "start_time": "2021-06-08T18:44:00.795044Z"
    }
   },
   "outputs": [
    {
     "name": "stdout",
     "output_type": "stream",
     "text": [
      "(3220, 242)\n"
     ]
    },
    {
     "data": {
      "text/html": [
       "<div>\n",
       "<style scoped>\n",
       "    .dataframe tbody tr th:only-of-type {\n",
       "        vertical-align: middle;\n",
       "    }\n",
       "\n",
       "    .dataframe tbody tr th {\n",
       "        vertical-align: top;\n",
       "    }\n",
       "\n",
       "    .dataframe thead th {\n",
       "        text-align: right;\n",
       "    }\n",
       "</style>\n",
       "<table border=\"1\" class=\"dataframe\">\n",
       "  <thead>\n",
       "    <tr style=\"text-align: right;\">\n",
       "      <th></th>\n",
       "      <th>geo_id</th>\n",
       "      <th>do_date</th>\n",
       "      <th>total_pop</th>\n",
       "      <th>households</th>\n",
       "      <th>male_pop</th>\n",
       "      <th>female_pop</th>\n",
       "      <th>median_age</th>\n",
       "      <th>male_under_5</th>\n",
       "      <th>male_5_to_9</th>\n",
       "      <th>male_10_to_14</th>\n",
       "      <th>...</th>\n",
       "      <th>management_business_sci_arts_employed</th>\n",
       "      <th>sales_office_employed</th>\n",
       "      <th>in_grades_1_to_4</th>\n",
       "      <th>in_grades_5_to_8</th>\n",
       "      <th>in_grades_9_to_12</th>\n",
       "      <th>in_school</th>\n",
       "      <th>in_undergrad_college</th>\n",
       "      <th>speak_only_english_at_home</th>\n",
       "      <th>speak_spanish_at_home</th>\n",
       "      <th>speak_spanish_at_home_low_english</th>\n",
       "    </tr>\n",
       "  </thead>\n",
       "  <tbody>\n",
       "    <tr>\n",
       "      <th>0</th>\n",
       "      <td>35039</td>\n",
       "      <td>2014-01-01</td>\n",
       "      <td>39307.0</td>\n",
       "      <td>12398.0</td>\n",
       "      <td>19250.0</td>\n",
       "      <td>20057.0</td>\n",
       "      <td>40.6</td>\n",
       "      <td>1224.0</td>\n",
       "      <td>1240.0</td>\n",
       "      <td>1278.0</td>\n",
       "      <td>...</td>\n",
       "      <td>NaN</td>\n",
       "      <td>NaN</td>\n",
       "      <td>2170.0</td>\n",
       "      <td>1985.0</td>\n",
       "      <td>1970.0</td>\n",
       "      <td>9260.0</td>\n",
       "      <td>1653.0</td>\n",
       "      <td>NaN</td>\n",
       "      <td>NaN</td>\n",
       "      <td>NaN</td>\n",
       "    </tr>\n",
       "    <tr>\n",
       "      <th>1</th>\n",
       "      <td>72133</td>\n",
       "      <td>2014-01-01</td>\n",
       "      <td>22066.0</td>\n",
       "      <td>7465.0</td>\n",
       "      <td>10650.0</td>\n",
       "      <td>11416.0</td>\n",
       "      <td>37.8</td>\n",
       "      <td>567.0</td>\n",
       "      <td>662.0</td>\n",
       "      <td>864.0</td>\n",
       "      <td>...</td>\n",
       "      <td>2171.0</td>\n",
       "      <td>1242.0</td>\n",
       "      <td>1155.0</td>\n",
       "      <td>1362.0</td>\n",
       "      <td>1319.0</td>\n",
       "      <td>5884.0</td>\n",
       "      <td>1410.0</td>\n",
       "      <td>NaN</td>\n",
       "      <td>NaN</td>\n",
       "      <td>NaN</td>\n",
       "    </tr>\n",
       "    <tr>\n",
       "      <th>2</th>\n",
       "      <td>72043</td>\n",
       "      <td>2014-01-01</td>\n",
       "      <td>39265.0</td>\n",
       "      <td>13346.0</td>\n",
       "      <td>19056.0</td>\n",
       "      <td>20209.0</td>\n",
       "      <td>40.7</td>\n",
       "      <td>945.0</td>\n",
       "      <td>1109.0</td>\n",
       "      <td>1431.0</td>\n",
       "      <td>...</td>\n",
       "      <td>3023.0</td>\n",
       "      <td>2529.0</td>\n",
       "      <td>1851.0</td>\n",
       "      <td>2144.0</td>\n",
       "      <td>1901.0</td>\n",
       "      <td>9475.0</td>\n",
       "      <td>2219.0</td>\n",
       "      <td>NaN</td>\n",
       "      <td>NaN</td>\n",
       "      <td>NaN</td>\n",
       "    </tr>\n",
       "    <tr>\n",
       "      <th>3</th>\n",
       "      <td>72151</td>\n",
       "      <td>2014-01-01</td>\n",
       "      <td>34149.0</td>\n",
       "      <td>11722.0</td>\n",
       "      <td>16541.0</td>\n",
       "      <td>17608.0</td>\n",
       "      <td>42.5</td>\n",
       "      <td>754.0</td>\n",
       "      <td>1095.0</td>\n",
       "      <td>1020.0</td>\n",
       "      <td>...</td>\n",
       "      <td>1969.0</td>\n",
       "      <td>1700.0</td>\n",
       "      <td>1957.0</td>\n",
       "      <td>1388.0</td>\n",
       "      <td>1933.0</td>\n",
       "      <td>8055.0</td>\n",
       "      <td>2147.0</td>\n",
       "      <td>NaN</td>\n",
       "      <td>NaN</td>\n",
       "      <td>NaN</td>\n",
       "    </tr>\n",
       "    <tr>\n",
       "      <th>4</th>\n",
       "      <td>72071</td>\n",
       "      <td>2014-01-01</td>\n",
       "      <td>42420.0</td>\n",
       "      <td>15012.0</td>\n",
       "      <td>20629.0</td>\n",
       "      <td>21791.0</td>\n",
       "      <td>41.6</td>\n",
       "      <td>898.0</td>\n",
       "      <td>1159.0</td>\n",
       "      <td>1381.0</td>\n",
       "      <td>...</td>\n",
       "      <td>3246.0</td>\n",
       "      <td>2725.0</td>\n",
       "      <td>1996.0</td>\n",
       "      <td>2057.0</td>\n",
       "      <td>2211.0</td>\n",
       "      <td>10099.0</td>\n",
       "      <td>2551.0</td>\n",
       "      <td>NaN</td>\n",
       "      <td>NaN</td>\n",
       "      <td>NaN</td>\n",
       "    </tr>\n",
       "  </tbody>\n",
       "</table>\n",
       "<p>5 rows × 242 columns</p>\n",
       "</div>"
      ],
      "text/plain": [
       "   geo_id     do_date  total_pop  households  male_pop  female_pop  \\\n",
       "0   35039  2014-01-01    39307.0     12398.0   19250.0     20057.0   \n",
       "1   72133  2014-01-01    22066.0      7465.0   10650.0     11416.0   \n",
       "2   72043  2014-01-01    39265.0     13346.0   19056.0     20209.0   \n",
       "3   72151  2014-01-01    34149.0     11722.0   16541.0     17608.0   \n",
       "4   72071  2014-01-01    42420.0     15012.0   20629.0     21791.0   \n",
       "\n",
       "   median_age  male_under_5  male_5_to_9  male_10_to_14  ...  \\\n",
       "0        40.6        1224.0       1240.0         1278.0  ...   \n",
       "1        37.8         567.0        662.0          864.0  ...   \n",
       "2        40.7         945.0       1109.0         1431.0  ...   \n",
       "3        42.5         754.0       1095.0         1020.0  ...   \n",
       "4        41.6         898.0       1159.0         1381.0  ...   \n",
       "\n",
       "   management_business_sci_arts_employed  sales_office_employed  \\\n",
       "0                                    NaN                    NaN   \n",
       "1                                 2171.0                 1242.0   \n",
       "2                                 3023.0                 2529.0   \n",
       "3                                 1969.0                 1700.0   \n",
       "4                                 3246.0                 2725.0   \n",
       "\n",
       "   in_grades_1_to_4  in_grades_5_to_8  in_grades_9_to_12  in_school  \\\n",
       "0            2170.0            1985.0             1970.0     9260.0   \n",
       "1            1155.0            1362.0             1319.0     5884.0   \n",
       "2            1851.0            2144.0             1901.0     9475.0   \n",
       "3            1957.0            1388.0             1933.0     8055.0   \n",
       "4            1996.0            2057.0             2211.0    10099.0   \n",
       "\n",
       "   in_undergrad_college  speak_only_english_at_home  speak_spanish_at_home  \\\n",
       "0                1653.0                         NaN                    NaN   \n",
       "1                1410.0                         NaN                    NaN   \n",
       "2                2219.0                         NaN                    NaN   \n",
       "3                2147.0                         NaN                    NaN   \n",
       "4                2551.0                         NaN                    NaN   \n",
       "\n",
       "   speak_spanish_at_home_low_english  \n",
       "0                                NaN  \n",
       "1                                NaN  \n",
       "2                                NaN  \n",
       "3                                NaN  \n",
       "4                                NaN  \n",
       "\n",
       "[5 rows x 242 columns]"
      ]
     },
     "execution_count": 53,
     "metadata": {},
     "output_type": "execute_result"
    }
   ],
   "source": [
    "print(census.shape)\n",
    "census.head()"
   ]
  },
  {
   "cell_type": "code",
   "execution_count": 54,
   "id": "a8a76748",
   "metadata": {
    "ExecuteTime": {
     "end_time": "2021-06-08T18:44:03.234264Z",
     "start_time": "2021-06-08T18:44:02.142009Z"
    }
   },
   "outputs": [
    {
     "data": {
      "text/plain": [
       "date                0\n",
       "county              0\n",
       "state_name          0\n",
       "confirmed_cases     0\n",
       "deaths             78\n",
       "dtype: int64"
      ]
     },
     "execution_count": 54,
     "metadata": {},
     "output_type": "execute_result"
    }
   ],
   "source": [
    "covid.groupby('county_fips_code').max().isna().sum()"
   ]
  },
  {
   "cell_type": "code",
   "execution_count": 55,
   "id": "d2d402ce",
   "metadata": {
    "ExecuteTime": {
     "end_time": "2021-06-08T18:44:15.967682Z",
     "start_time": "2021-06-08T18:44:14.894029Z"
    }
   },
   "outputs": [],
   "source": [
    "by_county = covid.groupby('county_fips_code').max()"
   ]
  },
  {
   "cell_type": "code",
   "execution_count": 10,
   "id": "341f2d2b",
   "metadata": {
    "ExecuteTime": {
     "end_time": "2021-06-08T18:35:50.113362Z",
     "start_time": "2021-06-08T18:35:50.099360Z"
    }
   },
   "outputs": [],
   "source": [
    "census.set_index('geo_id', inplace=True)"
   ]
  },
  {
   "cell_type": "code",
   "execution_count": 12,
   "id": "cd420f3f",
   "metadata": {
    "ExecuteTime": {
     "end_time": "2021-06-08T18:35:50.158260Z",
     "start_time": "2021-06-08T18:35:50.144257Z"
    }
   },
   "outputs": [],
   "source": [
    "df = pd.merge(by_county, census, left_index = True, right_index=True)"
   ]
  },
  {
   "cell_type": "code",
   "execution_count": 13,
   "id": "12ddaa1e",
   "metadata": {
    "ExecuteTime": {
     "end_time": "2021-06-08T18:35:50.174263Z",
     "start_time": "2021-06-08T18:35:50.159260Z"
    }
   },
   "outputs": [
    {
     "name": "stdout",
     "output_type": "stream",
     "text": [
      "by_county df: (3218, 5)\n",
      "census df: (3220, 241)\n",
      "final df: (3211, 246)\n"
     ]
    }
   ],
   "source": [
    "print('by_county df:', by_county.shape)\n",
    "print('census df:', census.shape)\n",
    "print('final df:', df.shape)"
   ]
  },
  {
   "cell_type": "code",
   "execution_count": 16,
   "id": "931508f3",
   "metadata": {
    "ExecuteTime": {
     "end_time": "2021-06-08T18:35:50.238277Z",
     "start_time": "2021-06-08T18:35:50.224275Z"
    }
   },
   "outputs": [
    {
     "name": "stdout",
     "output_type": "stream",
     "text": [
      "pop_determined_poverty_status\n",
      "poverty\n"
     ]
    }
   ],
   "source": [
    "for col_name in df.columns:\n",
    "    if 'poverty' in col_name:\n",
    "        print(col_name)"
   ]
  },
  {
   "cell_type": "code",
   "execution_count": 18,
   "id": "39facbfd",
   "metadata": {
    "ExecuteTime": {
     "end_time": "2021-06-08T18:35:50.270285Z",
     "start_time": "2021-06-08T18:35:50.255282Z"
    }
   },
   "outputs": [],
   "source": [
    "df['poverty_rate'] = df.poverty / df.pop_determined_poverty_status\n",
    "\n",
    "df['death_rate'] = df.deaths / df.confirmed_cases"
   ]
  },
  {
   "cell_type": "markdown",
   "id": "e7d5bbec",
   "metadata": {},
   "source": [
    "looks like all the nans in the deaths column are from puerto rico"
   ]
  },
  {
   "cell_type": "code",
   "execution_count": 21,
   "id": "e7103570",
   "metadata": {
    "ExecuteTime": {
     "end_time": "2021-06-08T18:35:50.365307Z",
     "start_time": "2021-06-08T18:35:50.350304Z"
    }
   },
   "outputs": [],
   "source": [
    "df.dropna(subset=['deaths'], inplace=True)"
   ]
  },
  {
   "cell_type": "code",
   "execution_count": 22,
   "id": "072e723d",
   "metadata": {
    "ExecuteTime": {
     "end_time": "2021-06-08T18:35:50.381310Z",
     "start_time": "2021-06-08T18:35:50.366307Z"
    }
   },
   "outputs": [],
   "source": [
    "hosp_county = pd.read_csv('../data/us_healthcare_capacity-county-CovidCareMap.csv')"
   ]
  },
  {
   "cell_type": "code",
   "execution_count": 23,
   "id": "800bdacd",
   "metadata": {
    "ExecuteTime": {
     "end_time": "2021-06-08T18:35:50.413317Z",
     "start_time": "2021-06-08T18:35:50.384310Z"
    }
   },
   "outputs": [
    {
     "name": "stdout",
     "output_type": "stream",
     "text": [
      "(2537, 22)\n"
     ]
    },
    {
     "data": {
      "text/html": [
       "<div>\n",
       "<style scoped>\n",
       "    .dataframe tbody tr th:only-of-type {\n",
       "        vertical-align: middle;\n",
       "    }\n",
       "\n",
       "    .dataframe tbody tr th {\n",
       "        vertical-align: top;\n",
       "    }\n",
       "\n",
       "    .dataframe thead th {\n",
       "        text-align: right;\n",
       "    }\n",
       "</style>\n",
       "<table border=\"1\" class=\"dataframe\">\n",
       "  <thead>\n",
       "    <tr style=\"text-align: right;\">\n",
       "      <th></th>\n",
       "      <th>fips_code</th>\n",
       "      <th>State</th>\n",
       "      <th>County Name</th>\n",
       "      <th>Staffed All Beds</th>\n",
       "      <th>Staffed ICU Beds</th>\n",
       "      <th>Licensed All Beds</th>\n",
       "      <th>All Bed Occupancy Rate</th>\n",
       "      <th>ICU Bed Occupancy Rate</th>\n",
       "      <th>Population</th>\n",
       "      <th>Population (20+)</th>\n",
       "      <th>...</th>\n",
       "      <th>Staffed All Beds [Per 1000 Adults (20+)]</th>\n",
       "      <th>Staffed All Beds [Per 1000 Elderly (65+)]</th>\n",
       "      <th>Staffed ICU Beds [Per 1000 People]</th>\n",
       "      <th>Staffed ICU Beds [Per 1000 Adults (20+)]</th>\n",
       "      <th>Staffed ICU Beds [Per 1000 Elderly (65+)]</th>\n",
       "      <th>Licensed All Beds [Per 1000 People]</th>\n",
       "      <th>Licensed All Beds [Per 1000 Adults (20+)]</th>\n",
       "      <th>Licensed All Beds [Per 1000 Elderly (65+)]</th>\n",
       "      <th>ICU Bed Source</th>\n",
       "      <th>ICU Bed Source Last Updated</th>\n",
       "    </tr>\n",
       "  </thead>\n",
       "  <tbody>\n",
       "    <tr>\n",
       "      <th>0</th>\n",
       "      <td>2016</td>\n",
       "      <td>AK</td>\n",
       "      <td>Aleutians West</td>\n",
       "      <td>0.0</td>\n",
       "      <td>0.0</td>\n",
       "      <td>0.0</td>\n",
       "      <td>NaN</td>\n",
       "      <td>NaN</td>\n",
       "      <td>5723.0</td>\n",
       "      <td>4983.0</td>\n",
       "      <td>...</td>\n",
       "      <td>0.000</td>\n",
       "      <td>0.000</td>\n",
       "      <td>0.000</td>\n",
       "      <td>0.000</td>\n",
       "      <td>0.000</td>\n",
       "      <td>0.000</td>\n",
       "      <td>0.000</td>\n",
       "      <td>0.000</td>\n",
       "      <td>Facility aggregation</td>\n",
       "      <td>NaN</td>\n",
       "    </tr>\n",
       "    <tr>\n",
       "      <th>1</th>\n",
       "      <td>2020</td>\n",
       "      <td>AK</td>\n",
       "      <td>Anchorage</td>\n",
       "      <td>979.0</td>\n",
       "      <td>73.0</td>\n",
       "      <td>1149.0</td>\n",
       "      <td>0.66</td>\n",
       "      <td>0.71</td>\n",
       "      <td>291538.0</td>\n",
       "      <td>213508.0</td>\n",
       "      <td>...</td>\n",
       "      <td>4.585</td>\n",
       "      <td>30.279</td>\n",
       "      <td>0.250</td>\n",
       "      <td>0.342</td>\n",
       "      <td>2.258</td>\n",
       "      <td>3.941</td>\n",
       "      <td>5.382</td>\n",
       "      <td>35.536</td>\n",
       "      <td>Facility aggregation</td>\n",
       "      <td>NaN</td>\n",
       "    </tr>\n",
       "    <tr>\n",
       "      <th>2</th>\n",
       "      <td>2050</td>\n",
       "      <td>AK</td>\n",
       "      <td>Bethel</td>\n",
       "      <td>34.0</td>\n",
       "      <td>0.0</td>\n",
       "      <td>37.0</td>\n",
       "      <td>0.40</td>\n",
       "      <td>NaN</td>\n",
       "      <td>18216.0</td>\n",
       "      <td>11082.0</td>\n",
       "      <td>...</td>\n",
       "      <td>3.068</td>\n",
       "      <td>24.251</td>\n",
       "      <td>0.000</td>\n",
       "      <td>0.000</td>\n",
       "      <td>0.000</td>\n",
       "      <td>2.031</td>\n",
       "      <td>3.339</td>\n",
       "      <td>26.391</td>\n",
       "      <td>Facility aggregation</td>\n",
       "      <td>NaN</td>\n",
       "    </tr>\n",
       "    <tr>\n",
       "      <th>3</th>\n",
       "      <td>2070</td>\n",
       "      <td>AK</td>\n",
       "      <td>Dillingham</td>\n",
       "      <td>18.0</td>\n",
       "      <td>0.0</td>\n",
       "      <td>18.0</td>\n",
       "      <td>0.15</td>\n",
       "      <td>NaN</td>\n",
       "      <td>5000.0</td>\n",
       "      <td>3278.0</td>\n",
       "      <td>...</td>\n",
       "      <td>5.491</td>\n",
       "      <td>38.298</td>\n",
       "      <td>0.000</td>\n",
       "      <td>0.000</td>\n",
       "      <td>0.000</td>\n",
       "      <td>3.600</td>\n",
       "      <td>5.491</td>\n",
       "      <td>38.298</td>\n",
       "      <td>Facility aggregation</td>\n",
       "      <td>NaN</td>\n",
       "    </tr>\n",
       "    <tr>\n",
       "      <th>4</th>\n",
       "      <td>2090</td>\n",
       "      <td>AK</td>\n",
       "      <td>Fairbanks North Star</td>\n",
       "      <td>145.0</td>\n",
       "      <td>13.0</td>\n",
       "      <td>175.0</td>\n",
       "      <td>0.46</td>\n",
       "      <td>0.66</td>\n",
       "      <td>98971.0</td>\n",
       "      <td>72505.0</td>\n",
       "      <td>...</td>\n",
       "      <td>2.000</td>\n",
       "      <td>14.210</td>\n",
       "      <td>0.131</td>\n",
       "      <td>0.179</td>\n",
       "      <td>1.274</td>\n",
       "      <td>1.768</td>\n",
       "      <td>2.414</td>\n",
       "      <td>17.150</td>\n",
       "      <td>Facility aggregation</td>\n",
       "      <td>NaN</td>\n",
       "    </tr>\n",
       "  </tbody>\n",
       "</table>\n",
       "<p>5 rows × 22 columns</p>\n",
       "</div>"
      ],
      "text/plain": [
       "   fips_code State           County Name  Staffed All Beds  Staffed ICU Beds  \\\n",
       "0       2016    AK        Aleutians West               0.0               0.0   \n",
       "1       2020    AK             Anchorage             979.0              73.0   \n",
       "2       2050    AK                Bethel              34.0               0.0   \n",
       "3       2070    AK            Dillingham              18.0               0.0   \n",
       "4       2090    AK  Fairbanks North Star             145.0              13.0   \n",
       "\n",
       "   Licensed All Beds  All Bed Occupancy Rate  ICU Bed Occupancy Rate  \\\n",
       "0                0.0                     NaN                     NaN   \n",
       "1             1149.0                    0.66                    0.71   \n",
       "2               37.0                    0.40                     NaN   \n",
       "3               18.0                    0.15                     NaN   \n",
       "4              175.0                    0.46                    0.66   \n",
       "\n",
       "   Population  Population (20+)  ...  \\\n",
       "0      5723.0            4983.0  ...   \n",
       "1    291538.0          213508.0  ...   \n",
       "2     18216.0           11082.0  ...   \n",
       "3      5000.0            3278.0  ...   \n",
       "4     98971.0           72505.0  ...   \n",
       "\n",
       "   Staffed All Beds [Per 1000 Adults (20+)]  \\\n",
       "0                                     0.000   \n",
       "1                                     4.585   \n",
       "2                                     3.068   \n",
       "3                                     5.491   \n",
       "4                                     2.000   \n",
       "\n",
       "   Staffed All Beds [Per 1000 Elderly (65+)]  \\\n",
       "0                                      0.000   \n",
       "1                                     30.279   \n",
       "2                                     24.251   \n",
       "3                                     38.298   \n",
       "4                                     14.210   \n",
       "\n",
       "   Staffed ICU Beds [Per 1000 People]  \\\n",
       "0                               0.000   \n",
       "1                               0.250   \n",
       "2                               0.000   \n",
       "3                               0.000   \n",
       "4                               0.131   \n",
       "\n",
       "   Staffed ICU Beds [Per 1000 Adults (20+)]  \\\n",
       "0                                     0.000   \n",
       "1                                     0.342   \n",
       "2                                     0.000   \n",
       "3                                     0.000   \n",
       "4                                     0.179   \n",
       "\n",
       "   Staffed ICU Beds [Per 1000 Elderly (65+)]  \\\n",
       "0                                      0.000   \n",
       "1                                      2.258   \n",
       "2                                      0.000   \n",
       "3                                      0.000   \n",
       "4                                      1.274   \n",
       "\n",
       "   Licensed All Beds [Per 1000 People]  \\\n",
       "0                                0.000   \n",
       "1                                3.941   \n",
       "2                                2.031   \n",
       "3                                3.600   \n",
       "4                                1.768   \n",
       "\n",
       "   Licensed All Beds [Per 1000 Adults (20+)]  \\\n",
       "0                                      0.000   \n",
       "1                                      5.382   \n",
       "2                                      3.339   \n",
       "3                                      5.491   \n",
       "4                                      2.414   \n",
       "\n",
       "   Licensed All Beds [Per 1000 Elderly (65+)]        ICU Bed Source  \\\n",
       "0                                       0.000  Facility aggregation   \n",
       "1                                      35.536  Facility aggregation   \n",
       "2                                      26.391  Facility aggregation   \n",
       "3                                      38.298  Facility aggregation   \n",
       "4                                      17.150  Facility aggregation   \n",
       "\n",
       "   ICU Bed Source Last Updated  \n",
       "0                          NaN  \n",
       "1                          NaN  \n",
       "2                          NaN  \n",
       "3                          NaN  \n",
       "4                          NaN  \n",
       "\n",
       "[5 rows x 22 columns]"
      ]
     },
     "execution_count": 23,
     "metadata": {},
     "output_type": "execute_result"
    }
   ],
   "source": [
    "print(hosp_county.shape)\n",
    "hosp_county.head()"
   ]
  },
  {
   "cell_type": "code",
   "execution_count": 24,
   "id": "01bf59a0",
   "metadata": {
    "ExecuteTime": {
     "end_time": "2021-06-08T18:35:50.429247Z",
     "start_time": "2021-06-08T18:35:50.414317Z"
    }
   },
   "outputs": [
    {
     "data": {
      "text/plain": [
       "fips_code                                        0\n",
       "State                                            0\n",
       "County Name                                      0\n",
       "Staffed All Beds                                 0\n",
       "Staffed ICU Beds                                 0\n",
       "Licensed All Beds                                0\n",
       "All Bed Occupancy Rate                          77\n",
       "ICU Bed Occupancy Rate                        1127\n",
       "Population                                       0\n",
       "Population (20+)                                 0\n",
       "Population (65+)                                 0\n",
       "Staffed All Beds [Per 1000 People]              28\n",
       "Staffed All Beds [Per 1000 Adults (20+)]        28\n",
       "Staffed All Beds [Per 1000 Elderly (65+)]       28\n",
       "Staffed ICU Beds [Per 1000 People]              28\n",
       "Staffed ICU Beds [Per 1000 Adults (20+)]        28\n",
       "Staffed ICU Beds [Per 1000 Elderly (65+)]       28\n",
       "Licensed All Beds [Per 1000 People]             28\n",
       "Licensed All Beds [Per 1000 Adults (20+)]       28\n",
       "Licensed All Beds [Per 1000 Elderly (65+)]      28\n",
       "ICU Bed Source                                   0\n",
       "ICU Bed Source Last Updated                   2535\n",
       "dtype: int64"
      ]
     },
     "execution_count": 24,
     "metadata": {},
     "output_type": "execute_result"
    }
   ],
   "source": [
    "hosp_county.isna().sum()"
   ]
  },
  {
   "cell_type": "code",
   "execution_count": 25,
   "id": "8cc585cd",
   "metadata": {
    "ExecuteTime": {
     "end_time": "2021-06-08T18:35:50.445251Z",
     "start_time": "2021-06-08T18:35:50.430248Z"
    }
   },
   "outputs": [],
   "source": [
    "df = df.merge(hosp_county, left_index=True, right_on='fips_code')"
   ]
  },
  {
   "cell_type": "code",
   "execution_count": 26,
   "id": "2e03f5a7",
   "metadata": {
    "ExecuteTime": {
     "end_time": "2021-06-08T18:35:50.696307Z",
     "start_time": "2021-06-08T18:35:50.446252Z"
    }
   },
   "outputs": [
    {
     "data": {
      "text/plain": [
       "median_income                                                 -0.746680\n",
       "income_per_capita                                             -0.711901\n",
       "median_rent                                                   -0.425540\n",
       "owner_occupied_housing_units_lower_value_quartile             -0.424752\n",
       "owner_occupied_housing_units_median_value                     -0.403994\n",
       "renter_occupied_housing_units_paying_cash_median_gross_rent   -0.391434\n",
       "owner_occupied_housing_units_upper_value_quartile             -0.370109\n",
       "median_age                                                    -0.233503\n",
       "white_male_45_54                                              -0.176139\n",
       "white_male_55_64                                              -0.169933\n",
       "white_pop                                                     -0.166289\n",
       "income_150000_199999                                          -0.153191\n",
       "income_125000_149999                                          -0.146695\n",
       "income_200000_or_more                                         -0.145370\n",
       "male_45_64_graduate_degree                                    -0.144641\n",
       "male_45_64_bachelors_degree                                   -0.143123\n",
       "mortgaged_housing_units                                       -0.140137\n",
       "income_100000_124999                                          -0.135254\n",
       "masters_degree                                                -0.134208\n",
       "male_45_64_associates_degree                                  -0.128468\n",
       "Name: poverty_rate, dtype: float64"
      ]
     },
     "execution_count": 26,
     "metadata": {},
     "output_type": "execute_result"
    }
   ],
   "source": [
    "df.corr()['poverty_rate'].sort_values(ascending=True).head(20)"
   ]
  },
  {
   "cell_type": "code",
   "execution_count": 27,
   "id": "4370e903",
   "metadata": {
    "ExecuteTime": {
     "end_time": "2021-06-08T18:35:50.712310Z",
     "start_time": "2021-06-08T18:35:50.697308Z"
    }
   },
   "outputs": [],
   "source": [
    "income_cols = [col for col in df.columns if 'income' in col]\n",
    "df.drop(columns=income_cols, inplace=True)"
   ]
  },
  {
   "cell_type": "code",
   "execution_count": 28,
   "id": "657aa832",
   "metadata": {
    "ExecuteTime": {
     "end_time": "2021-06-08T18:35:50.935360Z",
     "start_time": "2021-06-08T18:35:50.713310Z"
    }
   },
   "outputs": [
    {
     "data": {
      "text/plain": [
       "poverty_rate                                                   1.000000\n",
       "gini_index                                                     0.591470\n",
       "death_rate                                                     0.277568\n",
       "Staffed ICU Beds [Per 1000 Elderly (65+)]                      0.115113\n",
       "Staffed ICU Beds [Per 1000 Adults (20+)]                       0.111187\n",
       "Staffed All Beds [Per 1000 Elderly (65+)]                      0.109685\n",
       "Staffed ICU Beds [Per 1000 People]                             0.107673\n",
       "Licensed All Beds [Per 1000 Elderly (65+)]                     0.103327\n",
       "amerindian_pop                                                 0.100106\n",
       "mobile_homes                                                   0.074932\n",
       "Licensed All Beds [Per 1000 Adults (20+)]                      0.065482\n",
       "Licensed All Beds [Per 1000 People]                            0.057990\n",
       "Staffed All Beds [Per 1000 Adults (20+)]                       0.057538\n",
       "Staffed All Beds [Per 1000 People]                             0.048498\n",
       "black_male_55_64                                               0.014091\n",
       "median_year_structure_built                                    0.013328\n",
       "black_pop                                                      0.012720\n",
       "poverty                                                        0.010795\n",
       "rent_burden_not_computed                                       0.008262\n",
       "two_parents_not_in_labor_force_families_with_young_children    0.002825\n",
       "Name: poverty_rate, dtype: float64"
      ]
     },
     "execution_count": 28,
     "metadata": {},
     "output_type": "execute_result"
    }
   ],
   "source": [
    "df.corr()['poverty_rate'].sort_values(ascending=False).head(20)"
   ]
  },
  {
   "cell_type": "code",
   "execution_count": 29,
   "id": "733e957c",
   "metadata": {
    "ExecuteTime": {
     "end_time": "2021-06-08T18:35:50.951432Z",
     "start_time": "2021-06-08T18:35:50.936360Z"
    }
   },
   "outputs": [],
   "source": [
    "cols_to_drop = ['median_rent',\n",
    "                'owner_occupied_housing_units_lower_value_quartile',\n",
    "                'owner_occupied_housing_units_median_value',\n",
    "                'renter_occupied_housing_units_paying_cash_median_gross_rent',\n",
    "                'owner_occupied_housing_units_upper_value_quartile',\n",
    "                'pop_determined_poverty_status',\n",
    "                'poverty', 'aggregate_travel_time_to_work']\n",
    "\n",
    "df.drop(columns=cols_to_drop, inplace=True)"
   ]
  },
  {
   "cell_type": "code",
   "execution_count": 30,
   "id": "9ec755ea",
   "metadata": {
    "ExecuteTime": {
     "end_time": "2021-06-08T18:35:50.966615Z",
     "start_time": "2021-06-08T18:35:50.953432Z"
    }
   },
   "outputs": [
    {
     "data": {
      "text/plain": [
       "pop_divorced                                      2504\n",
       "pop_5_years_over                                  2504\n",
       "pop_widowed                                       2504\n",
       "pop_separated                                     2504\n",
       "pop_now_married                                   2504\n",
       "speak_spanish_at_home_low_english                 2504\n",
       "speak_spanish_at_home                             2504\n",
       "speak_only_english_at_home                        2504\n",
       "pop_never_married                                 2504\n",
       "pop_15_and_over                                   2504\n",
       "ICU Bed Source Last Updated                       2502\n",
       "ICU Bed Occupancy Rate                            1115\n",
       "All Bed Occupancy Rate                              73\n",
       "commuters_16_over                                    1\n",
       "commute_45_59_mins                                   1\n",
       "commute_10_14_mins                                   1\n",
       "commute_35_44_mins                                   1\n",
       "commute_30_34_mins                                   1\n",
       "walked_to_work                                       1\n",
       "worked_at_home                                       1\n",
       "commute_25_29_mins                                   1\n",
       "commute_20_24_mins                                   1\n",
       "commute_15_19_mins                                   1\n",
       "no_car                                               1\n",
       "no_cars                                              1\n",
       "commute_60_more_mins                                 1\n",
       "father_one_parent_families_with_young_children       1\n",
       "commute_less_10_mins                                 1\n",
       "different_house_year_ago_different_city              1\n",
       "rent_over_50_percent                                 1\n",
       "dtype: int64"
      ]
     },
     "execution_count": 30,
     "metadata": {},
     "output_type": "execute_result"
    }
   ],
   "source": [
    "df.isna().sum().sort_values(ascending=False).head(30)"
   ]
  },
  {
   "cell_type": "code",
   "execution_count": 31,
   "id": "616e3ea9",
   "metadata": {
    "ExecuteTime": {
     "end_time": "2021-06-08T18:35:51.043339Z",
     "start_time": "2021-06-08T18:35:50.967615Z"
    }
   },
   "outputs": [],
   "source": [
    "for col in df.columns:\n",
    "    if df[col].isna().sum() > 100:\n",
    "        df.drop(columns=col, inplace=True)"
   ]
  },
  {
   "cell_type": "markdown",
   "id": "4f7fdb21",
   "metadata": {},
   "source": [
    "# \"Clean\" DF here after the drop?"
   ]
  },
  {
   "cell_type": "code",
   "execution_count": 32,
   "id": "9259fe0e",
   "metadata": {
    "ExecuteTime": {
     "end_time": "2021-06-08T18:35:51.059345Z",
     "start_time": "2021-06-08T18:35:51.044340Z"
    }
   },
   "outputs": [],
   "source": [
    "df.dropna(inplace=True)"
   ]
  },
  {
   "cell_type": "code",
   "execution_count": 33,
   "id": "a25282b9",
   "metadata": {
    "ExecuteTime": {
     "end_time": "2021-06-08T18:35:51.075043Z",
     "start_time": "2021-06-08T18:35:51.060346Z"
    }
   },
   "outputs": [],
   "source": [
    "x_cols = ['death_rate', 'Staffed ICU Beds [Per 1000 People]',]\n",
    "X = df.select_dtypes(np.number).drop(columns='poverty_rate')\n",
    "y = df['poverty_rate']"
   ]
  },
  {
   "cell_type": "code",
   "execution_count": 34,
   "id": "5dd9c020",
   "metadata": {
    "ExecuteTime": {
     "end_time": "2021-06-08T18:35:51.106055Z",
     "start_time": "2021-06-08T18:35:51.076043Z"
    }
   },
   "outputs": [],
   "source": [
    "X_train, X_test, y_train, y_test = train_test_split(X, y,\n",
    "                                                    random_state=42)\n",
    "\n",
    "ss = StandardScaler()\n",
    "X_train_sc = ss.fit_transform(X_train)\n",
    "X_test_sc = ss.transform(X_test)"
   ]
  },
  {
   "cell_type": "code",
   "execution_count": 35,
   "id": "661afdd1",
   "metadata": {
    "ExecuteTime": {
     "end_time": "2021-06-08T18:35:51.122058Z",
     "start_time": "2021-06-08T18:35:51.107055Z"
    }
   },
   "outputs": [
    {
     "data": {
      "text/plain": [
       "confirmed_cases                               0\n",
       "deaths                                        0\n",
       "total_pop                                     0\n",
       "households                                    0\n",
       "male_pop                                      0\n",
       "                                             ..\n",
       "Staffed ICU Beds [Per 1000 Adults (20+)]      0\n",
       "Staffed ICU Beds [Per 1000 Elderly (65+)]     0\n",
       "Licensed All Beds [Per 1000 People]           0\n",
       "Licensed All Beds [Per 1000 Adults (20+)]     0\n",
       "Licensed All Beds [Per 1000 Elderly (65+)]    0\n",
       "Length: 222, dtype: int64"
      ]
     },
     "execution_count": 35,
     "metadata": {},
     "output_type": "execute_result"
    }
   ],
   "source": [
    "X.isna().sum()"
   ]
  },
  {
   "cell_type": "code",
   "execution_count": 36,
   "id": "2d03a6cc",
   "metadata": {
    "ExecuteTime": {
     "end_time": "2021-06-08T18:36:30.903058Z",
     "start_time": "2021-06-08T18:36:30.887054Z"
    }
   },
   "outputs": [
    {
     "data": {
      "text/plain": [
       "(2430, 231)"
      ]
     },
     "execution_count": 36,
     "metadata": {},
     "output_type": "execute_result"
    }
   ],
   "source": [
    "df.shape"
   ]
  },
  {
   "cell_type": "code",
   "execution_count": 238,
   "id": "2fcc3bfd",
   "metadata": {
    "ExecuteTime": {
     "end_time": "2021-06-07T21:59:42.286641Z",
     "start_time": "2021-06-07T21:59:42.271638Z"
    }
   },
   "outputs": [
    {
     "data": {
      "text/plain": [
       "0"
      ]
     },
     "execution_count": 238,
     "metadata": {},
     "output_type": "execute_result"
    }
   ],
   "source": [
    "y.isna().sum()"
   ]
  },
  {
   "cell_type": "markdown",
   "id": "a5fcf61d",
   "metadata": {},
   "source": [
    "### Linear Regression"
   ]
  },
  {
   "cell_type": "code",
   "execution_count": 239,
   "id": "026d602f",
   "metadata": {
    "ExecuteTime": {
     "end_time": "2021-06-07T21:59:43.320341Z",
     "start_time": "2021-06-07T21:59:43.195314Z"
    }
   },
   "outputs": [
    {
     "name": "stdout",
     "output_type": "stream",
     "text": [
      "-0.022824012094294587 0.3635910147692979\n"
     ]
    },
    {
     "data": {
      "text/plain": [
       "array([ 0.32444544, -0.40867518,  0.18001054, -0.51536704,  0.30546618])"
      ]
     },
     "execution_count": 239,
     "metadata": {},
     "output_type": "execute_result"
    }
   ],
   "source": [
    "lr = LinearRegression()\n",
    "cv_score = cross_val_score(lr, X_train, y_train)\n",
    "print(cv_score.mean(), cv_score.std())\n",
    "cv_score"
   ]
  },
  {
   "cell_type": "markdown",
   "id": "744ccebd",
   "metadata": {},
   "source": [
    "scaled  0.31177659, 0.34379026, 0.30268388, 0.30058899, 0.35387436]\n"
   ]
  },
  {
   "cell_type": "code",
   "execution_count": 260,
   "id": "ecc453bd",
   "metadata": {
    "ExecuteTime": {
     "end_time": "2021-06-08T13:37:15.413728Z",
     "start_time": "2021-06-08T13:37:15.395722Z"
    }
   },
   "outputs": [],
   "source": [
    "random_test = ['a', 'b', 'a', 'b', 'a', 'b']"
   ]
  },
  {
   "cell_type": "code",
   "execution_count": 261,
   "id": "84a23302",
   "metadata": {
    "ExecuteTime": {
     "end_time": "2021-06-08T13:37:36.664517Z",
     "start_time": "2021-06-08T13:37:36.656515Z"
    }
   },
   "outputs": [],
   "source": [
    "random_test.remove('a')"
   ]
  },
  {
   "cell_type": "code",
   "execution_count": 262,
   "id": "eea9957e",
   "metadata": {
    "ExecuteTime": {
     "end_time": "2021-06-08T13:37:43.324159Z",
     "start_time": "2021-06-08T13:37:43.314157Z"
    }
   },
   "outputs": [
    {
     "data": {
      "text/plain": [
       "['b', 'a', 'b', 'a', 'b']"
      ]
     },
     "execution_count": 262,
     "metadata": {},
     "output_type": "execute_result"
    }
   ],
   "source": [
    "random_test"
   ]
  },
  {
   "cell_type": "code",
   "execution_count": 259,
   "id": "15b86672",
   "metadata": {
    "ExecuteTime": {
     "end_time": "2021-06-08T03:17:22.786959Z",
     "start_time": "2021-06-08T03:17:22.780958Z"
    }
   },
   "outputs": [
    {
     "data": {
      "text/plain": [
       "(1822, 222)"
      ]
     },
     "execution_count": 259,
     "metadata": {},
     "output_type": "execute_result"
    }
   ],
   "source": [
    "X_train.shape"
   ]
  },
  {
   "cell_type": "code",
   "execution_count": 258,
   "id": "966d2399",
   "metadata": {
    "ExecuteTime": {
     "end_time": "2021-06-08T03:15:29.515375Z",
     "start_time": "2021-06-08T03:15:21.204518Z"
    }
   },
   "outputs": [
    {
     "name": "stderr",
     "output_type": "stream",
     "text": [
      "C:\\Users\\098uy\\anaconda3\\lib\\site-packages\\sklearn\\linear_model\\_coordinate_descent.py:530: ConvergenceWarning: Objective did not converge. You might want to increase the number of iterations. Duality gap: 1.5730186387033471, tolerance: 0.005718723584455529\n",
      "  model = cd_fast.enet_coordinate_descent(\n",
      "C:\\Users\\098uy\\anaconda3\\lib\\site-packages\\sklearn\\linear_model\\_coordinate_descent.py:530: ConvergenceWarning: Objective did not converge. You might want to increase the number of iterations. Duality gap: 1.6672518133650556, tolerance: 0.005655798372327986\n",
      "  model = cd_fast.enet_coordinate_descent(\n",
      "C:\\Users\\098uy\\anaconda3\\lib\\site-packages\\sklearn\\linear_model\\_coordinate_descent.py:530: ConvergenceWarning: Objective did not converge. You might want to increase the number of iterations. Duality gap: 1.535344823937416, tolerance: 0.0056407148995016336\n",
      "  model = cd_fast.enet_coordinate_descent(\n",
      "C:\\Users\\098uy\\anaconda3\\lib\\site-packages\\sklearn\\linear_model\\_coordinate_descent.py:530: ConvergenceWarning: Objective did not converge. You might want to increase the number of iterations. Duality gap: 1.5757059465130476, tolerance: 0.00571032749911594\n",
      "  model = cd_fast.enet_coordinate_descent(\n"
     ]
    },
    {
     "name": "stdout",
     "output_type": "stream",
     "text": [
      "-0.5314395752298764 1.191494831141953\n"
     ]
    },
    {
     "name": "stderr",
     "output_type": "stream",
     "text": [
      "C:\\Users\\098uy\\anaconda3\\lib\\site-packages\\sklearn\\linear_model\\_coordinate_descent.py:530: ConvergenceWarning: Objective did not converge. You might want to increase the number of iterations. Duality gap: 1.4327212344856242, tolerance: 0.005785896696319561\n",
      "  model = cd_fast.enet_coordinate_descent(\n"
     ]
    },
    {
     "data": {
      "text/plain": [
       "array([ 0.26083465, -0.28151675,  0.18154249,  0.06736336, -2.88542161])"
      ]
     },
     "execution_count": 258,
     "metadata": {},
     "output_type": "execute_result"
    }
   ],
   "source": [
    "lasso = Lasso(max_iter = 10000, alpha=.5, tol = 0.001)\n",
    "cv_score = cross_val_score(lasso, X_train, y_train)\n",
    "print(cv_score.mean(), cv_score.std())\n",
    "cv_score"
   ]
  },
  {
   "cell_type": "markdown",
   "id": "5a3e9da5",
   "metadata": {},
   "source": [
    "### Support Vector Regressor"
   ]
  },
  {
   "cell_type": "code",
   "execution_count": 78,
   "id": "39dbff45",
   "metadata": {
    "ExecuteTime": {
     "end_time": "2021-06-07T21:02:56.259340Z",
     "start_time": "2021-06-07T21:02:53.430827Z"
    }
   },
   "outputs": [
    {
     "name": "stdout",
     "output_type": "stream",
     "text": [
      "Fitting 5 folds for each of 32 candidates, totalling 160 fits\n",
      "0.2696457990858857\n"
     ]
    },
    {
     "data": {
      "text/plain": [
       "{'C': 1, 'gamma': 'scale', 'kernel': 'linear'}"
      ]
     },
     "execution_count": 78,
     "metadata": {},
     "output_type": "execute_result"
    }
   ],
   "source": [
    "svr = SVR()\n",
    "\n",
    "params = {\n",
    "    'kernel': ['rbf', 'poly', 'sigmoid', 'linear'],\n",
    "    'gamma': ['scale', 'auto'],\n",
    "    'C': [.001, .01, .1, 1]\n",
    "}\n",
    "\n",
    "gs = GridSearchCV(svr, param_grid=params, verbose=3, n_jobs= -1)\n",
    "gs.fit(X_train_sc, y_train)\n",
    "print(gs.score(X_test_sc, y_test))\n",
    "gs.best_params_"
   ]
  },
  {
   "cell_type": "markdown",
   "id": "cbf282db",
   "metadata": {
    "ExecuteTime": {
     "end_time": "2021-06-06T00:28:04.646048Z",
     "start_time": "2021-06-06T00:28:04.632045Z"
    }
   },
   "source": [
    "### Random Forest Regressor"
   ]
  },
  {
   "cell_type": "code",
   "execution_count": 80,
   "id": "18041bf9",
   "metadata": {
    "ExecuteTime": {
     "end_time": "2021-06-07T21:03:16.248833Z",
     "start_time": "2021-06-07T21:03:10.583541Z"
    }
   },
   "outputs": [
    {
     "name": "stdout",
     "output_type": "stream",
     "text": [
      "Fitting 5 folds for each of 54 candidates, totalling 270 fits\n",
      "0.34513800558524654\n"
     ]
    },
    {
     "data": {
      "text/plain": [
       "{'max_depth': 3,\n",
       " 'min_samples_leaf': 1,\n",
       " 'min_samples_split': 2,\n",
       " 'n_estimators': 75}"
      ]
     },
     "execution_count": 80,
     "metadata": {},
     "output_type": "execute_result"
    }
   ],
   "source": [
    "rfr = RandomForestRegressor()\n",
    "\n",
    "params = {\n",
    "    'n_estimators': [75, 100, 125],\n",
    "    'max_depth': [3, 5, 7],\n",
    "    'min_samples_split': [2, 4, 6],\n",
    "    'min_samples_leaf': [1, 5],\n",
    "}\n",
    "\n",
    "gs = GridSearchCV(rfr, param_grid=params, verbose=10, n_jobs= -1)\n",
    "gs.fit(X_train_sc, y_train)\n",
    "print(gs.score(X_test_sc, y_test))\n",
    "gs.best_params_"
   ]
  },
  {
   "cell_type": "markdown",
   "id": "a307be30",
   "metadata": {},
   "source": [
    "### AdaBoost Regressor"
   ]
  },
  {
   "cell_type": "code",
   "execution_count": 81,
   "id": "1f76c9ed",
   "metadata": {
    "ExecuteTime": {
     "end_time": "2021-06-07T21:03:19.994714Z",
     "start_time": "2021-06-07T21:03:16.249833Z"
    }
   },
   "outputs": [
    {
     "name": "stdout",
     "output_type": "stream",
     "text": [
      "Fitting 5 folds for each of 48 candidates, totalling 240 fits\n",
      "0.3364917185371403\n"
     ]
    },
    {
     "data": {
      "text/plain": [
       "{'learning_rate': 0.001, 'loss': 'exponential', 'n_estimators': 100}"
      ]
     },
     "execution_count": 81,
     "metadata": {},
     "output_type": "execute_result"
    }
   ],
   "source": [
    "ada = AdaBoostRegressor()\n",
    "\n",
    "params = {\n",
    "    'n_estimators': [40, 50, 70, 100],\n",
    "    'learning_rate': [1, .1, .01, .001],\n",
    "    'loss': ['linear', 'square', 'exponential']\n",
    "}\n",
    "\n",
    "gs = GridSearchCV(ada, param_grid=params, verbose=3, n_jobs= -1)\n",
    "gs.fit(X_train_sc, y_train)\n",
    "print(gs.score(X_test_sc, y_test))\n",
    "gs.best_params_"
   ]
  },
  {
   "cell_type": "markdown",
   "id": "0bdd98f3",
   "metadata": {},
   "source": [
    "### Gradient Boosting Regressor"
   ]
  },
  {
   "cell_type": "code",
   "execution_count": 82,
   "id": "3269a83e",
   "metadata": {
    "ExecuteTime": {
     "end_time": "2021-06-07T21:03:31.769276Z",
     "start_time": "2021-06-07T21:03:19.995715Z"
    }
   },
   "outputs": [
    {
     "name": "stdout",
     "output_type": "stream",
     "text": [
      "Fitting 5 folds for each of 81 candidates, totalling 405 fits\n",
      "0.3376142279713219\n"
     ]
    },
    {
     "data": {
      "text/plain": [
       "{'learning_rate': 0.1, 'loss': 'lad', 'max_depth': 2, 'n_estimators': 90}"
      ]
     },
     "execution_count": 82,
     "metadata": {},
     "output_type": "execute_result"
    }
   ],
   "source": [
    "gbr = GradientBoostingRegressor()\n",
    "\n",
    "params = {\n",
    "    'loss': ['ls', 'lad', 'huber'],\n",
    "    'learning_rate': [.1, .01, .001],\n",
    "    'n_estimators': [90, 100, 120],\n",
    "    'max_depth': [2, 3, 4]\n",
    "}\n",
    "\n",
    "gs = GridSearchCV(gbr, param_grid=params, verbose=3, n_jobs= -1)\n",
    "gs.fit(X_train_sc, y_train)\n",
    "print(gs.score(X_test_sc, y_test))\n",
    "gs.best_params_"
   ]
  },
  {
   "cell_type": "code",
   "execution_count": null,
   "id": "bedc80e8",
   "metadata": {},
   "outputs": [],
   "source": []
  },
  {
   "cell_type": "code",
   "execution_count": null,
   "id": "cc7e4aa9",
   "metadata": {},
   "outputs": [],
   "source": []
  },
  {
   "cell_type": "code",
   "execution_count": null,
   "id": "5defd7d0",
   "metadata": {},
   "outputs": [],
   "source": []
  }
 ],
 "metadata": {
  "kernelspec": {
   "display_name": "Python 3",
   "language": "python",
   "name": "python3"
  },
  "language_info": {
   "codemirror_mode": {
    "name": "ipython",
    "version": 3
   },
   "file_extension": ".py",
   "mimetype": "text/x-python",
   "name": "python",
   "nbconvert_exporter": "python",
   "pygments_lexer": "ipython3",
   "version": "3.8.5"
  }
 },
 "nbformat": 4,
 "nbformat_minor": 5
}
