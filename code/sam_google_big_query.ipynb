{
 "cells": [
  {
   "cell_type": "code",
   "execution_count": 80,
   "metadata": {
    "ExecuteTime": {
     "end_time": "2021-06-04T20:36:30.978855Z",
     "start_time": "2021-06-04T20:36:30.973854Z"
    }
   },
   "outputs": [],
   "source": [
    "# run in terminal\n",
    "# pip install google-cloud-bigquery"
   ]
  },
  {
   "cell_type": "code",
   "execution_count": 81,
   "metadata": {
    "ExecuteTime": {
     "end_time": "2021-06-04T20:36:31.350732Z",
     "start_time": "2021-06-04T20:36:31.345730Z"
    }
   },
   "outputs": [],
   "source": [
    "from google.cloud import bigquery"
   ]
  },
  {
   "cell_type": "code",
   "execution_count": 82,
   "metadata": {
    "ExecuteTime": {
     "end_time": "2021-06-04T20:36:35.110356Z",
     "start_time": "2021-06-04T20:36:35.089351Z"
    }
   },
   "outputs": [],
   "source": [
    "# client, json from \n",
    "bigquery_client = bigquery.Client.from_service_account_json(\n",
    "    '../config/dsir412-team-orange-9b562e0f0233.json')  # your bigquery key .json"
   ]
  },
  {
   "cell_type": "code",
   "execution_count": 83,
   "metadata": {
    "ExecuteTime": {
     "end_time": "2021-06-04T20:36:35.913022Z",
     "start_time": "2021-06-04T20:36:35.898019Z"
    }
   },
   "outputs": [],
   "source": [
    "def get_data_csv(query, save_name):\n",
    "    query_job = bigquery_client.query(query)\n",
    "    query_job.to_dataframe().to_csv(f'../data/{save_name}.csv', index=False)"
   ]
  },
  {
   "cell_type": "code",
   "execution_count": 84,
   "metadata": {
    "ExecuteTime": {
     "end_time": "2021-06-04T20:36:36.904571Z",
     "start_time": "2021-06-04T20:36:36.890567Z"
    },
    "scrolled": false
   },
   "outputs": [],
   "source": [
    "queries = {\n",
    "    'covid19_nyt_us_counties':\n",
    "    (\"\"\"\n",
    "    SELECT *\n",
    "    FROM `bigquery-public-data.covid19_nyt.us_counties`;\n",
    "    \"\"\"),\n",
    "    'census_bureau_acs_county_2018_5yr':\n",
    "    (\"\"\"\n",
    "    SELECT *\n",
    "    FROM `bigquery-public-data.census_bureau_acs.county_2018_5yr`;\n",
    "    \"\"\")\n",
    "}"
   ]
  },
  {
   "cell_type": "code",
   "execution_count": 86,
   "metadata": {
    "ExecuteTime": {
     "end_time": "2021-06-04T20:38:20.640302Z",
     "start_time": "2021-06-04T20:36:45.067555Z"
    }
   },
   "outputs": [],
   "source": [
    "# # commented out to prevent use of credits/money\n",
    "# # covid19_nyt_us_counties\n",
    "# get_data_csv(queries['covid19_nyt_us_counties'],\n",
    "#              'covid19_nyt_us_counties')\n",
    "\n",
    "# # census_bureau_acs_county_2018_5yr\n",
    "# get_data_csv(queries['census_bureau_acs_county_2018_5yr'],\n",
    "#              'census_bureau_acs_county_2018_5yr')"
   ]
  },
  {
   "cell_type": "code",
   "execution_count": null,
   "metadata": {},
   "outputs": [],
   "source": []
  }
 ],
 "metadata": {
  "kernelspec": {
   "display_name": "Python 3",
   "language": "python",
   "name": "python3"
  },
  "language_info": {
   "codemirror_mode": {
    "name": "ipython",
    "version": 3
   },
   "file_extension": ".py",
   "mimetype": "text/x-python",
   "name": "python",
   "nbconvert_exporter": "python",
   "pygments_lexer": "ipython3",
   "version": "3.8.5"
  }
 },
 "nbformat": 4,
 "nbformat_minor": 4
}
