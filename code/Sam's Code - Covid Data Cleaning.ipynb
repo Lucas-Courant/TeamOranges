{
 "cells": [
  {
   "cell_type": "code",
   "execution_count": 1,
   "metadata": {
    "ExecuteTime": {
     "end_time": "2021-06-04T19:47:36.902205Z",
     "start_time": "2021-06-04T19:47:36.284129Z"
    }
   },
   "outputs": [],
   "source": [
    "import pandas as pd\n",
    "import matplotlib.pyplot as plt"
   ]
  },
  {
   "cell_type": "code",
   "execution_count": 40,
   "metadata": {
    "ExecuteTime": {
     "end_time": "2021-06-04T20:31:48.882432Z",
     "start_time": "2021-06-04T20:31:48.168303Z"
    }
   },
   "outputs": [],
   "source": [
    "covid = pd.read_csv('../data/2018_5yr.csv')\n",
    "census = pd.read_csv('../data/nyt_county.csv')\n",
    "hosps_county = pd.read_csv('../data/us_healthcare_capacity-county-CovidCareMap.csv')\n",
    "hosps_facility = pd.read_csv('../data/us_healthcare_capacity-facility-CovidCareMap.csv')"
   ]
  },
  {
   "cell_type": "code",
   "execution_count": 41,
   "metadata": {
    "ExecuteTime": {
     "end_time": "2021-06-04T20:31:49.926481Z",
     "start_time": "2021-06-04T20:31:49.848932Z"
    }
   },
   "outputs": [
    {
     "data": {
      "text/plain": [
       "(3220, 242)"
      ]
     },
     "execution_count": 41,
     "metadata": {},
     "output_type": "execute_result"
    }
   ],
   "source": [
    "test = pd.read_csv('../data/2018_5yr.csv')\n",
    "test.shape"
   ]
  },
  {
   "cell_type": "code",
   "execution_count": 3,
   "metadata": {
    "ExecuteTime": {
     "end_time": "2021-06-04T19:47:37.804118Z",
     "start_time": "2021-06-04T19:47:37.665087Z"
    }
   },
   "outputs": [
    {
     "name": "stdout",
     "output_type": "stream",
     "text": [
      "<class 'pandas.core.frame.DataFrame'>\n",
      "RangeIndex: 1381436 entries, 0 to 1381435\n",
      "Data columns (total 6 columns):\n",
      " #   Column            Non-Null Count    Dtype  \n",
      "---  ------            --------------    -----  \n",
      " 0   date              1381436 non-null  object \n",
      " 1   county            1381436 non-null  object \n",
      " 2   state_name        1381436 non-null  object \n",
      " 3   county_fips_code  1368825 non-null  float64\n",
      " 4   confirmed_cases   1381436 non-null  int64  \n",
      " 5   deaths            1350741 non-null  float64\n",
      "dtypes: float64(2), int64(1), object(3)\n",
      "memory usage: 63.2+ MB\n"
     ]
    }
   ],
   "source": [
    "covid.info()"
   ]
  },
  {
   "cell_type": "code",
   "execution_count": 36,
   "metadata": {
    "ExecuteTime": {
     "end_time": "2021-06-04T20:30:29.364705Z",
     "start_time": "2021-06-04T20:30:29.288687Z"
    }
   },
   "outputs": [
    {
     "data": {
      "text/html": [
       "<div>\n",
       "<style scoped>\n",
       "    .dataframe tbody tr th:only-of-type {\n",
       "        vertical-align: middle;\n",
       "    }\n",
       "\n",
       "    .dataframe tbody tr th {\n",
       "        vertical-align: top;\n",
       "    }\n",
       "\n",
       "    .dataframe thead th {\n",
       "        text-align: right;\n",
       "    }\n",
       "</style>\n",
       "<table border=\"1\" class=\"dataframe\">\n",
       "  <thead>\n",
       "    <tr style=\"text-align: right;\">\n",
       "      <th></th>\n",
       "      <th>county_fips_code</th>\n",
       "      <th>confirmed_cases</th>\n",
       "      <th>deaths</th>\n",
       "    </tr>\n",
       "  </thead>\n",
       "  <tbody>\n",
       "    <tr>\n",
       "      <th>0</th>\n",
       "      <td>1001.0</td>\n",
       "      <td>7161</td>\n",
       "      <td>111.0</td>\n",
       "    </tr>\n",
       "    <tr>\n",
       "      <th>1</th>\n",
       "      <td>1003.0</td>\n",
       "      <td>21674</td>\n",
       "      <td>311.0</td>\n",
       "    </tr>\n",
       "    <tr>\n",
       "      <th>2</th>\n",
       "      <td>1005.0</td>\n",
       "      <td>2340</td>\n",
       "      <td>59.0</td>\n",
       "    </tr>\n",
       "    <tr>\n",
       "      <th>3</th>\n",
       "      <td>1007.0</td>\n",
       "      <td>2666</td>\n",
       "      <td>64.0</td>\n",
       "    </tr>\n",
       "    <tr>\n",
       "      <th>4</th>\n",
       "      <td>1009.0</td>\n",
       "      <td>6889</td>\n",
       "      <td>139.0</td>\n",
       "    </tr>\n",
       "    <tr>\n",
       "      <th>...</th>\n",
       "      <td>...</td>\n",
       "      <td>...</td>\n",
       "      <td>...</td>\n",
       "    </tr>\n",
       "    <tr>\n",
       "      <th>3213</th>\n",
       "      <td>72151.0</td>\n",
       "      <td>1392</td>\n",
       "      <td>NaN</td>\n",
       "    </tr>\n",
       "    <tr>\n",
       "      <th>3214</th>\n",
       "      <td>72153.0</td>\n",
       "      <td>1255</td>\n",
       "      <td>NaN</td>\n",
       "    </tr>\n",
       "    <tr>\n",
       "      <th>3215</th>\n",
       "      <td>78010.0</td>\n",
       "      <td>1398</td>\n",
       "      <td>10.0</td>\n",
       "    </tr>\n",
       "    <tr>\n",
       "      <th>3216</th>\n",
       "      <td>78020.0</td>\n",
       "      <td>242</td>\n",
       "      <td>1.0</td>\n",
       "    </tr>\n",
       "    <tr>\n",
       "      <th>3217</th>\n",
       "      <td>78030.0</td>\n",
       "      <td>1872</td>\n",
       "      <td>17.0</td>\n",
       "    </tr>\n",
       "  </tbody>\n",
       "</table>\n",
       "<p>3218 rows × 3 columns</p>\n",
       "</div>"
      ],
      "text/plain": [
       "      county_fips_code  confirmed_cases  deaths\n",
       "0               1001.0             7161   111.0\n",
       "1               1003.0            21674   311.0\n",
       "2               1005.0             2340    59.0\n",
       "3               1007.0             2666    64.0\n",
       "4               1009.0             6889   139.0\n",
       "...                ...              ...     ...\n",
       "3213           72151.0             1392     NaN\n",
       "3214           72153.0             1255     NaN\n",
       "3215           78010.0             1398    10.0\n",
       "3216           78020.0              242     1.0\n",
       "3217           78030.0             1872    17.0\n",
       "\n",
       "[3218 rows x 3 columns]"
      ]
     },
     "execution_count": 36,
     "metadata": {},
     "output_type": "execute_result"
    }
   ],
   "source": [
    "covid.groupby(by=['county_fips_code'])[['confirmed_cases', 'deaths']].max().reset_index()"
   ]
  },
  {
   "cell_type": "code",
   "execution_count": 4,
   "metadata": {
    "ExecuteTime": {
     "end_time": "2021-06-04T19:47:38.069000Z",
     "start_time": "2021-06-04T19:47:37.806118Z"
    }
   },
   "outputs": [
    {
     "data": {
      "text/html": [
       "<div>\n",
       "<style scoped>\n",
       "    .dataframe tbody tr th:only-of-type {\n",
       "        vertical-align: middle;\n",
       "    }\n",
       "\n",
       "    .dataframe tbody tr th {\n",
       "        vertical-align: top;\n",
       "    }\n",
       "\n",
       "    .dataframe thead th {\n",
       "        text-align: right;\n",
       "    }\n",
       "</style>\n",
       "<table border=\"1\" class=\"dataframe\">\n",
       "  <thead>\n",
       "    <tr style=\"text-align: right;\">\n",
       "      <th></th>\n",
       "      <th></th>\n",
       "      <th>county_fips_code</th>\n",
       "      <th>confirmed_cases</th>\n",
       "      <th>deaths</th>\n",
       "    </tr>\n",
       "    <tr>\n",
       "      <th>county</th>\n",
       "      <th>state_name</th>\n",
       "      <th></th>\n",
       "      <th></th>\n",
       "      <th></th>\n",
       "    </tr>\n",
       "  </thead>\n",
       "  <tbody>\n",
       "    <tr>\n",
       "      <th>Abbeville</th>\n",
       "      <th>South Carolina</th>\n",
       "      <td>45001.0</td>\n",
       "      <td>1036.662132</td>\n",
       "      <td>17.755102</td>\n",
       "    </tr>\n",
       "    <tr>\n",
       "      <th>Acadia</th>\n",
       "      <th>Louisiana</th>\n",
       "      <td>22001.0</td>\n",
       "      <td>3491.577626</td>\n",
       "      <td>107.856164</td>\n",
       "    </tr>\n",
       "    <tr>\n",
       "      <th>Accomack</th>\n",
       "      <th>Virginia</th>\n",
       "      <td>51001.0</td>\n",
       "      <td>1520.586364</td>\n",
       "      <td>22.090909</td>\n",
       "    </tr>\n",
       "    <tr>\n",
       "      <th>Ada</th>\n",
       "      <th>Idaho</th>\n",
       "      <td>16001.0</td>\n",
       "      <td>23114.266219</td>\n",
       "      <td>216.921700</td>\n",
       "    </tr>\n",
       "    <tr>\n",
       "      <th>Adair</th>\n",
       "      <th>Iowa</th>\n",
       "      <td>19001.0</td>\n",
       "      <td>352.875847</td>\n",
       "      <td>11.214447</td>\n",
       "    </tr>\n",
       "  </tbody>\n",
       "</table>\n",
       "</div>"
      ],
      "text/plain": [
       "                          county_fips_code  confirmed_cases      deaths\n",
       "county    state_name                                                   \n",
       "Abbeville South Carolina           45001.0      1036.662132   17.755102\n",
       "Acadia    Louisiana                22001.0      3491.577626  107.856164\n",
       "Accomack  Virginia                 51001.0      1520.586364   22.090909\n",
       "Ada       Idaho                    16001.0     23114.266219  216.921700\n",
       "Adair     Iowa                     19001.0       352.875847   11.214447"
      ]
     },
     "execution_count": 4,
     "metadata": {},
     "output_type": "execute_result"
    }
   ],
   "source": [
    "covid.groupby(['county', 'state_name']).mean().head()"
   ]
  },
  {
   "cell_type": "code",
   "execution_count": 5,
   "metadata": {
    "ExecuteTime": {
     "end_time": "2021-06-04T19:47:38.085003Z",
     "start_time": "2021-06-04T19:47:38.070000Z"
    }
   },
   "outputs": [
    {
     "data": {
      "text/plain": [
       "(24133, 9)"
      ]
     },
     "execution_count": 5,
     "metadata": {},
     "output_type": "execute_result"
    }
   ],
   "source": [
    "hospitals.shape"
   ]
  },
  {
   "cell_type": "code",
   "execution_count": 6,
   "metadata": {
    "ExecuteTime": {
     "end_time": "2021-06-04T19:47:38.101007Z",
     "start_time": "2021-06-04T19:47:38.086003Z"
    },
    "scrolled": true
   },
   "outputs": [
    {
     "data": {
      "text/html": [
       "<div>\n",
       "<style scoped>\n",
       "    .dataframe tbody tr th:only-of-type {\n",
       "        vertical-align: middle;\n",
       "    }\n",
       "\n",
       "    .dataframe tbody tr th {\n",
       "        vertical-align: top;\n",
       "    }\n",
       "\n",
       "    .dataframe thead th {\n",
       "        text-align: right;\n",
       "    }\n",
       "</style>\n",
       "<table border=\"1\" class=\"dataframe\">\n",
       "  <thead>\n",
       "    <tr style=\"text-align: right;\">\n",
       "      <th></th>\n",
       "      <th>county</th>\n",
       "      <th>todays_date</th>\n",
       "      <th>hospitalized_covid_confirmed_patients</th>\n",
       "      <th>hospitalized_suspected_covid_patients</th>\n",
       "      <th>hospitalized_covid_patients</th>\n",
       "      <th>all_hospital_beds</th>\n",
       "      <th>icu_covid_confirmed_patients</th>\n",
       "      <th>icu_suspected_covid_patients</th>\n",
       "      <th>icu_available_beds</th>\n",
       "    </tr>\n",
       "  </thead>\n",
       "  <tbody>\n",
       "    <tr>\n",
       "      <th>0</th>\n",
       "      <td>Plumas</td>\n",
       "      <td>2020-03-29</td>\n",
       "      <td>0.0</td>\n",
       "      <td>1.0</td>\n",
       "      <td>NaN</td>\n",
       "      <td>NaN</td>\n",
       "      <td>0.0</td>\n",
       "      <td>1.0</td>\n",
       "      <td>NaN</td>\n",
       "    </tr>\n",
       "    <tr>\n",
       "      <th>1</th>\n",
       "      <td>Solano</td>\n",
       "      <td>2020-03-29</td>\n",
       "      <td>7.0</td>\n",
       "      <td>27.0</td>\n",
       "      <td>NaN</td>\n",
       "      <td>NaN</td>\n",
       "      <td>4.0</td>\n",
       "      <td>1.0</td>\n",
       "      <td>28.0</td>\n",
       "    </tr>\n",
       "    <tr>\n",
       "      <th>2</th>\n",
       "      <td>Tulare</td>\n",
       "      <td>2020-03-29</td>\n",
       "      <td>6.0</td>\n",
       "      <td>13.0</td>\n",
       "      <td>NaN</td>\n",
       "      <td>NaN</td>\n",
       "      <td>5.0</td>\n",
       "      <td>3.0</td>\n",
       "      <td>7.0</td>\n",
       "    </tr>\n",
       "    <tr>\n",
       "      <th>3</th>\n",
       "      <td>Sonoma</td>\n",
       "      <td>2020-03-29</td>\n",
       "      <td>7.0</td>\n",
       "      <td>20.0</td>\n",
       "      <td>NaN</td>\n",
       "      <td>NaN</td>\n",
       "      <td>2.0</td>\n",
       "      <td>5.0</td>\n",
       "      <td>12.0</td>\n",
       "    </tr>\n",
       "    <tr>\n",
       "      <th>4</th>\n",
       "      <td>Mono</td>\n",
       "      <td>2020-03-29</td>\n",
       "      <td>0.0</td>\n",
       "      <td>1.0</td>\n",
       "      <td>NaN</td>\n",
       "      <td>NaN</td>\n",
       "      <td>0.0</td>\n",
       "      <td>0.0</td>\n",
       "      <td>2.0</td>\n",
       "    </tr>\n",
       "  </tbody>\n",
       "</table>\n",
       "</div>"
      ],
      "text/plain": [
       "   county todays_date  hospitalized_covid_confirmed_patients  \\\n",
       "0  Plumas  2020-03-29                                    0.0   \n",
       "1  Solano  2020-03-29                                    7.0   \n",
       "2  Tulare  2020-03-29                                    6.0   \n",
       "3  Sonoma  2020-03-29                                    7.0   \n",
       "4    Mono  2020-03-29                                    0.0   \n",
       "\n",
       "   hospitalized_suspected_covid_patients  hospitalized_covid_patients  \\\n",
       "0                                    1.0                          NaN   \n",
       "1                                   27.0                          NaN   \n",
       "2                                   13.0                          NaN   \n",
       "3                                   20.0                          NaN   \n",
       "4                                    1.0                          NaN   \n",
       "\n",
       "   all_hospital_beds  icu_covid_confirmed_patients  \\\n",
       "0                NaN                           0.0   \n",
       "1                NaN                           4.0   \n",
       "2                NaN                           5.0   \n",
       "3                NaN                           2.0   \n",
       "4                NaN                           0.0   \n",
       "\n",
       "   icu_suspected_covid_patients  icu_available_beds  \n",
       "0                           1.0                 NaN  \n",
       "1                           1.0                28.0  \n",
       "2                           3.0                 7.0  \n",
       "3                           5.0                12.0  \n",
       "4                           0.0                 2.0  "
      ]
     },
     "execution_count": 6,
     "metadata": {},
     "output_type": "execute_result"
    }
   ],
   "source": [
    "hospitals.head()"
   ]
  },
  {
   "cell_type": "code",
   "execution_count": 7,
   "metadata": {
    "ExecuteTime": {
     "end_time": "2021-06-04T19:47:38.117011Z",
     "start_time": "2021-06-04T19:47:38.103008Z"
    }
   },
   "outputs": [
    {
     "name": "stdout",
     "output_type": "stream",
     "text": [
      "<class 'pandas.core.frame.DataFrame'>\n",
      "RangeIndex: 24133 entries, 0 to 24132\n",
      "Data columns (total 9 columns):\n",
      " #   Column                                 Non-Null Count  Dtype  \n",
      "---  ------                                 --------------  -----  \n",
      " 0   county                                 24133 non-null  object \n",
      " 1   todays_date                            24133 non-null  object \n",
      " 2   hospitalized_covid_confirmed_patients  24125 non-null  float64\n",
      " 3   hospitalized_suspected_covid_patients  24125 non-null  float64\n",
      " 4   hospitalized_covid_patients            22848 non-null  float64\n",
      " 5   all_hospital_beds                      22758 non-null  float64\n",
      " 6   icu_covid_confirmed_patients           24104 non-null  float64\n",
      " 7   icu_suspected_covid_patients           24104 non-null  float64\n",
      " 8   icu_available_beds                     23329 non-null  float64\n",
      "dtypes: float64(7), object(2)\n",
      "memory usage: 1.7+ MB\n"
     ]
    }
   ],
   "source": [
    "hospitals.info()"
   ]
  },
  {
   "cell_type": "code",
   "execution_count": 8,
   "metadata": {
    "ExecuteTime": {
     "end_time": "2021-06-04T19:47:38.133014Z",
     "start_time": "2021-06-04T19:47:38.119010Z"
    }
   },
   "outputs": [
    {
     "data": {
      "text/plain": [
       "431"
      ]
     },
     "execution_count": 8,
     "metadata": {},
     "output_type": "execute_result"
    }
   ],
   "source": [
    "hospitals['todays_date'].nunique()"
   ]
  },
  {
   "cell_type": "code",
   "execution_count": 9,
   "metadata": {
    "ExecuteTime": {
     "end_time": "2021-06-04T19:47:38.149018Z",
     "start_time": "2021-06-04T19:47:38.135014Z"
    }
   },
   "outputs": [
    {
     "data": {
      "text/plain": [
       "'2021-06-02'"
      ]
     },
     "execution_count": 9,
     "metadata": {},
     "output_type": "execute_result"
    }
   ],
   "source": [
    "hospitals['todays_date'].max()"
   ]
  },
  {
   "cell_type": "code",
   "execution_count": 10,
   "metadata": {
    "ExecuteTime": {
     "end_time": "2021-06-04T19:47:38.164021Z",
     "start_time": "2021-06-04T19:47:38.151018Z"
    }
   },
   "outputs": [
    {
     "data": {
      "text/plain": [
       "0"
      ]
     },
     "execution_count": 10,
     "metadata": {},
     "output_type": "execute_result"
    }
   ],
   "source": [
    "hospitals.duplicated(subset=['county', 'todays_date'], keep='first').sum()"
   ]
  },
  {
   "cell_type": "code",
   "execution_count": 11,
   "metadata": {
    "ExecuteTime": {
     "end_time": "2021-06-04T19:47:38.179025Z",
     "start_time": "2021-06-04T19:47:38.165021Z"
    }
   },
   "outputs": [],
   "source": [
    "hospitals.set_index('todays_date', inplace=True)"
   ]
  },
  {
   "cell_type": "code",
   "execution_count": 12,
   "metadata": {
    "ExecuteTime": {
     "end_time": "2021-06-04T19:47:38.194027Z",
     "start_time": "2021-06-04T19:47:38.181025Z"
    }
   },
   "outputs": [
    {
     "data": {
      "text/plain": [
       "(56, 7)"
      ]
     },
     "execution_count": 12,
     "metadata": {},
     "output_type": "execute_result"
    }
   ],
   "source": [
    "hospitals.groupby(by='county').count().shape"
   ]
  },
  {
   "cell_type": "code",
   "execution_count": 13,
   "metadata": {
    "ExecuteTime": {
     "end_time": "2021-06-04T19:47:38.364954Z",
     "start_time": "2021-06-04T19:47:38.196029Z"
    }
   },
   "outputs": [
    {
     "data": {
      "text/plain": [
       "<AxesSubplot:xlabel='todays_date'>"
      ]
     },
     "execution_count": 13,
     "metadata": {},
     "output_type": "execute_result"
    },
    {
     "data": {
      "image/png": "[encoded data removed]",
      "text/plain": [
       "<Figure size 432x288 with 1 Axes>"
      ]
     },
     "metadata": {
      "needs_background": "light"
     },
     "output_type": "display_data"
    }
   ],
   "source": [
    "hospitals.sort_index(inplace=True)\n",
    "hospitals['icu_available_beds'].plot()"
   ]
  },
  {
   "cell_type": "code",
   "execution_count": 14,
   "metadata": {
    "ExecuteTime": {
     "end_time": "2021-06-04T19:47:38.394966Z",
     "start_time": "2021-06-04T19:47:38.365969Z"
    }
   },
   "outputs": [],
   "source": [
    "temp_hospital = hospitals\n",
    "temp_hospital['icu_available_beds'] = temp_hospital['icu_available_beds'].pct_change()\n",
    "temp_hospital.dropna(inplace=True)"
   ]
  },
  {
   "cell_type": "code",
   "execution_count": 15,
   "metadata": {
    "ExecuteTime": {
     "end_time": "2021-06-04T19:47:38.504996Z",
     "start_time": "2021-06-04T19:47:38.395967Z"
    }
   },
   "outputs": [
    {
     "data": {
      "image/png": "[encoded data removed]",
      "text/plain": [
       "<Figure size 432x288 with 1 Axes>"
      ]
     },
     "metadata": {
      "needs_background": "light"
     },
     "output_type": "display_data"
    }
   ],
   "source": [
    "temp_hospital['icu_available_beds'].plot();"
   ]
  },
  {
   "cell_type": "code",
   "execution_count": 16,
   "metadata": {
    "ExecuteTime": {
     "end_time": "2021-06-04T19:47:38.628823Z",
     "start_time": "2021-06-04T19:47:38.507014Z"
    }
   },
   "outputs": [
    {
     "data": {
      "text/plain": [
       "<Figure size 720x720 with 0 Axes>"
      ]
     },
     "metadata": {},
     "output_type": "display_data"
    },
    {
     "data": {
      "image/png": "[encoded data removed]",
      "text/plain": [
       "<Figure size 432x288 with 1 Axes>"
      ]
     },
     "metadata": {
      "needs_background": "light"
     },
     "output_type": "display_data"
    }
   ],
   "source": [
    "plt.figure(figsize=(10, 10))\n",
    "temp_hospital[temp_hospital['county'] == 'Plumas'][['icu_available_beds']].plot();"
   ]
  },
  {
   "cell_type": "code",
   "execution_count": 17,
   "metadata": {
    "ExecuteTime": {
     "end_time": "2021-06-04T19:47:38.644827Z",
     "start_time": "2021-06-04T19:47:38.629830Z"
    }
   },
   "outputs": [
    {
     "data": {
      "text/plain": [
       "((1381436, 6), (3220, 242))"
      ]
     },
     "execution_count": 17,
     "metadata": {},
     "output_type": "execute_result"
    }
   ],
   "source": [
    "covid.shape, census.shape"
   ]
  },
  {
   "cell_type": "code",
   "execution_count": 18,
   "metadata": {
    "ExecuteTime": {
     "end_time": "2021-06-04T19:47:38.660830Z",
     "start_time": "2021-06-04T19:47:38.645827Z"
    }
   },
   "outputs": [
    {
     "data": {
      "text/plain": [
       "0            Rhode Island\n",
       "1            Rhode Island\n",
       "2            Rhode Island\n",
       "3                 Vermont\n",
       "4                 Arizona\n",
       "                ...      \n",
       "1381431          Missouri\n",
       "1381432          Missouri\n",
       "1381433          Missouri\n",
       "1381434         Louisiana\n",
       "1381435    North Carolina\n",
       "Name: state_name, Length: 1381436, dtype: object"
      ]
     },
     "execution_count": 18,
     "metadata": {},
     "output_type": "execute_result"
    }
   ],
   "source": [
    "covid['state_name']"
   ]
  },
  {
   "cell_type": "code",
   "execution_count": 19,
   "metadata": {
    "ExecuteTime": {
     "end_time": "2021-06-04T19:47:38.739851Z",
     "start_time": "2021-06-04T19:47:38.662831Z"
    }
   },
   "outputs": [
    {
     "data": {
      "text/plain": [
       "25675"
      ]
     },
     "execution_count": 19,
     "metadata": {},
     "output_type": "execute_result"
    }
   ],
   "source": [
    "covid[covid['state_name'] == 'California'].shape[0]"
   ]
  },
  {
   "cell_type": "code",
   "execution_count": 20,
   "metadata": {
    "ExecuteTime": {
     "end_time": "2021-06-04T19:47:38.880931Z",
     "start_time": "2021-06-04T19:47:38.741853Z"
    }
   },
   "outputs": [
    {
     "data": {
      "text/plain": [
       "date                0.000000\n",
       "county              0.000000\n",
       "state_name          0.000000\n",
       "county_fips_code    0.000351\n",
       "confirmed_cases     0.000000\n",
       "deaths              0.000000\n",
       "dtype: float64"
      ]
     },
     "execution_count": 20,
     "metadata": {},
     "output_type": "execute_result"
    }
   ],
   "source": [
    "covid[covid['state_name'] == 'California'].isna().sum() / covid[covid['state_name'] == 'California'].shape[0]"
   ]
  },
  {
   "cell_type": "code",
   "execution_count": 21,
   "metadata": {
    "ExecuteTime": {
     "end_time": "2021-06-04T19:47:38.895935Z",
     "start_time": "2021-06-04T19:47:38.881931Z"
    }
   },
   "outputs": [
    {
     "data": {
      "text/plain": [
       "(3220, 242)"
      ]
     },
     "execution_count": 21,
     "metadata": {},
     "output_type": "execute_result"
    }
   ],
   "source": [
    "census.shape"
   ]
  },
  {
   "cell_type": "code",
   "execution_count": 22,
   "metadata": {
    "ExecuteTime": {
     "end_time": "2021-06-04T19:47:39.006959Z",
     "start_time": "2021-06-04T19:47:38.896936Z"
    }
   },
   "outputs": [
    {
     "data": {
      "image/png": "[encoded data removed]",
      "text/plain": [
       "<Figure size 432x288 with 1 Axes>"
      ]
     },
     "metadata": {
      "needs_background": "light"
     },
     "output_type": "display_data"
    }
   ],
   "source": [
    "census.isna().sum().hist();"
   ]
  },
  {
   "cell_type": "code",
   "execution_count": 23,
   "metadata": {
    "ExecuteTime": {
     "end_time": "2021-06-04T19:47:39.021968Z",
     "start_time": "2021-06-04T19:47:39.009963Z"
    }
   },
   "outputs": [
    {
     "data": {
      "text/plain": [
       "Index(['geo_id', 'do_date', 'total_pop', 'households', 'male_pop',\n",
       "       'female_pop', 'median_age', 'male_under_5', 'male_5_to_9',\n",
       "       'male_10_to_14',\n",
       "       ...\n",
       "       'management_business_sci_arts_employed', 'sales_office_employed',\n",
       "       'in_grades_1_to_4', 'in_grades_5_to_8', 'in_grades_9_to_12',\n",
       "       'in_school', 'in_undergrad_college', 'speak_only_english_at_home',\n",
       "       'speak_spanish_at_home', 'speak_spanish_at_home_low_english'],\n",
       "      dtype='object', length=242)"
      ]
     },
     "execution_count": 23,
     "metadata": {},
     "output_type": "execute_result"
    }
   ],
   "source": [
    "census.columns"
   ]
  },
  {
   "cell_type": "code",
   "execution_count": 24,
   "metadata": {
    "ExecuteTime": {
     "end_time": "2021-06-04T19:47:39.036969Z",
     "start_time": "2021-06-04T19:47:39.023967Z"
    }
   },
   "outputs": [
    {
     "data": {
      "text/plain": [
       "Index(['pop_5_years_over', 'pop_15_and_over', 'pop_never_married',\n",
       "       'pop_now_married', 'pop_separated', 'pop_widowed', 'pop_divorced',\n",
       "       'speak_only_english_at_home', 'speak_spanish_at_home',\n",
       "       'speak_spanish_at_home_low_english'],\n",
       "      dtype='object')"
      ]
     },
     "execution_count": 24,
     "metadata": {},
     "output_type": "execute_result"
    }
   ],
   "source": [
    "census.columns[(census.isna().sum() / census.shape[0]) == 1]"
   ]
  },
  {
   "cell_type": "code",
   "execution_count": 25,
   "metadata": {
    "ExecuteTime": {
     "end_time": "2021-06-04T19:47:39.067976Z",
     "start_time": "2021-06-04T19:47:39.037981Z"
    }
   },
   "outputs": [
    {
     "data": {
      "text/html": [
       "<div>\n",
       "<style scoped>\n",
       "    .dataframe tbody tr th:only-of-type {\n",
       "        vertical-align: middle;\n",
       "    }\n",
       "\n",
       "    .dataframe tbody tr th {\n",
       "        vertical-align: top;\n",
       "    }\n",
       "\n",
       "    .dataframe thead th {\n",
       "        text-align: right;\n",
       "    }\n",
       "</style>\n",
       "<table border=\"1\" class=\"dataframe\">\n",
       "  <thead>\n",
       "    <tr style=\"text-align: right;\">\n",
       "      <th></th>\n",
       "      <th>geo_id</th>\n",
       "      <th>do_date</th>\n",
       "      <th>total_pop</th>\n",
       "      <th>households</th>\n",
       "      <th>male_pop</th>\n",
       "      <th>female_pop</th>\n",
       "      <th>median_age</th>\n",
       "      <th>male_under_5</th>\n",
       "      <th>male_5_to_9</th>\n",
       "      <th>male_10_to_14</th>\n",
       "      <th>...</th>\n",
       "      <th>management_business_sci_arts_employed</th>\n",
       "      <th>sales_office_employed</th>\n",
       "      <th>in_grades_1_to_4</th>\n",
       "      <th>in_grades_5_to_8</th>\n",
       "      <th>in_grades_9_to_12</th>\n",
       "      <th>in_school</th>\n",
       "      <th>in_undergrad_college</th>\n",
       "      <th>speak_only_english_at_home</th>\n",
       "      <th>speak_spanish_at_home</th>\n",
       "      <th>speak_spanish_at_home_low_english</th>\n",
       "    </tr>\n",
       "  </thead>\n",
       "  <tbody>\n",
       "    <tr>\n",
       "      <th>0</th>\n",
       "      <td>35039</td>\n",
       "      <td>2014-01-01</td>\n",
       "      <td>39307.0</td>\n",
       "      <td>12398.0</td>\n",
       "      <td>19250.0</td>\n",
       "      <td>20057.0</td>\n",
       "      <td>40.6</td>\n",
       "      <td>1224.0</td>\n",
       "      <td>1240.0</td>\n",
       "      <td>1278.0</td>\n",
       "      <td>...</td>\n",
       "      <td>NaN</td>\n",
       "      <td>NaN</td>\n",
       "      <td>2170.0</td>\n",
       "      <td>1985.0</td>\n",
       "      <td>1970.0</td>\n",
       "      <td>9260.0</td>\n",
       "      <td>1653.0</td>\n",
       "      <td>NaN</td>\n",
       "      <td>NaN</td>\n",
       "      <td>NaN</td>\n",
       "    </tr>\n",
       "    <tr>\n",
       "      <th>1</th>\n",
       "      <td>72133</td>\n",
       "      <td>2014-01-01</td>\n",
       "      <td>22066.0</td>\n",
       "      <td>7465.0</td>\n",
       "      <td>10650.0</td>\n",
       "      <td>11416.0</td>\n",
       "      <td>37.8</td>\n",
       "      <td>567.0</td>\n",
       "      <td>662.0</td>\n",
       "      <td>864.0</td>\n",
       "      <td>...</td>\n",
       "      <td>2171.0</td>\n",
       "      <td>1242.0</td>\n",
       "      <td>1155.0</td>\n",
       "      <td>1362.0</td>\n",
       "      <td>1319.0</td>\n",
       "      <td>5884.0</td>\n",
       "      <td>1410.0</td>\n",
       "      <td>NaN</td>\n",
       "      <td>NaN</td>\n",
       "      <td>NaN</td>\n",
       "    </tr>\n",
       "    <tr>\n",
       "      <th>2</th>\n",
       "      <td>72043</td>\n",
       "      <td>2014-01-01</td>\n",
       "      <td>39265.0</td>\n",
       "      <td>13346.0</td>\n",
       "      <td>19056.0</td>\n",
       "      <td>20209.0</td>\n",
       "      <td>40.7</td>\n",
       "      <td>945.0</td>\n",
       "      <td>1109.0</td>\n",
       "      <td>1431.0</td>\n",
       "      <td>...</td>\n",
       "      <td>3023.0</td>\n",
       "      <td>2529.0</td>\n",
       "      <td>1851.0</td>\n",
       "      <td>2144.0</td>\n",
       "      <td>1901.0</td>\n",
       "      <td>9475.0</td>\n",
       "      <td>2219.0</td>\n",
       "      <td>NaN</td>\n",
       "      <td>NaN</td>\n",
       "      <td>NaN</td>\n",
       "    </tr>\n",
       "    <tr>\n",
       "      <th>3</th>\n",
       "      <td>72151</td>\n",
       "      <td>2014-01-01</td>\n",
       "      <td>34149.0</td>\n",
       "      <td>11722.0</td>\n",
       "      <td>16541.0</td>\n",
       "      <td>17608.0</td>\n",
       "      <td>42.5</td>\n",
       "      <td>754.0</td>\n",
       "      <td>1095.0</td>\n",
       "      <td>1020.0</td>\n",
       "      <td>...</td>\n",
       "      <td>1969.0</td>\n",
       "      <td>1700.0</td>\n",
       "      <td>1957.0</td>\n",
       "      <td>1388.0</td>\n",
       "      <td>1933.0</td>\n",
       "      <td>8055.0</td>\n",
       "      <td>2147.0</td>\n",
       "      <td>NaN</td>\n",
       "      <td>NaN</td>\n",
       "      <td>NaN</td>\n",
       "    </tr>\n",
       "    <tr>\n",
       "      <th>4</th>\n",
       "      <td>72071</td>\n",
       "      <td>2014-01-01</td>\n",
       "      <td>42420.0</td>\n",
       "      <td>15012.0</td>\n",
       "      <td>20629.0</td>\n",
       "      <td>21791.0</td>\n",
       "      <td>41.6</td>\n",
       "      <td>898.0</td>\n",
       "      <td>1159.0</td>\n",
       "      <td>1381.0</td>\n",
       "      <td>...</td>\n",
       "      <td>3246.0</td>\n",
       "      <td>2725.0</td>\n",
       "      <td>1996.0</td>\n",
       "      <td>2057.0</td>\n",
       "      <td>2211.0</td>\n",
       "      <td>10099.0</td>\n",
       "      <td>2551.0</td>\n",
       "      <td>NaN</td>\n",
       "      <td>NaN</td>\n",
       "      <td>NaN</td>\n",
       "    </tr>\n",
       "  </tbody>\n",
       "</table>\n",
       "<p>5 rows × 242 columns</p>\n",
       "</div>"
      ],
      "text/plain": [
       "   geo_id     do_date  total_pop  households  male_pop  female_pop  \\\n",
       "0   35039  2014-01-01    39307.0     12398.0   19250.0     20057.0   \n",
       "1   72133  2014-01-01    22066.0      7465.0   10650.0     11416.0   \n",
       "2   72043  2014-01-01    39265.0     13346.0   19056.0     20209.0   \n",
       "3   72151  2014-01-01    34149.0     11722.0   16541.0     17608.0   \n",
       "4   72071  2014-01-01    42420.0     15012.0   20629.0     21791.0   \n",
       "\n",
       "   median_age  male_under_5  male_5_to_9  male_10_to_14  ...  \\\n",
       "0        40.6        1224.0       1240.0         1278.0  ...   \n",
       "1        37.8         567.0        662.0          864.0  ...   \n",
       "2        40.7         945.0       1109.0         1431.0  ...   \n",
       "3        42.5         754.0       1095.0         1020.0  ...   \n",
       "4        41.6         898.0       1159.0         1381.0  ...   \n",
       "\n",
       "   management_business_sci_arts_employed  sales_office_employed  \\\n",
       "0                                    NaN                    NaN   \n",
       "1                                 2171.0                 1242.0   \n",
       "2                                 3023.0                 2529.0   \n",
       "3                                 1969.0                 1700.0   \n",
       "4                                 3246.0                 2725.0   \n",
       "\n",
       "   in_grades_1_to_4  in_grades_5_to_8  in_grades_9_to_12  in_school  \\\n",
       "0            2170.0            1985.0             1970.0     9260.0   \n",
       "1            1155.0            1362.0             1319.0     5884.0   \n",
       "2            1851.0            2144.0             1901.0     9475.0   \n",
       "3            1957.0            1388.0             1933.0     8055.0   \n",
       "4            1996.0            2057.0             2211.0    10099.0   \n",
       "\n",
       "   in_undergrad_college  speak_only_english_at_home  speak_spanish_at_home  \\\n",
       "0                1653.0                         NaN                    NaN   \n",
       "1                1410.0                         NaN                    NaN   \n",
       "2                2219.0                         NaN                    NaN   \n",
       "3                2147.0                         NaN                    NaN   \n",
       "4                2551.0                         NaN                    NaN   \n",
       "\n",
       "   speak_spanish_at_home_low_english  \n",
       "0                                NaN  \n",
       "1                                NaN  \n",
       "2                                NaN  \n",
       "3                                NaN  \n",
       "4                                NaN  \n",
       "\n",
       "[5 rows x 242 columns]"
      ]
     },
     "execution_count": 25,
     "metadata": {},
     "output_type": "execute_result"
    }
   ],
   "source": [
    "census.head()"
   ]
  },
  {
   "cell_type": "code",
   "execution_count": 26,
   "metadata": {
    "ExecuteTime": {
     "end_time": "2021-06-04T19:47:39.098983Z",
     "start_time": "2021-06-04T19:47:39.069977Z"
    }
   },
   "outputs": [
    {
     "data": {
      "text/plain": [
       "(3220, 241)"
      ]
     },
     "execution_count": 26,
     "metadata": {},
     "output_type": "execute_result"
    }
   ],
   "source": [
    "census.groupby('geo_id').count().shape"
   ]
  },
  {
   "cell_type": "code",
   "execution_count": 27,
   "metadata": {
    "ExecuteTime": {
     "end_time": "2021-06-04T19:47:39.113673Z",
     "start_time": "2021-06-04T19:47:39.099984Z"
    }
   },
   "outputs": [],
   "source": [
    "# census overimpose w/ county and icu beds\n",
    "# show death rates based on poverty\n",
    "\n",
    "# new york govenor was hiding actual covid death rate in nursing homes\n",
    "# could look for indicators of cover up in california"
   ]
  },
  {
   "cell_type": "markdown",
   "metadata": {},
   "source": [
    "## Model"
   ]
  },
  {
   "cell_type": "code",
   "execution_count": null,
   "metadata": {},
   "outputs": [],
   "source": []
  }
 ],
 "metadata": {
  "kernelspec": {
   "display_name": "Python 3",
   "language": "python",
   "name": "python3"
  },
  "language_info": {
   "codemirror_mode": {
    "name": "ipython",
    "version": 3
   },
   "file_extension": ".py",
   "mimetype": "text/x-python",
   "name": "python",
   "nbconvert_exporter": "python",
   "pygments_lexer": "ipython3",
   "version": "3.8.5"
  }
 },
 "nbformat": 4,
 "nbformat_minor": 4
}
