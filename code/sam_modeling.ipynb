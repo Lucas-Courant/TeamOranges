{
 "cells": [
  {
   "cell_type": "code",
   "execution_count": 3,
   "metadata": {
    "ExecuteTime": {
     "end_time": "2021-06-12T19:41:42.128047Z",
     "start_time": "2021-06-12T19:41:39.886710Z"
    }
   },
   "outputs": [],
   "source": [
    "import pandas as pd\n",
    "import numpy as np\n",
    "import plotly.figure_factory as ff\n",
    "\n",
    "from sklearn.linear_model import LinearRegression\n",
    "from sklearn.ensemble import (AdaBoostRegressor, \n",
    "                              GradientBoostingRegressor,\n",
    "                              RandomForestRegressor,\n",
    "                              VotingRegressor)\n",
    "from sklearn.decomposition import PCA\n",
    "from sklearn.metrics import r2_score\n",
    "from sklearn.model_selection import GridSearchCV, train_test_split\n",
    "from sklearn.pipeline import Pipeline\n",
    "from sklearn.preprocessing import StandardScaler\n",
    "from tensorflow.keras.layers import Dense, Dropout\n",
    "from tensorflow.keras.models import Sequential\n",
    "from tensorflow.keras.wrappers.scikit_learn import KerasRegressor"
   ]
  },
  {
   "cell_type": "code",
   "execution_count": 4,
   "metadata": {
    "ExecuteTime": {
     "end_time": "2021-06-12T19:41:42.222069Z",
     "start_time": "2021-06-12T19:41:42.130049Z"
    }
   },
   "outputs": [],
   "source": [
    "df = pd.read_csv('../data/sam_dataset.csv')"
   ]
  },
  {
   "cell_type": "markdown",
   "metadata": {},
   "source": [
    "## Feature Selection"
   ]
  },
  {
   "cell_type": "code",
   "execution_count": null,
   "metadata": {
    "ExecuteTime": {
     "end_time": "2021-06-12T19:18:07.615142Z",
     "start_time": "2021-06-12T19:18:07.595139Z"
    }
   },
   "outputs": [],
   "source": [
    "df['pct_nonfamily_house'] = df['nonfamily_households'] / df['households']\n",
    "# df['pct_family_house'] = df['family_households'] / df['households']\n",
    "df['pct_male_male_households'] = df['male_male_households'] / df['households']\n",
    "df['pct_female_female_households'] = df['female_female_households'] / df['households']\n",
    "df['pct_male'] = df['male_pop'] / df['total_pop']\n",
    "# df['pct_female'] = df['female_pop'] / df['total_pop']\n",
    "df['pct_white'] = df['white_pop'] / df['total_pop']\n",
    "df['pct_black'] = df['black_pop'] / df['total_pop']\n",
    "df['pct_asian'] = df['asian_pop'] / df['total_pop']\n",
    "df['pct_hispanic'] = df['hispanic_pop'] / df['total_pop']\n",
    "df['pct_amerindian'] = df['amerindian_pop'] / df['total_pop']\n",
    "df['pct_other_race'] = df['other_race_pop'] / df['total_pop']\n",
    "df['pct_two_or_more_races'] = df['two_or_more_races_pop'] / df['total_pop']\n",
    "df['pct_commuters_by_public_transportation'] = df['commuters_by_public_transportation'] / df['total_pop']\n",
    "df['pct_households'] = df['households'] / df['total_pop']\n",
    "df['pop_per_housing_unit'] = df['total_pop'] / df['housing_units'] \n",
    "df['pct_armed_forces'] = df['armed_forces'] / df['total_pop']\n",
    "df['pct_employed'] = df['employed_pop'] / df['total_pop']\n",
    "df['pct_bachelors_degree_or_higher_25_64'] = df['bachelors_degree_or_higher_25_64'] / df['total_pop']\n",
    "df['pct_children'] = df['children'] / df['total_pop']\n",
    "df['pct_employed_education_health_social'] = df['employed_education_health_social'] / df['total_pop']\n",
    "df['pct_not_us_citizen_pop'] = df['not_us_citizen_pop'] / df['total_pop']\n",
    "# df['pct_not_hispanic'] = df['not_hispanic_pop'] / df['total_pop']"
   ]
  },
  {
   "cell_type": "code",
   "execution_count": null,
   "metadata": {
    "ExecuteTime": {
     "end_time": "2021-06-12T19:18:07.788496Z",
     "start_time": "2021-06-12T19:18:07.786496Z"
    }
   },
   "outputs": [],
   "source": [
    "features = ['poverty_rate',\n",
    "#             'gini_index',\n",
    "#             'pct_nonfamily_house',\n",
    "            'pct_male',\n",
    "            'pct_black',\n",
    "            'pct_asian',\n",
    "            'pct_hispanic',\n",
    "            'pct_amerindian',\n",
    "#             'rent_over_50_percent',\n",
    "#             'total_pop',\n",
    "            'median_age',\n",
    "            'pct_commuters_by_public_transportation',\n",
    "            'pct_households',\n",
    "#             'pop_per_housing_unit',\n",
    "#             'median_rent',\n",
    "#             'mobile_homes',\n",
    "#             'pct_armed_forces',\n",
    "            'pct_employed',\n",
    "            'pct_bachelors_degree_or_higher_25_64',\n",
    "            'pct_children',\n",
    "#             'pct_employed_education_health_social',\n",
    "            'pct_not_us_citizen_pop',\n",
    "            'Staffed All Beds']"
   ]
  },
  {
   "cell_type": "code",
   "execution_count": null,
   "metadata": {
    "ExecuteTime": {
     "end_time": "2021-06-12T19:18:08.005493Z",
     "start_time": "2021-06-12T19:18:07.994492Z"
    }
   },
   "outputs": [],
   "source": [
    "def print_gs(gs, X_train, X_test, y_train, y_test):\n",
    "    results = gs.cv_results_\n",
    "    cv_mean = gs.cv_results_['mean_test_score'][gs.best_index_]\n",
    "    cv_range = 2 * gs.cv_results_['std_test_score'][gs.best_index_]\n",
    "    print('Best Score: ', gs.best_score_)\n",
    "    print(f'Cross Val Score {cv_mean} +/- {cv_range}')\n",
    "    print('Test Score: ', gs.score(X_test, y_test))\n",
    "    print('Best Params: ', gs.best_params_)"
   ]
  },
  {
   "cell_type": "markdown",
   "metadata": {},
   "source": [
    "## Data Preprocessing & Modeling"
   ]
  },
  {
   "cell_type": "code",
   "execution_count": null,
   "metadata": {
    "ExecuteTime": {
     "end_time": "2021-06-12T19:18:09.701787Z",
     "start_time": "2021-06-12T19:18:09.690785Z"
    }
   },
   "outputs": [],
   "source": [
    "# # feature selection using Lasso\n",
    "# def select_features(X, y, verbose=True):\n",
    "    "
   ]
  },
  {
   "cell_type": "code",
   "execution_count": null,
   "metadata": {
    "ExecuteTime": {
     "end_time": "2021-06-12T19:18:09.904120Z",
     "start_time": "2021-06-12T19:18:09.891118Z"
    }
   },
   "outputs": [],
   "source": [
    "X = df[features]\n",
    "# X = df.drop(['death_rate', 'do_date'], axis=1)\n",
    "y = df['death_rate']\n",
    "\n",
    "X_train, X_test, y_train, y_test = train_test_split(X, y, random_state=42)"
   ]
  },
  {
   "cell_type": "code",
   "execution_count": null,
   "metadata": {
    "ExecuteTime": {
     "end_time": "2021-06-12T19:18:11.194076Z",
     "start_time": "2021-06-12T19:18:11.187074Z"
    }
   },
   "outputs": [],
   "source": [
    "pipe_lr = Pipeline([\n",
    "    ('ss', StandardScaler()),\n",
    "    ('pca', PCA(.95)),\n",
    "    ('lr', LinearRegression())\n",
    "])\n",
    "\n",
    "pipe_rf = Pipeline([\n",
    "    ('ss', StandardScaler()),\n",
    "    ('pca', PCA(.95)),\n",
    "    ('rf', RandomForestRegressor())\n",
    "])\n",
    "\n",
    "pipe_ada = Pipeline([\n",
    "    ('ss', StandardScaler()),\n",
    "    ('pca', PCA(.95)),\n",
    "    ('ada', AdaBoostRegressor())\n",
    "])\n",
    "\n",
    "pipe_gb = Pipeline([\n",
    "    ('ss', StandardScaler()),\n",
    "    ('pca', PCA(.95)),\n",
    "    ('gb', GradientBoostingRegressor())\n",
    "])"
   ]
  },
  {
   "cell_type": "code",
   "execution_count": null,
   "metadata": {
    "ExecuteTime": {
     "end_time": "2021-06-12T19:18:11.555117Z",
     "start_time": "2021-06-12T19:18:11.538112Z"
    }
   },
   "outputs": [],
   "source": [
    "# models = [()]\n",
    "# for model in models"
   ]
  },
  {
   "cell_type": "markdown",
   "metadata": {},
   "source": [
    "**Baseline**"
   ]
  },
  {
   "cell_type": "code",
   "execution_count": null,
   "metadata": {
    "ExecuteTime": {
     "end_time": "2021-06-12T19:18:13.043485Z",
     "start_time": "2021-06-12T19:18:13.034483Z"
    }
   },
   "outputs": [],
   "source": [
    "preds_base = np.ones(X_test.shape[0]) * np.mean(y_test)\n",
    "r2_score(y_test, preds_base)"
   ]
  },
  {
   "cell_type": "markdown",
   "metadata": {},
   "source": [
    "**Linear Regression**"
   ]
  },
  {
   "cell_type": "code",
   "execution_count": null,
   "metadata": {
    "ExecuteTime": {
     "end_time": "2021-06-12T19:28:14.017428Z",
     "start_time": "2021-06-12T19:28:11.883647Z"
    }
   },
   "outputs": [],
   "source": [
    "params_lr = {\n",
    "    'pca__n_components': [0.9, 0.95, 0.99],  # 'mle'],  # \n",
    "    'pca__svd_solver': ['full']\n",
    "}\n",
    "\n",
    "gs_lr = GridSearchCV(pipe_lr, param_grid=params_lr, n_jobs=-1)\n",
    "gs_lr.fit(X_train, y_train)\n",
    "print_gs(gs_lr, X_train, X_test, y_train, y_test)"
   ]
  },
  {
   "cell_type": "markdown",
   "metadata": {},
   "source": [
    "**Random Forest Regressor**"
   ]
  },
  {
   "cell_type": "code",
   "execution_count": null,
   "metadata": {
    "ExecuteTime": {
     "end_time": "2021-06-12T19:18:24.469871Z",
     "start_time": "2021-06-12T19:18:18.283388Z"
    },
    "scrolled": true
   },
   "outputs": [],
   "source": [
    "params_rf = {\n",
    "    'rf__max_depth': [5, 10, 15, 20],\n",
    "    'pca__n_components': [0.9, 0.95, 0.99],  # 'mle'],  # \n",
    "    'pca__svd_solver': ['full']\n",
    "}\n",
    "gs_rf = GridSearchCV(pipe_rf, param_grid=params_rf, n_jobs=-1)\n",
    "gs_rf.fit(X_train, y_train)\n",
    "print_gs(gs_rf, X_train, X_test, y_train, y_test)"
   ]
  },
  {
   "cell_type": "code",
   "execution_count": null,
   "metadata": {
    "ExecuteTime": {
     "end_time": "2021-06-12T19:18:27.829494Z",
     "start_time": "2021-06-12T19:18:27.821492Z"
    }
   },
   "outputs": [],
   "source": [
    "# Best Score:  0.24892601047561308\n",
    "# Cross Val Score [0.23869433 0.24892601 0.24315752 0.24273401] +/- [0.05422757 0.05574761 0.05725976 0.05731394]\n",
    "# Test Score:  0.2869630413685961\n",
    "# Best Params:  {'rf__max_depth': 10}"
   ]
  },
  {
   "cell_type": "markdown",
   "metadata": {},
   "source": [
    "**Ada Boost Regressor**"
   ]
  },
  {
   "cell_type": "code",
   "execution_count": null,
   "metadata": {
    "ExecuteTime": {
     "end_time": "2021-06-12T19:18:55.933494Z",
     "start_time": "2021-06-12T19:18:28.189461Z"
    }
   },
   "outputs": [],
   "source": [
    "params_ada = {\n",
    "    'pca__n_components': [0.95, 0.99],  # 'mle'],  # \n",
    "    'pca__svd_solver': ['full'],\n",
    "    'ada__base_estimator': [RandomForestRegressor(max_depth=3,\n",
    "                                                  min_samples_leaf=10,\n",
    "                                                  min_samples_split=10,\n",
    "                                                  n_estimators=75)],\n",
    "    'ada__learning_rate': [0.001]\n",
    "}\n",
    "gs_ada = GridSearchCV(pipe_ada, param_grid=params_ada, n_jobs=-1)\n",
    "gs_ada.fit(X_train, y_train)\n",
    "print_gs(gs_ada, X_train, X_test, y_train, y_test)"
   ]
  },
  {
   "cell_type": "markdown",
   "metadata": {},
   "source": [
    "**Gradient Boosting Regressor**"
   ]
  },
  {
   "cell_type": "code",
   "execution_count": null,
   "metadata": {
    "ExecuteTime": {
     "end_time": "2021-06-12T19:19:01.375109Z",
     "start_time": "2021-06-12T19:18:55.934495Z"
    }
   },
   "outputs": [],
   "source": [
    "params_gb = {\n",
    "    'gb__max_depth': [5, 7, 10],\n",
    "    'pca__n_components': [0.9, 0.95, 0.99],  # 'mle'],  # \n",
    "    'pca__svd_solver': ['full']\n",
    "}\n",
    "gs_gb = GridSearchCV(pipe_gb, param_grid=params_gb, n_jobs=-1)\n",
    "gs_gb.fit(X_train, y_train)\n",
    "print_gs(gs_gb, X_train, X_test, y_train, y_test)"
   ]
  },
  {
   "cell_type": "markdown",
   "metadata": {},
   "source": [
    "**Voting Regressor**"
   ]
  },
  {
   "cell_type": "code",
   "execution_count": null,
   "metadata": {
    "ExecuteTime": {
     "end_time": "2021-06-12T19:19:07.585042Z",
     "start_time": "2021-06-12T19:19:01.376109Z"
    }
   },
   "outputs": [],
   "source": [
    "vote = VotingRegressor([\n",
    "    ('lr', pipe_lr),\n",
    "    ('rf', pipe_rf)\n",
    "])\n",
    "\n",
    "params_vote = {\n",
    "    'lr__pca__n_components': [0.9, 0.95, 0.99],  # 'mle'],  # \n",
    "    'lr__pca__svd_solver': ['full'],\n",
    "    'rf__rf__max_depth': [5, 10, 15, 20],\n",
    "}\n",
    "\n",
    "gs_vote = GridSearchCV(vote,\n",
    "                      param_grid=params_vote,\n",
    "                      n_jobs=-1)\n",
    "gs_vote.fit(X_train, y_train)\n",
    "print_gs(gs_vote, X_train, X_test, y_train, y_test)"
   ]
  },
  {
   "cell_type": "markdown",
   "metadata": {},
   "source": [
    "## Model Scores"
   ]
  },
  {
   "cell_type": "markdown",
   "metadata": {},
   "source": [
    "**Death Rates**\n",
    "\n",
    "|model|test score|cross val mean|cross val std|\n",
    "| :--- | :---: | :---: | :---: |\n",
    "| Baseline | 0 | - | - |\n",
    "| Linear Regression | 0.250 | 0.225 | 0.102 |\n",
    "| Random Forest Regressor | 0.244 | 0.215 | 0.115 |\n",
    "| Ada Boost Regressor | 0.180 | 0.168 | 0.055 |\n",
    "| Gradient Boosting Regressor | 0.223 | 0.177 | 0.111 |"
   ]
  },
  {
   "cell_type": "code",
   "execution_count": null,
   "metadata": {
    "ExecuteTime": {
     "end_time": "2021-06-12T19:29:45.843049Z",
     "start_time": "2021-06-12T19:29:45.824047Z"
    }
   },
   "outputs": [],
   "source": [
    "gs_lr.best_estimator_.named_steps['lr']"
   ]
  },
  {
   "cell_type": "code",
   "execution_count": null,
   "metadata": {},
   "outputs": [],
   "source": []
  }
 ],
 "metadata": {
  "kernelspec": {
   "display_name": "team-orange",
   "language": "python",
   "name": "team-orange"
  },
  "language_info": {
   "codemirror_mode": {
    "name": "ipython",
    "version": 3
   },
   "file_extension": ".py",
   "mimetype": "text/x-python",
   "name": "python",
   "nbconvert_exporter": "python",
   "pygments_lexer": "ipython3",
   "version": "3.8.5"
  }
 },
 "nbformat": 4,
 "nbformat_minor": 4
}
